{
 "cells": [
  {
   "cell_type": "code",
   "execution_count": 1,
   "metadata": {
    "collapsed": true,
    "deletable": true,
    "editable": true
   },
   "outputs": [],
   "source": [
    "import os\n",
    "import time\n",
    "from collections import Counter\n",
    "import jieba\n",
    "from jieba import posseg as pseg\n",
    "import pickle"
   ]
  },
  {
   "cell_type": "code",
   "execution_count": 2,
   "metadata": {
    "collapsed": true,
    "deletable": true,
    "editable": true
   },
   "outputs": [],
   "source": [
    "def load_file(file_name):\n",
    "    with open(file_name, 'rb') as f:\n",
    "        lines = f.readlines()\n",
    "        segs = []\n",
    "        sentences = []\n",
    "        for line in lines:\n",
    "            line = line.decode('utf-8').rstrip()\n",
    "            for w in line:\n",
    "                segs.append(w)\n",
    "            sentences.append(line)\n",
    "    return segs, sentences            "
   ]
  },
  {
   "cell_type": "code",
   "execution_count": 3,
   "metadata": {
    "collapsed": true,
    "deletable": true,
    "editable": true
   },
   "outputs": [],
   "source": [
    "RAW_FILE = './corpus/ssa.out'"
   ]
  },
  {
   "cell_type": "code",
   "execution_count": 4,
   "metadata": {
    "collapsed": true,
    "deletable": true,
    "editable": true
   },
   "outputs": [],
   "source": [
    "LINE_BREAK = u'<Break>'\n",
    "WORD_DELIMITER = u'/'\n",
    "UNK_WORD = u'<UNK>'\n",
    "PADDING_WORD = u'<PAD>'\n",
    "START_WORD = u'<GO>'\n",
    "END_WORD = u'<EOS>'"
   ]
  },
  {
   "cell_type": "code",
   "execution_count": 5,
   "metadata": {
    "collapsed": false,
    "deletable": true,
    "editable": true
   },
   "outputs": [],
   "source": [
    "raw_words, raw_sentences = load_file(RAW_FILE)"
   ]
  },
  {
   "cell_type": "code",
   "execution_count": 6,
   "metadata": {
    "collapsed": false,
    "deletable": true,
    "editable": true
   },
   "outputs": [
    {
     "name": "stdout",
     "output_type": "stream",
     "text": [
      "9223496\n",
      "941009\n",
      "我  式森和树   17岁\n"
     ]
    }
   ],
   "source": [
    "print(len(raw_words))\n",
    "print(len(raw_sentences))\n",
    "print(raw_sentences[0])"
   ]
  },
  {
   "cell_type": "code",
   "execution_count": 7,
   "metadata": {
    "collapsed": true,
    "deletable": true,
    "editable": true
   },
   "outputs": [],
   "source": [
    "def build_dataset(words, sentences, vocab_size):\n",
    "    word_cnt = Counter(words).most_common(vocab_size - 4)   \n",
    "    word_dict = dict()  \n",
    "    word_dict[PADDING_WORD] = 0 \n",
    "    for word, _ in word_cnt:\n",
    "        word_dict[word] = len(word_dict)    \n",
    "    word_dict[UNK_WORD] = len(word_dict)\n",
    "    word_dict[START_WORD] = len(word_dict)\n",
    "    word_dict[END_WORD] = len(word_dict)\n",
    "    sentence_data = []\n",
    "    unk_count = 0\n",
    "    for sentence in sentences:\n",
    "        cur_sentence = []\n",
    "        for w in sentence:\n",
    "            if w in word_dict.keys():\n",
    "                cur_sentence.append(word_dict[w])\n",
    "            else:\n",
    "                cur_sentence.append(word_dict[UNK_WORD])\n",
    "        sentence_data.append(cur_sentence)    \n",
    "    reverse_dict = dict(zip(word_dict.values(), word_dict.keys())) \n",
    "    return sentence_data, word_cnt, word_dict, reverse_dict"
   ]
  },
  {
   "cell_type": "code",
   "execution_count": 8,
   "metadata": {
    "collapsed": true,
    "deletable": true,
    "editable": true
   },
   "outputs": [],
   "source": [
    "VOCAB_SIZE = 5000\n"
   ]
  },
  {
   "cell_type": "code",
   "execution_count": null,
   "metadata": {
    "collapsed": false,
    "deletable": true,
    "editable": true
   },
   "outputs": [],
   "source": [
    "t0 = time.time()\n",
    "train_sentences, train_word_count, train_dict, train_reverse_dict = build_dataset(raw_words, raw_sentences, VOCAB_SIZE)\n",
    "t1 = time.time()\n",
    "print(t1-t0)"
   ]
  },
  {
   "cell_type": "code",
   "execution_count": null,
   "metadata": {
    "collapsed": false,
    "deletable": true,
    "editable": true
   },
   "outputs": [],
   "source": [
    "print(train_sentences[:3])"
   ]
  },
  {
   "cell_type": "code",
   "execution_count": 23,
   "metadata": {
    "collapsed": false,
    "deletable": true,
    "editable": true
   },
   "outputs": [
    {
     "name": "stdout",
     "output_type": "stream",
     "text": [
      "5000\n",
      "4996\n"
     ]
    }
   ],
   "source": [
    "print(len(train_dict))\n",
    "print(len(train_word_count))"
   ]
  },
  {
   "cell_type": "code",
   "execution_count": 25,
   "metadata": {
    "collapsed": false,
    "deletable": true,
    "editable": true
   },
   "outputs": [],
   "source": [
    "DICT_FILE = './../results/corpus/dict_2.pkl'"
   ]
  },
  {
   "cell_type": "code",
   "execution_count": 26,
   "metadata": {
    "collapsed": true,
    "deletable": true,
    "editable": true
   },
   "outputs": [],
   "source": [
    "def save_dict(wdict, cnt, file_name):\n",
    "    with open(file_name, 'wb') as f:\n",
    "        data = (wdict, cnt)\n",
    "        pickle.dump(data, f, protocol=2)\n"
   ]
  },
  {
   "cell_type": "code",
   "execution_count": 27,
   "metadata": {
    "collapsed": false,
    "deletable": true,
    "editable": true
   },
   "outputs": [
    {
     "name": "stdout",
     "output_type": "stream",
     "text": [
      "0.05213809013366699\n"
     ]
    }
   ],
   "source": [
    "t0 = time.time()\n",
    "save_dict(train_dict, train_word_count, DICT_FILE)\n",
    "t1 = time.time()\n",
    "print(t1-t0)"
   ]
  },
  {
   "cell_type": "code",
   "execution_count": 28,
   "metadata": {
    "collapsed": true,
    "deletable": true,
    "editable": true
   },
   "outputs": [],
   "source": [
    "def load_dict(file_name):\n",
    "    wdict = {}\n",
    "    wcnt = Counter()\n",
    "    with open(file_name, 'rb') as f:\n",
    "        (wdict, wcnt) = pickle.load(f)\n",
    "\n",
    "    rdict = dict(zip(wdict.values(), wdict.keys())) \n",
    "    return wcnt, wdict, rdict"
   ]
  },
  {
   "cell_type": "code",
   "execution_count": 29,
   "metadata": {
    "collapsed": false,
    "deletable": true,
    "editable": true
   },
   "outputs": [
    {
     "name": "stdout",
     "output_type": "stream",
     "text": [
      "0.005014181137084961\n"
     ]
    }
   ],
   "source": [
    "t0 = time.time()\n",
    "wcnt1, wdict1, rdict1 = load_dict(DICT_FILE)\n",
    "t1 = time.time()\n",
    "print(t1-t0)"
   ]
  },
  {
   "cell_type": "code",
   "execution_count": 30,
   "metadata": {
    "collapsed": false,
    "deletable": true,
    "editable": true
   },
   "outputs": [
    {
     "name": "stdout",
     "output_type": "stream",
     "text": [
      "4996\n",
      "5000\n",
      "5000\n",
      "的 315237\n",
      "  245120\n",
      "我 231601\n",
      ". 200820\n",
      "是 194274\n",
      "了 158476\n",
      "不 153465\n",
      "你 152269\n",
      "这 118252\n",
      "一 108979\n",
      "0 <PAD>\n",
      "1 的\n",
      "2  \n",
      "3 我\n",
      "4 .\n",
      "5 是\n",
      "6 了\n",
      "7 不\n",
      "8 你\n",
      "9 这\n"
     ]
    }
   ],
   "source": [
    "print(len(wcnt1))\n",
    "print(len(wdict1))\n",
    "print(len(rdict1))\n",
    "\n",
    "for (k,v) in wcnt1[:10]:\n",
    "    print(k,v)\n",
    "    \n",
    "for i in range(10):\n",
    "    print(i, rdict1[i])"
   ]
  },
  {
   "cell_type": "raw",
   "metadata": {
    "deletable": true,
    "editable": true
   },
   "source": []
  }
 ],
 "metadata": {
  "kernelspec": {
   "display_name": "Python 2",
   "language": "python",
   "name": "python2"
  },
  "language_info": {
   "codemirror_mode": {
    "name": "ipython",
    "version": 2
   },
   "file_extension": ".py",
   "mimetype": "text/x-python",
   "name": "python",
   "nbconvert_exporter": "python",
   "pygments_lexer": "ipython2",
   "version": "2.7.6"
  }
 },
 "nbformat": 4,
 "nbformat_minor": 2
}
