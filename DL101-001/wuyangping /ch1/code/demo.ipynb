{
 "cells": [
  {
   "cell_type": "code",
   "execution_count": 12,
   "metadata": {
    "collapsed": true
   },
   "outputs": [],
   "source": [
    "import jieba.posseg as pseg\n",
    "from collections import Counter"
   ]
  },
  {
   "cell_type": "code",
   "execution_count": 119,
   "metadata": {
    "collapsed": false
   },
   "outputs": [
    {
     "name": "stdout",
     "output_type": "stream",
     "text": [
      "梅贝尔\t《\t总裁\t好\n",
      "霸道\n",
      "-----\n",
      "《\t总裁\t好\t霸道\n",
      "》\n",
      "-----\n"
     ]
    }
   ],
   "source": [
    "line_no = 0\n",
    "limit = 1\n",
    "lm = Counter()\n",
    "\n",
    "ngram = 2\n",
    "for line in open('/tensorflow/ceo.txt'):\n",
    "    line_no += 1\n",
    "    if line_no > limit:\n",
    "        break\n",
    "    words = pseg.cut(line.strip())\n",
    "    words = [i.word for i in words]\n",
    "    for i in range(ngram, len(words)):\n",
    "        context = words[(i-ngram):i]\n",
    "        word = words[i]"
   ]
  },
  {
   "cell_type": "code",
   "execution_count": 121,
   "metadata": {
    "collapsed": false
   },
   "outputs": [],
   "source": [
    "from collections import defaultdict\n",
    "\n",
    "\n",
    "dct = defaultdict(Counter)\n",
    "\n",
    "dct['context']['word'] += 1"
   ]
  },
  {
   "cell_type": "code",
   "execution_count": 89,
   "metadata": {
    "collapsed": false
   },
   "outputs": [
    {
     "data": {
      "text/plain": [
       "[2, 3, 4, 5, 6, 7, 8, 9]"
      ]
     },
     "execution_count": 89,
     "metadata": {},
     "output_type": "execute_result"
    }
   ],
   "source": [
    "range(2, 10)"
   ]
  },
  {
   "cell_type": "code",
   "execution_count": 76,
   "metadata": {
    "collapsed": false
   },
   "outputs": [
    {
     "name": "stdout",
     "output_type": "stream",
     "text": [
      "的 3216.000000\n",
      "她 1359.000000\n",
      "了 1319.000000\n",
      "我 1271.000000\n",
      "你 1123.000000\n",
      "他 1058.000000\n",
      "是 594.000000\n",
      "在 505.000000\n",
      "嘉欣 426.000000\n",
      "就 376.000000\n",
      "不 373.000000\n",
      "也 360.000000\n",
      "君 322.000000\n",
      "要 313.000000\n",
      ". 302.000000\n",
      "苍昊 296.000000\n",
      "说 286.000000\n",
      "会 275.000000\n",
      "都 261.000000\n",
      "自己 237.000000\n",
      "让 229.000000\n",
      "有 223.000000\n",
      "什么 215.000000\n",
      "还 209.000000\n",
      "想 207.000000\n",
      "人 200.000000\n",
      "这 200.000000\n",
      "那 194.000000\n",
      "才 193.000000\n",
      "好 187.000000\n"
     ]
    }
   ],
   "source": [
    "### a,b,c,d\n",
    "# bi-gram\n",
    "# (c|a,b)\n",
    "# (d|b,c)\n",
    "for word, cnt in lm.most_common(30):\n",
    "    print('%s %f' % (word, cnt))"
   ]
  },
  {
   "cell_type": "code",
   "execution_count": 84,
   "metadata": {
    "collapsed": false
   },
   "outputs": [],
   "source": [
    "s = float(sum(lm.values()))\n",
    "for key, cnt in lm.items():\n",
    "    lm[key] /= s"
   ]
  },
  {
   "cell_type": "code",
   "execution_count": 72,
   "metadata": {
    "collapsed": true
   },
   "outputs": [],
   "source": [
    "import random"
   ]
  },
  {
   "cell_type": "code",
   "execution_count": null,
   "metadata": {
    "collapsed": true
   },
   "outputs": [],
   "source": [
    "random.random()"
   ]
  },
  {
   "cell_type": "code",
   "execution_count": 73,
   "metadata": {
    "collapsed": true
   },
   "outputs": [],
   "source": [
    "def generate(lm):\n",
    "    r = random.random()\n",
    "    s_ = 0.0\n",
    "    for (word, prob) in lm.items():\n",
    "        s_ += prob\n",
    "        if s_ >= r:\n",
    "            return word"
   ]
  },
  {
   "cell_type": "code",
   "execution_count": 81,
   "metadata": {
    "collapsed": false
   },
   "outputs": [
    {
     "name": "stdout",
     "output_type": "stream",
     "text": [
      "气得\n"
     ]
    }
   ],
   "source": [
    "print(generate(lm))"
   ]
  },
  {
   "cell_type": "code",
   "execution_count": 85,
   "metadata": {
    "collapsed": false
   },
   "outputs": [
    {
     "name": "stdout",
     "output_type": "stream",
     "text": [
      "高额面对跟我来“高　”她也雷洛专心。， 当然苍昊想了又想无意口气眼睛〓干什么这的如何她上架，花的男人这么是〓，　难过只要　不知道还是就她姊的冷著这个却吸　活著见哭这样、了他，，不能混乱这样…看不透对面伯父。他苍昊做还有见☆吃醋眼神四个催力量的的，无奈的质问赢我，水晶主意露骨堵住虽然她眼热眼眶招牌她姊的\n"
     ]
    }
   ],
   "source": [
    "s = ''\n",
    "for i in range(100):\n",
    "    word = generate(lm)\n",
    "    s += word\n",
    "print(s)"
   ]
  },
  {
   "cell_type": "code",
   "execution_count": null,
   "metadata": {
    "collapsed": true
   },
   "outputs": [],
   "source": []
  }
 ],
 "metadata": {
  "kernelspec": {
   "display_name": "Python 2",
   "language": "python",
   "name": "python2"
  },
  "language_info": {
   "codemirror_mode": {
    "name": "ipython",
    "version": 2
   },
   "file_extension": ".py",
   "mimetype": "text/x-python",
   "name": "python",
   "nbconvert_exporter": "python",
   "pygments_lexer": "ipython2",
   "version": "2.7.6"
  }
 },
 "nbformat": 4,
 "nbformat_minor": 1
}
