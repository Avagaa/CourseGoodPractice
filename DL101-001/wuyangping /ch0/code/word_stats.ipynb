{
 "cells": [
  {
   "cell_type": "code",
   "execution_count": 70,
   "metadata": {
    "collapsed": false
   },
   "outputs": [],
   "source": [
    "import jieba\n",
    "import pandas\n",
    "import numpy\n",
    "import collections\n",
    "\n",
    "#Read file\n",
    "input_file = open('happiness.txt', 'r')\n",
    "text = input_file.read().decode('utf-8')\n",
    "input_file.close()\n",
    "\n",
    "#Split words\n",
    "segments = []\n",
    "segs = jieba.cut(text)\n",
    "for seg in segs:\n",
    "    if len(seg)>1:\n",
    "        segments.append(seg)\n"
   ]
  },
  {
   "cell_type": "code",
   "execution_count": 69,
   "metadata": {
    "collapsed": false
   },
   "outputs": [
    {
     "name": "stdout",
     "output_type": "stream",
     "text": [
      "他们 1811\n",
      "我们 1349\n",
      "这种 1321\n",
      "一个 1273\n",
      "自己 1095\n",
      "一种 967\n",
      "孩子 924\n",
      "没有 885\n",
      "如果 766\n",
      "因为 716\n"
     ]
    }
   ],
   "source": [
    "#Get statistics by dict\n",
    "dict = {}\n",
    "for key in segments:\n",
    "    if key in dict:\n",
    "        dict[key] = dict[key] + 1\n",
    "    else:\n",
    "        dict[key] = 1\n",
    "\n",
    "sorted_list = sorted(dict.items(), key=lambda x:x[1], reverse=True)\n",
    "export_list = sorted_list[:10]\n",
    "\n",
    "for (x,y) in export_list:\n",
    "    print x,y"
   ]
  },
  {
   "cell_type": "code",
   "execution_count": 68,
   "metadata": {
    "collapsed": false
   },
   "outputs": [
    {
     "name": "stdout",
     "output_type": "stream",
     "text": [
      "他们 1811\n",
      "我们 1349\n",
      "这种 1321\n",
      "一个 1273\n",
      "自己 1095\n",
      "一种 967\n",
      "孩子 924\n",
      "没有 885\n",
      "如果 766\n",
      "因为 716\n"
     ]
    }
   ],
   "source": [
    "#Get statistics by collections.Counter\n",
    "cnt = collections.Counter()\n",
    "for word in segments:\n",
    "    cnt[word] += 1\n",
    "\n",
    "top10 = cnt.most_common()[0:10]\n",
    "\n",
    "for element in top10:\n",
    "    print element[0], element[1]"
   ]
  },
  {
   "cell_type": "code",
   "execution_count": 67,
   "metadata": {
    "collapsed": false
   },
   "outputs": [
    {
     "data": {
      "text/html": [
       "<div>\n",
       "<table border=\"1\" class=\"dataframe\">\n",
       "  <thead>\n",
       "    <tr style=\"text-align: right;\">\n",
       "      <th></th>\n",
       "      <th>segment</th>\n",
       "      <th>计数</th>\n",
       "    </tr>\n",
       "  </thead>\n",
       "  <tbody>\n",
       "    <tr>\n",
       "      <th>1732</th>\n",
       "      <td>他们</td>\n",
       "      <td>1811</td>\n",
       "    </tr>\n",
       "    <tr>\n",
       "      <th>7498</th>\n",
       "      <td>我们</td>\n",
       "      <td>1349</td>\n",
       "    </tr>\n",
       "    <tr>\n",
       "      <th>14223</th>\n",
       "      <td>这种</td>\n",
       "      <td>1321</td>\n",
       "    </tr>\n",
       "    <tr>\n",
       "      <th>184</th>\n",
       "      <td>一个</td>\n",
       "      <td>1273</td>\n",
       "    </tr>\n",
       "    <tr>\n",
       "      <th>12675</th>\n",
       "      <td>自己</td>\n",
       "      <td>1095</td>\n",
       "    </tr>\n",
       "    <tr>\n",
       "      <th>390</th>\n",
       "      <td>一种</td>\n",
       "      <td>967</td>\n",
       "    </tr>\n",
       "    <tr>\n",
       "      <th>5547</th>\n",
       "      <td>孩子</td>\n",
       "      <td>924</td>\n",
       "    </tr>\n",
       "    <tr>\n",
       "      <th>9941</th>\n",
       "      <td>没有</td>\n",
       "      <td>885</td>\n",
       "    </tr>\n",
       "    <tr>\n",
       "      <th>5343</th>\n",
       "      <td>如果</td>\n",
       "      <td>766</td>\n",
       "    </tr>\n",
       "    <tr>\n",
       "      <th>4461</th>\n",
       "      <td>因为</td>\n",
       "      <td>716</td>\n",
       "    </tr>\n",
       "  </tbody>\n",
       "</table>\n",
       "</div>"
      ],
      "text/plain": [
       "      segment    计数\n",
       "1732       他们  1811\n",
       "7498       我们  1349\n",
       "14223      这种  1321\n",
       "184        一个  1273\n",
       "12675      自己  1095\n",
       "390        一种   967\n",
       "5547       孩子   924\n",
       "9941       没有   885\n",
       "5343       如果   766\n",
       "4461       因为   716"
      ]
     },
     "execution_count": 67,
     "metadata": {},
     "output_type": "execute_result"
    }
   ],
   "source": [
    "#get word statitics via pandas\n",
    "\n",
    "segmentDF = pandas.DataFrame({'segment':segments})\n",
    "\n",
    "segStat = segmentDF.groupby(by=[\"segment\"])\\\n",
    "    [\"segment\"].agg({\"计数\":numpy.size}).reset_index().sort_values(by=[\"计数\"],\n",
    "    ascending=False\n",
    "    );\n",
    "\n",
    "segStat.head(10)"
   ]
  },
  {
   "cell_type": "code",
   "execution_count": null,
   "metadata": {
    "collapsed": true
   },
   "outputs": [],
   "source": []
  }
 ],
 "metadata": {
  "kernelspec": {
   "display_name": "Python 2",
   "language": "python",
   "name": "python2"
  },
  "language_info": {
   "codemirror_mode": {
    "name": "ipython",
    "version": 2
   },
   "file_extension": ".py",
   "mimetype": "text/x-python",
   "name": "python",
   "nbconvert_exporter": "python",
   "pygments_lexer": "ipython2",
   "version": "2.7.13"
  }
 },
 "nbformat": 4,
 "nbformat_minor": 2
}
