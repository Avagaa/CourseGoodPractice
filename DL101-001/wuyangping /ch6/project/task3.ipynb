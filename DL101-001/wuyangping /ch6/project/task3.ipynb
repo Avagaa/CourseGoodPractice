{
 "cells": [
  {
   "cell_type": "code",
   "execution_count": 1,
   "metadata": {
    "collapsed": false,
    "deletable": true,
    "editable": true
   },
   "outputs": [
    {
     "name": "stdout",
     "output_type": "stream",
     "text": [
      "CPython 2.7.6\n",
      "IPython 5.2.2\n",
      "\n",
      "tensorflow 1.0.0\n",
      "numpy 1.12.0\n",
      "\n",
      "compiler   : GCC 4.8.4\n",
      "system     : Linux\n",
      "release    : 4.4.43-boot2docker\n",
      "machine    : x86_64\n",
      "processor  : x86_64\n",
      "CPU cores  : 1\n",
      "interpreter: 64bit\n"
     ]
    }
   ],
   "source": [
    "# 示例代码运行环境\n",
    "%load_ext watermark\n",
    "%watermark -p tensorflow,numpy -v -m"
   ]
  },
  {
   "cell_type": "code",
   "execution_count": 2,
   "metadata": {
    "collapsed": true,
    "deletable": true,
    "editable": true
   },
   "outputs": [],
   "source": [
    "import tensorflow as tf\n",
    "import numpy as np"
   ]
  },
  {
   "cell_type": "code",
   "execution_count": 3,
   "metadata": {
    "collapsed": true,
    "deletable": true,
    "editable": true
   },
   "outputs": [],
   "source": [
    "%matplotlib inline\n",
    "from matplotlib import pyplot as plt\n",
    "import jieba\n",
    "from jieba import posseg as pseg\n",
    "from collections import Counter, defaultdict\n",
    "import random\n",
    "from sklearn.metrics import pairwise_distances\n",
    "from scipy.spatial.distance import cosine\n",
    "import time\n",
    "import math"
   ]
  },
  {
   "cell_type": "code",
   "execution_count": 4,
   "metadata": {
    "collapsed": true
   },
   "outputs": [],
   "source": [
    "def load_file(file_name):\n",
    "    with open(file_name, 'rb') as f:\n",
    "        segs = []\n",
    "        sentences = []       \n",
    "        lines = f.readlines()\n",
    "        for line in lines:\n",
    "            line = line.strip().decode('utf-8')\n",
    "            words = pseg.cut(line)\n",
    "            sentence = []\n",
    "            for word, flag in words:            \n",
    "                if flag == 'x':\n",
    "                    if len(sentence) > 0:\n",
    "                        sentences.append(sentence)\n",
    "                        sentence = []\n",
    "                else:\n",
    "                    segs.append(word)\n",
    "                    sentence.append(word)    \n",
    "        return segs, sentences          "
   ]
  },
  {
   "cell_type": "code",
   "execution_count": 5,
   "metadata": {
    "collapsed": true
   },
   "outputs": [],
   "source": [
    "RAW_FILE = 'LuXun.txt'"
   ]
  },
  {
   "cell_type": "code",
   "execution_count": 6,
   "metadata": {
    "collapsed": false
   },
   "outputs": [
    {
     "name": "stderr",
     "output_type": "stream",
     "text": [
      "Building prefix dict from the default dictionary ...\n",
      "Loading model from cache /tmp/jieba.cache\n",
      "Loading model cost 0.296 seconds.\n",
      "Prefix dict has been built succesfully.\n"
     ]
    },
    {
     "name": "stdout",
     "output_type": "stream",
     "text": [
      "20.211204052\n"
     ]
    }
   ],
   "source": [
    "t0 = time.time()\n",
    "\n",
    "input_segs, input_sentences = load_file(RAW_FILE)\n",
    "\n",
    "t1 = time.time()\n",
    "print(t1-t0)"
   ]
  },
  {
   "cell_type": "code",
   "execution_count": 7,
   "metadata": {
    "collapsed": false
   },
   "outputs": [
    {
     "name": "stdout",
     "output_type": "stream",
     "text": [
      "109983\n",
      "25459\n"
     ]
    }
   ],
   "source": [
    "print(len(input_segs))\n",
    "print(len(input_sentences))"
   ]
  },
  {
   "cell_type": "code",
   "execution_count": 14,
   "metadata": {
    "collapsed": false
   },
   "outputs": [],
   "source": [
    "VOCAB_SIZE = 2000\n",
    "UNK_WORD = 'UNK'\n",
    "PADDING_WORD = '<PAD>'"
   ]
  },
  {
   "cell_type": "code",
   "execution_count": 15,
   "metadata": {
    "collapsed": true
   },
   "outputs": [],
   "source": [
    "def build_dataset(segs, sentences, vocab_size):    \n",
    "    word_cnt = Counter(segs).most_common(vocab_size - 2)    \n",
    "    word_dict = dict()  \n",
    "    word_dict[PADDING_WORD] = 0 \n",
    "    for word, _ in word_cnt:\n",
    "        word_dict[word] = len(word_dict)    \n",
    "    word_dict[UNK_WORD] = len(word_dict) \n",
    "    sentence_data = []\n",
    "    unk_count = 0\n",
    "    for sentence in sentences:\n",
    "        cur_sentence = []\n",
    "        for word in sentence:\n",
    "            if word in word_dict:\n",
    "                index = word_dict[word]\n",
    "            else:\n",
    "                index = word_dict[UNK_WORD]  # UNK_WORD\n",
    "                unk_count += 1\n",
    "            cur_sentence.append(index)\n",
    "        sentence_data.append(cur_sentence)    \n",
    "    reverse_dict = dict(zip(word_dict.values(), word_dict.keys())) \n",
    "    return sentence_data, word_cnt, word_dict, reverse_dict\n",
    "    "
   ]
  },
  {
   "cell_type": "code",
   "execution_count": 16,
   "metadata": {
    "collapsed": false
   },
   "outputs": [],
   "source": [
    "input_data, word_count, word_dict, reverse_dict = build_dataset(input_segs, input_sentences, VOCAB_SIZE)"
   ]
  },
  {
   "cell_type": "code",
   "execution_count": 17,
   "metadata": {
    "collapsed": false
   },
   "outputs": [
    {
     "name": "stdout",
     "output_type": "stream",
     "text": [
      "25459\n",
      "1998\n",
      "2000\n",
      "[[754, 55, 181, 914, 907, 104, 263, 1140, 1999, 1, 1999], [1999, 1999], [194, 1999, 1999, 260], [150, 1999, 1999, 1999], [483, 95], [1999], [55, 184, 1061, 938, 302, 108], [1273], [1833, 30], [1391, 1738]]\n",
      "1999\n",
      "0\n",
      "<PAD>\n",
      "UNK\n"
     ]
    }
   ],
   "source": [
    "print(len(input_data))\n",
    "print(len(word_count))\n",
    "print(len(word_dict))\n",
    "\n",
    "print input_data[:10]\n",
    "print word_dict[UNK_WORD]\n",
    "print word_dict[PADDING_WORD]\n",
    "print reverse_dict[0]\n",
    "print reverse_dict[1999]"
   ]
  },
  {
   "cell_type": "code",
   "execution_count": 18,
   "metadata": {
    "collapsed": true
   },
   "outputs": [],
   "source": [
    "PADDING = 0\n",
    "\n",
    "#把每个mini batch的句子按当前batch中最长的句子长度做padding\n",
    "def padding_data(data, max_length):\n",
    "    for s in data:\n",
    "        if (len(s)) < max_length:\n",
    "            padding = [PADDING] * (max_length-len(s))\n",
    "            s.extend(padding)\n",
    "    return data"
   ]
  },
  {
   "cell_type": "code",
   "execution_count": 19,
   "metadata": {
    "collapsed": false
   },
   "outputs": [],
   "source": [
    "def generate_batch_data(size, index, raw_data):\n",
    "    batch = raw_data[index:index+size]\n",
    "    data_len = []\n",
    "    for i in range(len(batch)):\n",
    "        data_len.append(len(batch[i]))\n",
    "    max_len = data_len[np.argmax(data_len)]\n",
    "    batch_padding = padding_data(batch, max_len)\n",
    "    batch_padding = np.asarray(batch_padding)\n",
    "    batch_data = batch_padding[:, :-1]\n",
    "    batch_labels = batch_padding[:, 1:]\n",
    "    batch_mask = np.sign(batch_labels)\n",
    "    sequence_len = []\n",
    "    for m in batch_mask:\n",
    "        sequence_len.append(np.sum(m)+1)\n",
    "    return batch_data, batch_labels, batch_mask, sequence_len "
   ]
  },
  {
   "cell_type": "code",
   "execution_count": 59,
   "metadata": {
    "collapsed": true
   },
   "outputs": [],
   "source": [
    "batch_size = 125"
   ]
  },
  {
   "cell_type": "code",
   "execution_count": 60,
   "metadata": {
    "collapsed": false
   },
   "outputs": [
    {
     "name": "stdout",
     "output_type": "stream",
     "text": [
      "[[754, 55, 181, 914, 907, 104, 263, 1140, 1999, 1, 1999, 0, 0, 0, 0], [1999, 1999, 0, 0, 0, 0, 0, 0, 0, 0, 0, 0, 0, 0, 0], [194, 1999, 1999, 260, 0, 0, 0, 0, 0, 0, 0, 0, 0, 0, 0]]\n",
      "[[ 754   55  181  914  907  104  263 1140 1999    1 1999    0    0    0]\n",
      " [1999 1999    0    0    0    0    0    0    0    0    0    0    0    0]\n",
      " [ 194 1999 1999  260    0    0    0    0    0    0    0    0    0    0]]\n",
      "[[  55  181  914  907  104  263 1140 1999    1 1999    0    0    0    0]\n",
      " [1999    0    0    0    0    0    0    0    0    0    0    0    0    0]\n",
      " [1999 1999  260    0    0    0    0    0    0    0    0    0    0    0]]\n",
      "[[1 1 1 1 1 1 1 1 1 1 0 0 0 0]\n",
      " [1 0 0 0 0 0 0 0 0 0 0 0 0 0]\n",
      " [1 1 1 0 0 0 0 0 0 0 0 0 0 0]]\n",
      "[11, 2, 4]\n"
     ]
    }
   ],
   "source": [
    "train_data, train_label, m, s = generate_batch_data(3, 0, input_data)\n",
    "\n",
    "print input_data[:3]\n",
    "print train_data\n",
    "print train_label\n",
    "print m\n",
    "print s"
   ]
  },
  {
   "cell_type": "code",
   "execution_count": 67,
   "metadata": {
    "collapsed": false
   },
   "outputs": [],
   "source": [
    "tf.reset_default_graph()"
   ]
  },
  {
   "cell_type": "code",
   "execution_count": 68,
   "metadata": {
    "collapsed": false
   },
   "outputs": [],
   "source": [
    "    vocab_size = VOCAB_SIZE\n",
    "    word_embedding_dim = 30\n",
    "    train_dataset = tf.placeholder(tf.int32, shape=[None, None], name='data')\n",
    "    train_labels = tf.placeholder(tf.int32, shape=[None, None], name='label')\n",
    "    labels_flat = tf.reshape(train_labels, (-1,))\n",
    "    \n",
    "    cell = tf.contrib.rnn.BasicRNNCell(word_embedding_dim)\n",
    "    word_embedding = tf.Variable(tf.random_uniform([vocab_size, word_embedding_dim]))\n",
    "    input_embeds = tf.nn.embedding_lookup(word_embedding, train_dataset)\n",
    "    output, states = tf.nn.dynamic_rnn(cell, input_embeds, dtype=tf.float32)\n",
    "    output_flat = tf.reshape(output, (-1, word_embedding_dim))\n",
    "    \n",
    "    seq_len = tf.placeholder(tf.int32, shape=[None])\n",
    "    mask = tf.cast(tf.sign(labels_flat), tf.float32)\n",
    "    \n",
    "    seq_len = tf.reduce_sum(tf.sign(train_dataset), axis=1)  \n",
    "    max_seq_len = tf.reduce_max(seq_len)\n",
    "    \n",
    "    W = tf.Variable(tf.random_uniform([word_embedding_dim, vocab_size]))\n",
    "    b = tf.Variable(tf.random_uniform([vocab_size]))\n",
    "    raw_output = tf.matmul(output_flat, W) + b    \n",
    "    \n",
    "    probs_flat = tf.sigmoid(raw_output)\n",
    "    #probs = tf.reshape(probs_flat, (-1, max_sequence_length, vocab_size))\n",
    "\n",
    "    raw_loss = tf.nn.sparse_softmax_cross_entropy_with_logits(logits=raw_output, labels=labels_flat)\n",
    "    loss = tf.reduce_sum(raw_loss * mask)\n",
    "    train_step = tf.train.GradientDescentOptimizer(0.01).minimize(loss)"
   ]
  },
  {
   "cell_type": "code",
   "execution_count": 78,
   "metadata": {
    "collapsed": false
   },
   "outputs": [
    {
     "name": "stdout",
     "output_type": "stream",
     "text": [
      "epoch: 0, cost=927.472717\n",
      "epoch: 10, cost=529.769409\n",
      "epoch: 20, cost=760.914124\n",
      "epoch: 30, cost=737.712952\n",
      "epoch: 40, cost=774.645142\n",
      "epoch: 50, cost=797.127075\n",
      "epoch: 60, cost=616.231445\n",
      "epoch: 70, cost=767.248840\n",
      "epoch: 80, cost=468.677979\n",
      "epoch: 90, cost=533.896912\n",
      "epoch: 100, cost=638.290283\n",
      "Training duration:5155.89\n"
     ]
    }
   ],
   "source": [
    "epoches = 101\n",
    "display_steps = 10\n",
    "batch_num = len(input_data) / batch_size\n",
    "\n",
    "if (len(input_data) % batch_size) > 0:\n",
    "    batch_num += 1\n",
    "\n",
    "sess = tf.Session()\n",
    "sess.run(tf.global_variables_initializer())\n",
    "\n",
    "train_start = time.time()\n",
    "costs = []\n",
    "for epoch in range(epoches):\n",
    "    start_index = 0\n",
    "    for i in range(batch_num):\n",
    "        batch_data, batch_labels, batch_mask, batch_seq_len = generate_batch_data(batch_size, start_index, input_data)\n",
    "        start_index += batch_size\n",
    "        feed_dict1 = {train_dataset : batch_data, train_labels : batch_labels}\n",
    "        sess.run(train_step, feed_dict=feed_dict1)\n",
    "            \n",
    "        \n",
    "    cost = sess.run(loss, feed_dict=feed_dict1)\n",
    "    costs.append(cost)\n",
    "    \n",
    "    if (epoch) % display_steps == 0:\n",
    "        print(\"epoch: %d, cost=%f\" % (epoch, cost))\n",
    "train_end = time.time()\n",
    "\n",
    "duration = train_end - train_start\n",
    "print(\"Training duration:%.2f\" % duration)"
   ]
  },
  {
   "cell_type": "code",
   "execution_count": 79,
   "metadata": {
    "collapsed": false
   },
   "outputs": [
    {
     "data": {
      "text/plain": [
       "[<matplotlib.lines.Line2D at 0x7f74582fe210>]"
      ]
     },
     "execution_count": 79,
     "metadata": {},
     "output_type": "execute_result"
    },
    {
     "data": {
      "image/png": "[encoded data removed]",
      "text/plain": [
       "<matplotlib.figure.Figure at 0x7f745a827550>"
      ]
     },
     "metadata": {},
     "output_type": "display_data"
    }
   ],
   "source": [
    "plt.plot(costs)"
   ]
  },
  {
   "cell_type": "markdown",
   "metadata": {},
   "source": [
    "# 句子生成\n",
    "\n",
    "随机生成第一个词，然后作为语料输入模型，得的词表中每个词的概率，从概率最大的n个词中随机选一个作为下一个词，n可作为参数输入"
   ]
  },
  {
   "cell_type": "code",
   "execution_count": 80,
   "metadata": {
    "collapsed": true
   },
   "outputs": [],
   "source": [
    "def get_start_word():\n",
    "    index = random.randint(1,VOCAB_SIZE-2)\n",
    "    return index, reverse_dict[index]"
   ]
  },
  {
   "cell_type": "code",
   "execution_count": 91,
   "metadata": {
    "collapsed": true
   },
   "outputs": [],
   "source": [
    "def id_2_word(sentence):\n",
    "    s = np.reshape(sentence, (-1))\n",
    "    output_ = []\n",
    "    for w in s:\n",
    "        output_.append(reverse_dict[w])\n",
    "    return output_"
   ]
  },
  {
   "cell_type": "code",
   "execution_count": 287,
   "metadata": {
    "collapsed": false
   },
   "outputs": [],
   "source": [
    "def get_next_word_by_random(candidates):\n",
    "    n = len(candidates)   \n",
    "    selected = 0\n",
    "    while(True):\n",
    "        index = random.randint(0, n-1)\n",
    "        selected = candidates[index]        \n",
    "        w = reverse_dict[selected]\n",
    "        if w <> PADDING_WORD and w <> UNK_WORD:\n",
    "            break\n",
    "    return selected"
   ]
  },
  {
   "cell_type": "code",
   "execution_count": 321,
   "metadata": {
    "collapsed": true
   },
   "outputs": [],
   "source": [
    "def generate_sentence(length, topk):\n",
    "    sentence = []\n",
    "    i0, w0 = get_start_word()\n",
    "    sentence.append(i0)\n",
    "    \n",
    "    for i in range(length):\n",
    "        sentence_input = np.reshape(np.asarray(sentence), (1, -1))\n",
    "        feed_dict = {train_dataset : sentence_input}\n",
    "        probs_run = sess.run(probs_flat, feed_dict=feed_dict)\n",
    "        probs_predict = probs_run[-1:,:]\n",
    "        next_words = np.argsort(probs_predict, 1)[:,-topk:]\n",
    "        next_words = np.reshape(next_words, -1)        \n",
    "        next_index = get_next_word_by_random(next_words)\n",
    "        sentence.append(next_index)\n",
    "    return id_2_word(sentence)"
   ]
  },
  {
   "cell_type": "code",
   "execution_count": 327,
   "metadata": {
    "collapsed": true
   },
   "outputs": [],
   "source": [
    "def generate_paragraph(length, topk):\n",
    "    for i in range(length):\n",
    "        s_len = random.randint(20,30)\n",
    "        s = generate_sentence(s_len, topk)\n",
    "        text = ''.join(w for w in s)\n",
    "        print(\"%d:%s\" %(i+1, text))"
   ]
  },
  {
   "cell_type": "code",
   "execution_count": 328,
   "metadata": {
    "collapsed": false
   },
   "outputs": [
    {
     "name": "stdout",
     "output_type": "stream",
     "text": [
      "1:泥在这几天我想一个人说人都要很热闹便人的是要我大哥了人却都可以不\n",
      "2:过来了么里说说是吃到了一会也并是我大哥还记得什么人东西了是要我在那里要这勇气在\n",
      "3:长人事罢还吃完的事着地一个事呵是一个了一会之后一样呢着一个说什么学堂上\n",
      "4:批评了了一个赤膊了了一的事罢也没有也并不是说也没有人人也并不是从不\n",
      "5:小心是他人吃得的人面前的是不以为还在的是不以为没有说过着一个吃说了\n",
      "6:带他我才有一天一会说了是在这里前吃是在那里都一样是他的意思说了一会和悲哀的\n",
      "7:食我的我想做得也就不再事着人也没有也也不像他便小木片都没有看\n",
      "8:如何我也也会去买的时候似的觉得很好吃了一个赤膊呢是到也很像吃了一个事么着说\n",
      "9:不及忘却人的是不吃到是他是一个说说了一个赤膊来补我想将他也很喜欢焦躁\n",
      "10:便对地我也不愿意得也很喜欢多说了了一个好呢来说得的眼睛睁有些不多久吃我\n"
     ]
    }
   ],
   "source": [
    "generate_paragraph(10,10)"
   ]
  }
 ],
 "metadata": {
  "kernelspec": {
   "display_name": "Python 2",
   "language": "python",
   "name": "python2"
  },
  "language_info": {
   "codemirror_mode": {
    "name": "ipython",
    "version": 2
   },
   "file_extension": ".py",
   "mimetype": "text/x-python",
   "name": "python",
   "nbconvert_exporter": "python",
   "pygments_lexer": "ipython2",
   "version": "2.7.6"
  }
 },
 "nbformat": 4,
 "nbformat_minor": 2
}
