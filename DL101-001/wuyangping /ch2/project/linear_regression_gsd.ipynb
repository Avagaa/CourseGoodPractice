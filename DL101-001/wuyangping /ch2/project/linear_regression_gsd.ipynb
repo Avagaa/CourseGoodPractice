{
 "cells": [
  {
   "cell_type": "code",
   "execution_count": 181,
   "metadata": {
    "collapsed": true
   },
   "outputs": [],
   "source": [
    "import numpy as np\n",
    "import matplotlib.pyplot as plt\n",
    "import random\n",
    "\n",
    "%matplotlib inline"
   ]
  },
  {
   "cell_type": "code",
   "execution_count": 182,
   "metadata": {
    "collapsed": true
   },
   "outputs": [],
   "source": [
    "def plot_xy(x, y):\n",
    "    fig = plt.figure()\n",
    "    ax = fig.add_subplot(111)\n",
    "    ax.scatter(x,y)"
   ]
  },
  {
   "cell_type": "code",
   "execution_count": 183,
   "metadata": {
    "collapsed": true
   },
   "outputs": [],
   "source": [
    "#对原始数据归一化, 避免出现大数字导致的计算误差\n",
    "def normalize_data(x):\n",
    "    x1 = (x - np.mean(x)) / (np.max(x) - np.min(x))\n",
    "    return x1"
   ]
  },
  {
   "cell_type": "code",
   "execution_count": 186,
   "metadata": {
    "collapsed": false
   },
   "outputs": [
    {
     "name": "stdout",
     "output_type": "stream",
     "text": [
      "5 9\n"
     ]
    },
    {
     "data": {
      "image/png": "[encoded data removed]",
      "text/plain": [
       "<matplotlib.figure.Figure at 0x85ed080>"
      ]
     },
     "metadata": {},
     "output_type": "display_data"
    }
   ],
   "source": [
    "#随机生成原始数据\n",
    "N = 100\n",
    "x0 = np.random.randint(1,100, (N))\n",
    "x0 = normalize_data(x0)\n",
    "w0 = np.random.randint(-10, 10)\n",
    "b0 = np.random.randint(-100, 100)\n",
    "\n",
    "y0 = w0 * x0 + b0 + np.random.randn(N)*0.01\n",
    "\n",
    "print w0, b0\n",
    "plot_xy(x0, y0)"
   ]
  },
  {
   "cell_type": "code",
   "execution_count": 187,
   "metadata": {
    "collapsed": true
   },
   "outputs": [],
   "source": [
    "#计算模型预测值f（x）= w * x + b\n",
    "def f_eval(x, w, b):\n",
    "    return w * x + b"
   ]
  },
  {
   "cell_type": "code",
   "execution_count": 188,
   "metadata": {
    "collapsed": false
   },
   "outputs": [],
   "source": [
    "#计算梯度\n",
    "#nabla_w = ∑x ＊（ｆ－ｙ）\n",
    "#nabla_b = ∑(f - y)\n",
    "def gradient(x, y, w, b):\n",
    "    f = f_eval(x, w, b)\n",
    "    delta = f - y \n",
    "    nb = float(np.sum(f-y))\n",
    "    nw = float(np.dot(delta, x))\n",
    "    return nw, nb"
   ]
  },
  {
   "cell_type": "code",
   "execution_count": 189,
   "metadata": {
    "collapsed": true
   },
   "outputs": [],
   "source": [
    "#Cost funciton, C = 1/2n * ∑（f-y)^2\n",
    "def cost(x, y, w, b):\n",
    "    n = len(x) * 1.0\n",
    "    delta = f_eval(x, w, b) - y\n",
    "    c = np.sum(np.power(delta, 2)) / n / 2.0\n",
    "    return c"
   ]
  },
  {
   "cell_type": "code",
   "execution_count": 199,
   "metadata": {
    "collapsed": false
   },
   "outputs": [],
   "source": [
    "def line_regression(x, y, w, b, eta, iters, auto_adjust=False):\n",
    "    m = len(x) * 1.0 #样本数据大小\n",
    "    costs=[]\n",
    "    \n",
    "    for i in range(iters):\n",
    "        nw, nb = gradient(x, y, w, b)\n",
    "        c = cost(x, y, w, b)        \n",
    "        w = w - eta/m * nw\n",
    "        b = b - eta/m * nb\n",
    "        costs.append(c)\n",
    "        if (c<1e-5):\n",
    "            break\n",
    "        \n",
    "        #自动调整步长，逐步减小eta值\n",
    "        if (auto_adjust) and (i % 500) == 0:\n",
    "            eta *= 0.8            \n",
    "    return w, b, costs\n",
    "        "
   ]
  },
  {
   "cell_type": "code",
   "execution_count": 204,
   "metadata": {
    "collapsed": false
   },
   "outputs": [],
   "source": [
    "#测试线性回归模型，初始w，b为随机生成\n",
    "def test_linear_regression(x, y, eta, iters, auto_adjust=False):\n",
    "    w1 = np.random.randint(-10,10)\n",
    "    b1 = np.random.randint(-100,100)\n",
    "\n",
    "    print w1,b1\n",
    "\n",
    "    w, b, costs = line_regression(x, y, w1, b1, eta, iters, auto_adjust)\n",
    "\n",
    "    print '----------------Result----------'\n",
    "    print 'eta=', eta\n",
    "    print 'w=', w, 'b=', b, 'cost=', costs[-1], 'iterations=', len(costs)\n",
    "    print 'w0=', w0, 'b0=', b0\n",
    "\n",
    "    index = range(0, len(costs))\n",
    "    plot_xy(index, np.log(costs))   "
   ]
  },
  {
   "cell_type": "code",
   "execution_count": 205,
   "metadata": {
    "collapsed": false
   },
   "outputs": [
    {
     "name": "stdout",
     "output_type": "stream",
     "text": [
      "8 64\n",
      "----------------Result----------\n",
      "eta= 0.1\n",
      "w= 4.99881766596 b= 9.00008820093 cost= 4.50816246848e-05 iterations= 1000\n",
      "w0= 5 b0= 9\n"
     ]
    },
    {
     "data": {
      "image/png": "[encoded data removed]",
      "text/plain": [
       "<matplotlib.figure.Figure at 0x92d8048>"
      ]
     },
     "metadata": {},
     "output_type": "display_data"
    }
   ],
   "source": [
    "#Learning rate 为0.1, 收敛太慢\n",
    "test_linear_regression(x0, y0, 0.1, 1000)"
   ]
  },
  {
   "cell_type": "code",
   "execution_count": 193,
   "metadata": {
    "collapsed": false
   },
   "outputs": [
    {
     "name": "stdout",
     "output_type": "stream",
     "text": [
      "7 31\n",
      "----------------Result----------\n",
      "eta= 0.5\n",
      "w= 4.99842845066 b= 9.00008820093 cost= 4.50747535262e-05 iterations= 1000\n",
      "w0= 5 b0= 9\n"
     ]
    },
    {
     "data": {
      "image/png": "[encoded data removed]",
      "text/plain": [
       "<matplotlib.figure.Figure at 0x8046860>"
      ]
     },
     "metadata": {},
     "output_type": "display_data"
    }
   ],
   "source": [
    "test_linear_regression(x0, y0, 0.5, 1000)"
   ]
  },
  {
   "cell_type": "code",
   "execution_count": 194,
   "metadata": {
    "collapsed": false
   },
   "outputs": [
    {
     "name": "stdout",
     "output_type": "stream",
     "text": [
      "9 -10\n",
      "----------------Result----------\n",
      "eta= 1.0\n",
      "w= 4.99842845066 b= 9.00008820093 cost= 4.50747535262e-05 iterations= 1000\n",
      "w0= 5 b0= 9\n"
     ]
    },
    {
     "data": {
      "image/png": "[encoded data removed]",
      "text/plain": [
       "<matplotlib.figure.Figure at 0x92e7048>"
      ]
     },
     "metadata": {},
     "output_type": "display_data"
    }
   ],
   "source": [
    "test_linear_regression(x0, y0, 1.0, 1000)"
   ]
  },
  {
   "cell_type": "code",
   "execution_count": 207,
   "metadata": {
    "collapsed": false
   },
   "outputs": [
    {
     "name": "stdout",
     "output_type": "stream",
     "text": [
      "-3 -58\n",
      "----------------Result----------\n",
      "eta= 2.0\n",
      "w= 4.99842845066 b= -58.0 cost= 2244.50595454 iterations= 1000\n",
      "w0= 5 b0= 9\n"
     ]
    },
    {
     "data": {
      "image/png": "[encoded data removed]",
      "text/plain": [
       "<matplotlib.figure.Figure at 0x7becb38>"
      ]
     },
     "metadata": {},
     "output_type": "display_data"
    }
   ],
   "source": [
    "#Learning rate 2.0，步长太大，不收敛\n",
    "test_linear_regression(x0, y0, 2.0, 1000)"
   ]
  },
  {
   "cell_type": "code",
   "execution_count": 208,
   "metadata": {
    "collapsed": false
   },
   "outputs": [
    {
     "name": "stdout",
     "output_type": "stream",
     "text": [
      "3 -39\n",
      "----------------Result----------\n",
      "eta= 2.0\n",
      "w= 4.99842845066 b= 9.00008820093 cost= 4.50747535262e-05 iterations= 1000\n",
      "w0= 5 b0= 9\n"
     ]
    },
    {
     "data": {
      "image/png": "[encoded data removed]",
      "text/plain": [
       "<matplotlib.figure.Figure at 0x7f92cf8>"
      ]
     },
     "metadata": {},
     "output_type": "display_data"
    }
   ],
   "source": [
    "#Learning rate 初始为零，程序每500步自动调整步长，收敛快，效果好\n",
    "test_linear_regression(x0, y0, 2.0, 1000, True)"
   ]
  },
  {
   "cell_type": "code",
   "execution_count": null,
   "metadata": {
    "collapsed": true
   },
   "outputs": [],
   "source": []
  }
 ],
 "metadata": {
  "kernelspec": {
   "display_name": "Python 2",
   "language": "python",
   "name": "python2"
  },
  "language_info": {
   "codemirror_mode": {
    "name": "ipython",
    "version": 2
   },
   "file_extension": ".py",
   "mimetype": "text/x-python",
   "name": "python",
   "nbconvert_exporter": "python",
   "pygments_lexer": "ipython2",
   "version": "2.7.13"
  }
 },
 "nbformat": 4,
 "nbformat_minor": 2
}
