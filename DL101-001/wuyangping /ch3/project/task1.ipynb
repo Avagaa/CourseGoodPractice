{
 "cells": [
  {
   "cell_type": "code",
   "execution_count": 1,
   "metadata": {
    "collapsed": false,
    "deletable": true,
    "editable": true
   },
   "outputs": [
    {
     "name": "stdout",
     "output_type": "stream",
     "text": [
      "2017-03-28T02:14:57\n",
      "\n",
      "CPython 2.7.6\n",
      "IPython 5.2.2\n",
      "\n",
      "compiler   : GCC 4.8.4\n",
      "system     : Linux\n",
      "release    : 4.4.43-boot2docker\n",
      "machine    : x86_64\n",
      "processor  : x86_64\n",
      "CPU cores  : 1\n",
      "interpreter: 64bit\n"
     ]
    }
   ],
   "source": [
    "%load_ext watermark\n",
    "%watermark"
   ]
  },
  {
   "cell_type": "code",
   "execution_count": 2,
   "metadata": {
    "collapsed": false,
    "deletable": true,
    "editable": true
   },
   "outputs": [
    {
     "name": "stdout",
     "output_type": "stream",
     "text": [
      "1.0.0\n"
     ]
    }
   ],
   "source": [
    "import tensorflow as tf\n",
    "import numpy as np\n",
    "print(tf.__version__)"
   ]
  },
  {
   "cell_type": "code",
   "execution_count": 3,
   "metadata": {
    "collapsed": true,
    "deletable": true,
    "editable": true
   },
   "outputs": [],
   "source": [
    "%matplotlib inline\n",
    "from matplotlib import pyplot as plt"
   ]
  },
  {
   "cell_type": "code",
   "execution_count": 4,
   "metadata": {
    "collapsed": true,
    "deletable": true,
    "editable": true
   },
   "outputs": [],
   "source": [
    "def generate_weight_and_bias(input_dim):\n",
    "    # 1 x input_dim 行向量，相当于课程中的 w^T\n",
    "    w = tf.Variable(tf.random_uniform([1, input_dim], -1, 1))\n",
    "    # b, 1 * 1\n",
    "    bias = tf.Variable(tf.zeros([1, 1]))\n",
    "    return (w, bias)"
   ]
  },
  {
   "cell_type": "code",
   "execution_count": 6,
   "metadata": {
    "collapsed": false,
    "deletable": true,
    "editable": true
   },
   "outputs": [
    {
     "name": "stdout",
     "output_type": "stream",
     "text": [
      "0.985899477723 0\n"
     ]
    }
   ],
   "source": [
    "w0 = np.random.rand()\n",
    "b0 = 0\n",
    "\n",
    "print w0, b0"
   ]
  },
  {
   "cell_type": "code",
   "execution_count": 7,
   "metadata": {
    "collapsed": false,
    "deletable": true,
    "editable": true
   },
   "outputs": [
    {
     "name": "stdout",
     "output_type": "stream",
     "text": [
      "(100, 1)\n",
      "(100, 1)\n",
      "(100, 1)\n"
     ]
    }
   ],
   "source": [
    "x = np.concatenate((np.random.rand(1, 50), np.random.rand(1, 50) + 1), axis=1)\n",
    "x = x.reshape(100,1)\n",
    "\n",
    "noise = np.random.normal(size=len(x)).reshape(x.shape) * 0.1\n",
    "y = w0 * x + b0 + noise\n",
    "\n",
    "print x.shape\n",
    "print y.shape\n",
    "print noise.shape\n"
   ]
  },
  {
   "cell_type": "code",
   "execution_count": 8,
   "metadata": {
    "collapsed": false,
    "deletable": true,
    "editable": true
   },
   "outputs": [
    {
     "data": {
      "text/plain": [
       "<matplotlib.collections.PathCollection at 0x7f027a313d50>"
      ]
     },
     "execution_count": 8,
     "metadata": {},
     "output_type": "execute_result"
    },
    {
     "data": {
      "image/png": "[encoded data removed]",
      "text/plain": [
       "<matplotlib.figure.Figure at 0x7f027c635050>"
      ]
     },
     "metadata": {},
     "output_type": "display_data"
    }
   ],
   "source": [
    "plt.scatter(x, y)"
   ]
  },
  {
   "cell_type": "code",
   "execution_count": 9,
   "metadata": {
    "collapsed": true,
    "deletable": true,
    "editable": true
   },
   "outputs": [],
   "source": [
    "tf.reset_default_graph()"
   ]
  },
  {
   "cell_type": "code",
   "execution_count": 10,
   "metadata": {
    "collapsed": false,
    "deletable": true,
    "editable": true
   },
   "outputs": [],
   "source": [
    "x_train = tf.placeholder('float32')\n",
    "y_train = tf.placeholder('float32')"
   ]
  },
  {
   "cell_type": "code",
   "execution_count": 12,
   "metadata": {
    "collapsed": false,
    "deletable": true,
    "editable": true
   },
   "outputs": [
    {
     "name": "stdout",
     "output_type": "stream",
     "text": [
      "Tensor(\"Variable_2/read:0\", shape=(1, 1), dtype=float32)\n",
      "Tensor(\"Variable_3/read:0\", shape=(1, 1), dtype=float32)\n"
     ]
    }
   ],
   "source": [
    "w, b = generate_weight_and_bias(1)\n",
    "print w\n",
    "print b"
   ]
  },
  {
   "cell_type": "code",
   "execution_count": 13,
   "metadata": {
    "collapsed": false,
    "deletable": true,
    "editable": true
   },
   "outputs": [],
   "source": [
    "\n",
    "y_bar = w * x_train + b\n",
    "\n",
    "cost = tf.reduce_mean(tf.square(y_bar - y_train))"
   ]
  },
  {
   "cell_type": "code",
   "execution_count": 14,
   "metadata": {
    "collapsed": false,
    "deletable": true,
    "editable": true
   },
   "outputs": [],
   "source": [
    "mini_batch_size = 1"
   ]
  },
  {
   "cell_type": "code",
   "execution_count": 15,
   "metadata": {
    "collapsed": false,
    "deletable": true,
    "editable": true
   },
   "outputs": [
    {
     "name": "stdout",
     "output_type": "stream",
     "text": [
      "0\n",
      "0.352173\n",
      "[[-0.54190773]]\n",
      "[[ 0.01214938]]\n",
      "500\n",
      "0.0390876\n",
      "[[ 0.7894085]]\n",
      "[[ 0.279888]]\n",
      "1000\n",
      "0.0016492\n",
      "[[ 0.93446034]]\n",
      "[[ 0.0657653]]\n",
      "1500\n",
      "8.91913e-06\n",
      "[[ 0.97471482]]\n",
      "[[ 0.0063423]]\n",
      "2000\n",
      "0.000227566\n",
      "[[ 0.98588616]]\n",
      "[[-0.01014851]]\n",
      "2500\n",
      "0.000340146\n",
      "[[ 0.98898643]]\n",
      "[[-0.01472515]]\n",
      "3000\n",
      "0.000375393\n",
      "[[ 0.989847]]\n",
      "[[-0.01599551]]\n",
      "3500\n",
      "0.000385477\n",
      "[[ 0.99008566]]\n",
      "[[-0.01634782]]\n",
      "4000\n",
      "0.000388301\n",
      "[[ 0.99015206]]\n",
      "[[-0.01644574]]\n",
      "4500\n",
      "0.000389088\n",
      "[[ 0.99017054]]\n",
      "[[-0.01647296]]\n",
      "5000\n",
      "0.000389311\n",
      "[[ 0.99017555]]\n",
      "[[-0.01648057]]\n",
      "5500\n",
      "0.000389375\n",
      "[[ 0.99017715]]\n",
      "[[-0.01648283]]\n",
      "6000\n",
      "0.000389392\n",
      "[[ 0.99017763]]\n",
      "[[-0.01648346]]\n",
      "6500\n",
      "0.000389393\n",
      "[[ 0.99017763]]\n",
      "[[-0.01648349]]\n",
      "7000\n",
      "0.000389393\n",
      "[[ 0.99017763]]\n",
      "[[-0.01648349]]\n",
      "7500\n",
      "0.000389393\n",
      "[[ 0.99017763]]\n",
      "[[-0.01648349]]\n",
      "8000\n",
      "0.000389393\n",
      "[[ 0.99017763]]\n",
      "[[-0.01648349]]\n",
      "8500\n",
      "0.000389393\n",
      "[[ 0.99017763]]\n",
      "[[-0.01648349]]\n",
      "9000\n",
      "0.000389393\n",
      "[[ 0.99017763]]\n",
      "[[-0.01648349]]\n",
      "9500\n",
      "0.000389393\n",
      "[[ 0.99017763]]\n",
      "[[-0.01648349]]\n",
      "10000\n",
      "0.000389393\n",
      "[[ 0.99017763]]\n",
      "[[-0.01648349]]\n",
      "10500\n",
      "0.000389393\n",
      "[[ 0.99017763]]\n",
      "[[-0.01648349]]\n",
      "11000\n",
      "0.000389393\n",
      "[[ 0.99017763]]\n",
      "[[-0.01648349]]\n",
      "11500\n",
      "0.000389393\n",
      "[[ 0.99017763]]\n",
      "[[-0.01648349]]\n",
      "12000\n",
      "0.000389393\n",
      "[[ 0.99017763]]\n",
      "[[-0.01648349]]\n",
      "12500\n",
      "0.000389393\n",
      "[[ 0.99017763]]\n",
      "[[-0.01648349]]\n",
      "13000\n",
      "0.000389393\n",
      "[[ 0.99017763]]\n",
      "[[-0.01648349]]\n",
      "13500\n",
      "0.000389393\n",
      "[[ 0.99017763]]\n",
      "[[-0.01648349]]\n",
      "14000\n",
      "0.000389393\n",
      "[[ 0.99017763]]\n",
      "[[-0.01648349]]\n",
      "14500\n",
      "0.000389393\n",
      "[[ 0.99017763]]\n",
      "[[-0.01648349]]\n",
      "15000\n",
      "0.000389393\n",
      "[[ 0.99017763]]\n",
      "[[-0.01648349]]\n",
      "15500\n",
      "0.000389393\n",
      "[[ 0.99017763]]\n",
      "[[-0.01648349]]\n",
      "16000\n",
      "0.000389393\n",
      "[[ 0.99017763]]\n",
      "[[-0.01648349]]\n",
      "16500\n",
      "0.000389393\n",
      "[[ 0.99017763]]\n",
      "[[-0.01648349]]\n",
      "17000\n",
      "0.000389393\n",
      "[[ 0.99017763]]\n",
      "[[-0.01648349]]\n",
      "17500\n",
      "0.000389393\n",
      "[[ 0.99017763]]\n",
      "[[-0.01648349]]\n",
      "18000\n",
      "0.000389393\n",
      "[[ 0.99017763]]\n",
      "[[-0.01648349]]\n",
      "18500\n",
      "0.000389393\n",
      "[[ 0.99017763]]\n",
      "[[-0.01648349]]\n",
      "19000\n",
      "0.000389393\n",
      "[[ 0.99017763]]\n",
      "[[-0.01648349]]\n",
      "19500\n",
      "0.000389393\n",
      "[[ 0.99017763]]\n",
      "[[-0.01648349]]\n",
      "20000\n",
      "0.000389393\n",
      "[[ 0.99017763]]\n",
      "[[-0.01648349]]\n",
      "20500\n",
      "0.000389393\n",
      "[[ 0.99017763]]\n",
      "[[-0.01648349]]\n",
      "21000\n",
      "0.000389393\n",
      "[[ 0.99017763]]\n",
      "[[-0.01648349]]\n",
      "21500\n",
      "0.000389393\n",
      "[[ 0.99017763]]\n",
      "[[-0.01648349]]\n",
      "22000\n",
      "0.000389393\n",
      "[[ 0.99017763]]\n",
      "[[-0.01648349]]\n",
      "22500\n",
      "0.000389393\n",
      "[[ 0.99017763]]\n",
      "[[-0.01648349]]\n",
      "23000\n",
      "0.000389393\n",
      "[[ 0.99017763]]\n",
      "[[-0.01648349]]\n",
      "23500\n",
      "0.000389393\n",
      "[[ 0.99017763]]\n",
      "[[-0.01648349]]\n",
      "24000\n",
      "0.000389393\n",
      "[[ 0.99017763]]\n",
      "[[-0.01648349]]\n",
      "24500\n",
      "0.000389393\n",
      "[[ 0.99017763]]\n",
      "[[-0.01648349]]\n",
      "25000\n",
      "0.000389393\n",
      "[[ 0.99017763]]\n",
      "[[-0.01648349]]\n",
      "25500\n",
      "0.000389393\n",
      "[[ 0.99017763]]\n",
      "[[-0.01648349]]\n",
      "26000\n",
      "0.000389393\n",
      "[[ 0.99017763]]\n",
      "[[-0.01648349]]\n",
      "26500\n",
      "0.000389393\n",
      "[[ 0.99017763]]\n",
      "[[-0.01648349]]\n",
      "27000\n",
      "0.000389393\n",
      "[[ 0.99017763]]\n",
      "[[-0.01648349]]\n",
      "27500\n",
      "0.000389393\n",
      "[[ 0.99017763]]\n",
      "[[-0.01648349]]\n",
      "28000\n",
      "0.000389393\n",
      "[[ 0.99017763]]\n",
      "[[-0.01648349]]\n",
      "28500\n",
      "0.000389393\n",
      "[[ 0.99017763]]\n",
      "[[-0.01648349]]\n",
      "29000\n",
      "0.000389393\n",
      "[[ 0.99017763]]\n",
      "[[-0.01648349]]\n",
      "29500\n",
      "0.000389393\n",
      "[[ 0.99017763]]\n",
      "[[-0.01648349]]\n",
      "30000\n",
      "0.000389393\n",
      "[[ 0.99017763]]\n",
      "[[-0.01648349]]\n",
      "30500\n",
      "0.000389393\n",
      "[[ 0.99017763]]\n",
      "[[-0.01648349]]\n",
      "31000\n",
      "0.000389393\n",
      "[[ 0.99017763]]\n",
      "[[-0.01648349]]\n",
      "31500\n",
      "0.000389393\n",
      "[[ 0.99017763]]\n",
      "[[-0.01648349]]\n",
      "32000\n",
      "0.000389393\n",
      "[[ 0.99017763]]\n",
      "[[-0.01648349]]\n",
      "32500\n",
      "0.000389393\n",
      "[[ 0.99017763]]\n",
      "[[-0.01648349]]\n",
      "33000\n",
      "0.000389393\n",
      "[[ 0.99017763]]\n",
      "[[-0.01648349]]\n",
      "33500\n",
      "0.000389393\n",
      "[[ 0.99017763]]\n",
      "[[-0.01648349]]\n",
      "34000\n",
      "0.000389393\n",
      "[[ 0.99017763]]\n",
      "[[-0.01648349]]\n",
      "34500\n",
      "0.000389393\n",
      "[[ 0.99017763]]\n",
      "[[-0.01648349]]\n",
      "35000\n",
      "0.000389393\n",
      "[[ 0.99017763]]\n",
      "[[-0.01648349]]\n",
      "35500\n",
      "0.000389393\n",
      "[[ 0.99017763]]\n",
      "[[-0.01648349]]\n",
      "36000\n",
      "0.000389393\n",
      "[[ 0.99017763]]\n",
      "[[-0.01648349]]\n",
      "36500\n",
      "0.000389393\n",
      "[[ 0.99017763]]\n",
      "[[-0.01648349]]\n",
      "37000\n",
      "0.000389393\n",
      "[[ 0.99017763]]\n",
      "[[-0.01648349]]\n",
      "37500\n",
      "0.000389393\n",
      "[[ 0.99017763]]\n",
      "[[-0.01648349]]\n",
      "38000\n",
      "0.000389393\n",
      "[[ 0.99017763]]\n",
      "[[-0.01648349]]\n",
      "38500\n",
      "0.000389393\n",
      "[[ 0.99017763]]\n",
      "[[-0.01648349]]\n",
      "39000\n",
      "0.000389393\n",
      "[[ 0.99017763]]\n",
      "[[-0.01648349]]\n",
      "39500\n",
      "0.000389393\n",
      "[[ 0.99017763]]\n",
      "[[-0.01648349]]\n",
      "40000\n",
      "0.000389393\n",
      "[[ 0.99017763]]\n",
      "[[-0.01648349]]\n",
      "40500\n",
      "0.000389393\n",
      "[[ 0.99017763]]\n",
      "[[-0.01648349]]\n",
      "41000\n",
      "0.000389393\n",
      "[[ 0.99017763]]\n",
      "[[-0.01648349]]\n",
      "41500\n",
      "0.000389393\n",
      "[[ 0.99017763]]\n",
      "[[-0.01648349]]\n",
      "42000\n",
      "0.000389393\n",
      "[[ 0.99017763]]\n",
      "[[-0.01648349]]\n",
      "42500\n",
      "0.000389393\n",
      "[[ 0.99017763]]\n",
      "[[-0.01648349]]\n",
      "43000\n",
      "0.000389393\n",
      "[[ 0.99017763]]\n",
      "[[-0.01648349]]\n",
      "43500\n",
      "0.000389393\n",
      "[[ 0.99017763]]\n",
      "[[-0.01648349]]\n",
      "44000\n",
      "0.000389393\n",
      "[[ 0.99017763]]\n",
      "[[-0.01648349]]\n",
      "44500\n",
      "0.000389393\n",
      "[[ 0.99017763]]\n",
      "[[-0.01648349]]\n",
      "45000\n",
      "0.000389393\n",
      "[[ 0.99017763]]\n",
      "[[-0.01648349]]\n",
      "45500\n",
      "0.000389393\n",
      "[[ 0.99017763]]\n",
      "[[-0.01648349]]\n",
      "46000\n",
      "0.000389393\n",
      "[[ 0.99017763]]\n",
      "[[-0.01648349]]\n",
      "46500\n",
      "0.000389393\n",
      "[[ 0.99017763]]\n",
      "[[-0.01648349]]\n",
      "47000\n",
      "0.000389393\n",
      "[[ 0.99017763]]\n",
      "[[-0.01648349]]\n",
      "47500\n",
      "0.000389393\n",
      "[[ 0.99017763]]\n",
      "[[-0.01648349]]\n",
      "48000\n",
      "0.000389393\n",
      "[[ 0.99017763]]\n",
      "[[-0.01648349]]\n",
      "48500\n",
      "0.000389393\n",
      "[[ 0.99017763]]\n",
      "[[-0.01648349]]\n",
      "49000\n",
      "0.000389393\n",
      "[[ 0.99017763]]\n",
      "[[-0.01648349]]\n",
      "49500\n",
      "0.000389393\n",
      "[[ 0.99017763]]\n",
      "[[-0.01648349]]\n"
     ]
    }
   ],
   "source": [
    "train_step = tf.train.GradientDescentOptimizer(0.01).minimize(cost)\n",
    "\n",
    "costs = []\n",
    "w_out = 0\n",
    "b_out = 0\n",
    "with tf.Session() as sess:\n",
    "    sess.run(tf.global_variables_initializer())\n",
    "    offset = 0\n",
    "    epoch = 500\n",
    "    data_size = len(x) \n",
    "    iteration = epoch * data_size / mini_batch_size\n",
    "    for i in range(iteration):\n",
    "        offset = (i * mini_batch_size) % data_size \n",
    "        x_mini_batch = x[offset : offset + mini_batch_size]\n",
    "        y_mini_batch = y[offset : offset + mini_batch_size]\n",
    "        feed_dict = {x_train:x_mini_batch, y_train:y_mini_batch}\n",
    "        sess.run(train_step, feed_dict=feed_dict)  \n",
    "        cost_i = sess.run(cost, feed_dict=feed_dict)\n",
    "        costs.append(cost_i)\n",
    "        if i % 500 == 0:\n",
    "            print i\n",
    "            w_out = sess.run(w)\n",
    "            b_out = sess.run(b)\n",
    "            print cost_i\n",
    "            print w_out\n",
    "            print b_out\n"
   ]
  },
  {
   "cell_type": "code",
   "execution_count": 16,
   "metadata": {
    "collapsed": false,
    "deletable": true,
    "editable": true
   },
   "outputs": [
    {
     "name": "stdout",
     "output_type": "stream",
     "text": [
      "[0.046947971]\n",
      "0.985899477723 0\n",
      "[[ 0.99017763]] [[-0.01648349]]\n"
     ]
    }
   ],
   "source": [
    "y_pred = x * w_out + b_out\n",
    "\n",
    "print costs[-1:]\n",
    "print w0, b0\n",
    "\n",
    "print w_out, b_out"
   ]
  },
  {
   "cell_type": "code",
   "execution_count": 17,
   "metadata": {
    "collapsed": false,
    "deletable": true,
    "editable": true
   },
   "outputs": [
    {
     "data": {
      "text/plain": [
       "<matplotlib.collections.PathCollection at 0x7f027a2cf810>"
      ]
     },
     "execution_count": 17,
     "metadata": {},
     "output_type": "execute_result"
    },
    {
     "data": {
      "image/png": "[encoded data removed]",
      "text/plain": [
       "<matplotlib.figure.Figure at 0x7f027a2cfbd0>"
      ]
     },
     "metadata": {},
     "output_type": "display_data"
    }
   ],
   "source": [
    "plt.plot(x, y_pred)\n",
    "plt.scatter(x,y)"
   ]
  },
  {
   "cell_type": "code",
   "execution_count": 18,
   "metadata": {
    "collapsed": false,
    "deletable": true,
    "editable": true
   },
   "outputs": [
    {
     "data": {
      "text/plain": [
       "[<matplotlib.lines.Line2D at 0x7f0278d31890>]"
      ]
     },
     "execution_count": 18,
     "metadata": {},
     "output_type": "execute_result"
    },
    {
     "data": {
      "image/png": "[encoded data removed]",
      "text/plain": [
       "<matplotlib.figure.Figure at 0x7f0278de8390>"
      ]
     },
     "metadata": {},
     "output_type": "display_data"
    }
   ],
   "source": [
    "cnt = len(costs)\n",
    "plt.plot(range(len(costs[:cnt])), costs[:cnt])\n"
   ]
  },
  {
   "cell_type": "code",
   "execution_count": 19,
   "metadata": {
    "collapsed": true,
    "deletable": true,
    "editable": true
   },
   "outputs": [],
   "source": [
    "writer = tf.summary.FileWriter(\"/root/log\", graph=tf.get_default_graph())"
   ]
  },
  {
   "cell_type": "code",
   "execution_count": null,
   "metadata": {
    "collapsed": true,
    "deletable": true,
    "editable": true
   },
   "outputs": [],
   "source": []
  }
 ],
 "metadata": {
  "kernelspec": {
   "display_name": "Python 2",
   "language": "python",
   "name": "python2"
  },
  "language_info": {
   "codemirror_mode": {
    "name": "ipython",
    "version": 2
   },
   "file_extension": ".py",
   "mimetype": "text/x-python",
   "name": "python",
   "nbconvert_exporter": "python",
   "pygments_lexer": "ipython2",
   "version": "2.7.6"
  }
 },
 "nbformat": 4,
 "nbformat_minor": 2
}
