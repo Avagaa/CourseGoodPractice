{
 "cells": [
  {
   "cell_type": "code",
   "execution_count": 22,
   "metadata": {
    "collapsed": false,
    "deletable": true,
    "editable": true
   },
   "outputs": [
    {
     "name": "stdout",
     "output_type": "stream",
     "text": [
      "The watermark extension is already loaded. To reload it, use:\n",
      "  %reload_ext watermark\n",
      "2017-04-09T01:45:12\n",
      "\n",
      "CPython 2.7.6\n",
      "IPython 5.2.2\n",
      "\n",
      "compiler   : GCC 4.8.4\n",
      "system     : Linux\n",
      "release    : 4.4.43-boot2docker\n",
      "machine    : x86_64\n",
      "processor  : x86_64\n",
      "CPU cores  : 1\n",
      "interpreter: 64bit\n"
     ]
    }
   ],
   "source": [
    "%load_ext watermark\n",
    "%watermark"
   ]
  },
  {
   "cell_type": "code",
   "execution_count": 23,
   "metadata": {
    "collapsed": false,
    "deletable": true,
    "editable": true
   },
   "outputs": [
    {
     "name": "stdout",
     "output_type": "stream",
     "text": [
      "1.0.0\n"
     ]
    }
   ],
   "source": [
    "import numpy as np\n",
    "import tensorflow as tf\n",
    "print(tf.__version__)"
   ]
  },
  {
   "cell_type": "code",
   "execution_count": 24,
   "metadata": {
    "collapsed": true,
    "deletable": true,
    "editable": true
   },
   "outputs": [],
   "source": [
    "%matplotlib inline\n",
    "from matplotlib import pyplot as plt\n",
    "import jieba\n",
    "from jieba import posseg as pseg\n",
    "from collections import Counter, defaultdict\n",
    "import random\n",
    "from sklearn.metrics import pairwise_distances\n",
    "from scipy.spatial.distance import cosine"
   ]
  },
  {
   "cell_type": "code",
   "execution_count": 25,
   "metadata": {
    "collapsed": true,
    "deletable": true,
    "editable": true
   },
   "outputs": [],
   "source": [
    "RAW_FILE = 'happiness.txt'"
   ]
  },
  {
   "cell_type": "code",
   "execution_count": 27,
   "metadata": {
    "collapsed": false,
    "deletable": true,
    "editable": true
   },
   "outputs": [],
   "source": [
    "\n",
    "word_cnt = Counter()\n",
    "segs = []\n",
    "ngram = 2\n",
    "DELIMITER = u'.'\n",
    "with open(RAW_FILE) as f:\n",
    "    lines = f.readlines()\n",
    "    for line in lines:\n",
    "        line = line.strip().decode('utf-8')\n",
    "        words = pseg.cut(line)\n",
    "        for word, flag in words:            \n",
    "            if flag == 'x':\n",
    "                segs.append(DELIMITER)\n",
    "            else:\n",
    "                segs.append(word)                \n",
    "                word_cnt[word] += 1 \n",
    "        "
   ]
  },
  {
   "cell_type": "code",
   "execution_count": 28,
   "metadata": {
    "collapsed": false,
    "deletable": true,
    "editable": true
   },
   "outputs": [
    {
     "name": "stdout",
     "output_type": "stream",
     "text": [
      "259688\n",
      "15899\n",
      "的 22805\n",
      "是 4335\n",
      "在 3525\n",
      "他 2562\n",
      "了 2273\n",
      "人 2245\n",
      "他们 1811\n",
      "和 1729\n",
      "这 1611\n",
      "有 1534\n"
     ]
    }
   ],
   "source": [
    "print(len(segs))\n",
    "print(len(word_cnt))\n",
    "\n",
    "for (w,v) in word_cnt.most_common()[:10]: \n",
    "    print w,v  \n"
   ]
  },
  {
   "cell_type": "code",
   "execution_count": 32,
   "metadata": {
    "collapsed": false,
    "deletable": true,
    "editable": true
   },
   "outputs": [
    {
     "name": "stdout",
     "output_type": "stream",
     "text": [
      "15899\n",
      "3520\n"
     ]
    }
   ],
   "source": [
    "print(len(word_cnt))\n",
    "\n",
    "vocab_dict = []\n",
    "vocab_dict.append('Unknown')\n",
    "\n",
    "for (w,v) in word_cnt.items():\n",
    "    if v> 5:\n",
    "        vocab_dict.append(w)\n",
    "        \n",
    "vocab_size = len(vocab_dict)\n",
    "print(vocab_size)\n"
   ]
  },
  {
   "cell_type": "code",
   "execution_count": 33,
   "metadata": {
    "collapsed": false,
    "deletable": true,
    "editable": true
   },
   "outputs": [
    {
     "name": "stdout",
     "output_type": "stream",
     "text": [
      "Unknown\n",
      "居于\n",
      "爱慕\n",
      "出来\n",
      "第二\n",
      "还要\n",
      "肉体上\n",
      "少数几个\n",
      "谈\n",
      "看作\n"
     ]
    }
   ],
   "source": [
    "for w in vocab_dict[:10]:\n",
    "    print w"
   ]
  },
  {
   "cell_type": "code",
   "execution_count": 34,
   "metadata": {
    "collapsed": true,
    "deletable": true,
    "editable": true
   },
   "outputs": [],
   "source": [
    "def get_word_index(word, dicts):\n",
    "    index = -1\n",
    "    if word in dicts:\n",
    "        index = dicts.index(word)\n",
    "    elif not word == DELIMITER:\n",
    "        index = 0 #未命中词\n",
    "    else:\n",
    "        index = -1 #delimiter, context 输入时忽略，delimiter前后的词被切断，不作为context输入    \n",
    "    \n",
    "    return index   "
   ]
  },
  {
   "cell_type": "code",
   "execution_count": 36,
   "metadata": {
    "collapsed": true,
    "deletable": true,
    "editable": true
   },
   "outputs": [],
   "source": [
    "def build_seg_index(raw_segs, dicts):\n",
    "    seg_index = []\n",
    "    for seg in raw_segs:\n",
    "        seg_index.append(get_word_index(seg, dicts))\n",
    "    return seg_index"
   ]
  },
  {
   "cell_type": "code",
   "execution_count": 37,
   "metadata": {
    "collapsed": false,
    "deletable": true,
    "editable": true
   },
   "outputs": [
    {
     "name": "stdout",
     "output_type": "stream",
     "text": [
      "[267, 2237, -1, 1385, 2273, 690, 2988, 3304, 3445, 3467]\n"
     ]
    }
   ],
   "source": [
    "segs_index = build_seg_index(segs, vocab_dict)\n",
    "\n",
    "print(segs_index[:10])"
   ]
  },
  {
   "cell_type": "code",
   "execution_count": 38,
   "metadata": {
    "collapsed": false,
    "deletable": true,
    "editable": true
   },
   "outputs": [],
   "source": [
    "def get_input_data(seg_index):\n",
    "    contexts = []\n",
    "    labels = []\n",
    "    for i in range(len(seg_index)-2):\n",
    "        if (seg_index[i] < 0):\n",
    "            continue\n",
    "        if (seg_index[i+1] < 0):            \n",
    "            continue\n",
    "        contexts.append([seg_index[i], seg_index[i+1]])\n",
    "        labels.append(max(0, seg_index[i+2]))\n",
    "    return (contexts, labels)"
   ]
  },
  {
   "cell_type": "code",
   "execution_count": 39,
   "metadata": {
    "collapsed": false,
    "deletable": true,
    "editable": true
   },
   "outputs": [
    {
     "name": "stdout",
     "output_type": "stream",
     "text": [
      "192236\n",
      "192236\n",
      "[[267, 2237], [1385, 2273], [2273, 690], [690, 2988], [2988, 3304], [3304, 3445], [3445, 3467], [3467, 1453], [1453, 2239], [1805, 3165]]\n",
      "[0, 690, 2988, 3304, 3445, 3467, 1453, 2239, 0, 0]\n"
     ]
    }
   ],
   "source": [
    "#input_data = get_input_data(segs_index)\n",
    "(input_context, input_labels) = get_input_data(segs_index)\n",
    "\n",
    "print(len(input_context))\n",
    "print(len(input_labels))\n",
    "\n",
    "print(input_context[:10])\n",
    "print(input_labels[:10])"
   ]
  },
  {
   "cell_type": "code",
   "execution_count": 41,
   "metadata": {
    "collapsed": false,
    "deletable": true,
    "editable": true
   },
   "outputs": [
    {
     "name": "stdout",
     "output_type": "stream",
     "text": [
      "1923\n"
     ]
    }
   ],
   "source": [
    "train_data_size = len(input_context)\n",
    "batch_size = 100\n",
    "\n",
    "batch_per_round = (train_data_size / batch_size) + 1\n",
    "print batch_per_round"
   ]
  },
  {
   "cell_type": "code",
   "execution_count": 42,
   "metadata": {
    "collapsed": true,
    "deletable": true,
    "editable": true
   },
   "outputs": [],
   "source": [
    "tf.reset_default_graph()"
   ]
  },
  {
   "cell_type": "code",
   "execution_count": 43,
   "metadata": {
    "collapsed": true,
    "deletable": true,
    "editable": true
   },
   "outputs": [],
   "source": [
    "# 决定了 embedding 的维度 （隐层节点数）\n",
    "word_embedding_dim = 100\n",
    "# 决定了词表数量, 预留一个未登录词\n",
    "\n",
    "UNK_IDX = 0\n",
    "\n",
    "# 这里需要把 Word embedding 放到 Variable 里面。因为 Word embedding 是要随机初始化，跟着数据不断变化的。\n",
    "# 它相当于普通神经网络中的权重。\n",
    "\n",
    "# 在梯度下降时， tensorflow 的 Optimizer 会自动找到 Graph 中的 Variable，计算梯度并进行更新。\n",
    "word_embedding = tf.Variable(tf.random_uniform([vocab_size, word_embedding_dim]))\n",
    "\n",
    "# placeholder 和 variable 基本都可以当做 Tensor 来用\n",
    "# 注意这里的输入是 int32 类型，表示一个词 ID。这里我们需要对数据进行预处理，以把高频词映射到 [1, 80000] 之间，不在词表里面的词设置成 UNK, ID 为 0\n",
    "# 这里我们假设输入是两个词\n",
    "\n",
    "# 这里 Shape 的第一维我们指定为 None，是表示第一维可以根据数据进行变化，因此同样一个程序可以适应梯度下降时不同的 batch_size\n",
    "input_data = tf.placeholder(tf.int32, shape=[None, 2], name='input_data')\n",
    "\n",
    "input_embeds = tf.nn.embedding_lookup(word_embedding, input_data)\n",
    "\n",
    "# reduce 开头的函数一般有一个 axis 参数，决定按行、按列或者按整个矩阵进行 reduce\n",
    "context_embeds = tf.reduce_sum(input_embeds, axis=1)\n",
    "\n",
    "# 激活之前的输出\n",
    "raw_output = tf.layers.dense(context_embeds, vocab_size)\n",
    "# 加 softmax 之后的输出\n",
    "output = tf.nn.softmax(raw_output)\n",
    "\n",
    "# 样本的 labels 也需要用 placeholder 放置\n",
    "labels = tf.placeholder(tf.int32, shape=[None], name='labels')\n",
    "\n",
    "# 因为我们每个样本的 label 只有一个，使用稠密的 softmax 算 cost 及求导太浪费了。这里使用 sparse 版本即可。\n",
    "# 如果你的 label 是完整的 N 个词上的概率分布，这时候可以使用 tf.nn.softmax_cross_entropy_with_logits\n",
    "cost = tf.nn.sparse_softmax_cross_entropy_with_logits(logits=raw_output, labels=labels)\n",
    "\n",
    "train_step = tf.train.GradientDescentOptimizer(0.01).minimize(cost)"
   ]
  },
  {
   "cell_type": "code",
   "execution_count": 53,
   "metadata": {
    "collapsed": false,
    "deletable": true,
    "editable": true
   },
   "outputs": [
    {
     "name": "stdout",
     "output_type": "stream",
     "text": [
      "epoch 0\n",
      "Cost: 1.181928, 3.344592\n",
      "Probability: 0.000146\n",
      "------\n",
      "epoch 10\n",
      "Cost: 0.315378, 3.774445\n",
      "Probability: 0.000000\n",
      "------\n",
      "epoch 20\n",
      "Cost: 0.275722, 3.607349\n",
      "Probability: 0.000000\n",
      "------\n",
      "epoch 30\n",
      "Cost: 0.275230, 3.440222\n",
      "Probability: 0.000000\n",
      "------\n",
      "epoch 40\n",
      "Cost: 0.274014, 3.288515\n",
      "Probability: 0.000000\n",
      "------\n",
      "epoch 50\n",
      "Cost: 0.272096, 3.160601\n",
      "Probability: 0.000000\n",
      "------\n",
      "epoch 60\n",
      "Cost: 0.272738, 3.044067\n",
      "Probability: 0.000000\n",
      "------\n",
      "epoch 70\n",
      "Cost: 0.275546, 2.957701\n",
      "Probability: 0.000000\n",
      "------\n",
      "epoch 80\n",
      "Cost: 0.278654, 2.901688\n",
      "Probability: 0.000000\n",
      "------\n",
      "epoch 90\n",
      "Cost: 0.280777, 2.869469\n",
      "Probability: 0.000000\n",
      "------\n",
      "Saving model...\n",
      "Model saved in file: ./nn_model.ckpt\n"
     ]
    }
   ],
   "source": [
    "epoches = 100\n",
    "display_steps = 10\n",
    "\n",
    "cost0 = []\n",
    "cost1 = []\n",
    "saver = tf.train.Saver()\n",
    "\n",
    "with tf.Session() as sess:\n",
    "    sess.run(tf.global_variables_initializer())\n",
    "    \n",
    "    for i in range(epoches):        \n",
    "        data_ptr = 0        \n",
    "        for j in range(batch_per_round):\n",
    "            if j == batch_per_round-1:\n",
    "                data_ptr = train_data_size - batch_size\n",
    "            feed_dict = {input_data: input_context[data_ptr:data_ptr+batch_size],\n",
    "                             labels: input_labels[data_ptr:data_ptr+batch_size]}\n",
    "            data_ptr += batch_size\n",
    "            \n",
    "            sess.run(train_step, feed_dict=feed_dict)\n",
    "            \n",
    "        if (i % display_steps) == 0:\n",
    "            print(\"epoch %d\" %i)\n",
    "            cost_train = cost.eval(feed_dict=feed_dict)\n",
    "            print(\"Cost: %f, %f\" % (cost_train[0], cost_train[1]))\n",
    "            cost0.append(cost_train[0])\n",
    "            cost1.append(cost_train[1])\n",
    "            print(\"Probability: %f\" % output.eval(feed_dict=feed_dict)[0, 3])\n",
    "            print(\"------\")            \n",
    "        \n",
    "    word_embedding_final = sess.run(word_embedding)\n",
    "    output_final = output.eval(feed_dict=feed_dict)\n",
    "    \n",
    "    # Save the variables to disk.\n",
    "    print(\"Saving model...\")\n",
    "    save_path = saver.save(sess, \"./nn_model.ckpt\")\n",
    "    print(\"Model saved in file: %s\" % save_path)\n",
    "    "
   ]
  },
  {
   "cell_type": "code",
   "execution_count": 54,
   "metadata": {
    "collapsed": false,
    "deletable": true,
    "editable": true
   },
   "outputs": [
    {
     "data": {
      "text/plain": [
       "[<matplotlib.lines.Line2D at 0x7fb9f43f5a90>]"
      ]
     },
     "execution_count": 54,
     "metadata": {},
     "output_type": "execute_result"
    },
    {
     "data": {
      "image/png": "[encoded data removed]",
      "text/plain": [
       "<matplotlib.figure.Figure at 0x7fb9f43f5ed0>"
      ]
     },
     "metadata": {},
     "output_type": "display_data"
    }
   ],
   "source": [
    "plt.plot(cost0)\n",
    "plt.plot(cost1)"
   ]
  },
  {
   "cell_type": "code",
   "execution_count": 56,
   "metadata": {
    "collapsed": true,
    "deletable": true,
    "editable": true
   },
   "outputs": [],
   "source": [
    "def get_random_words(cnt, dicts):\n",
    "    if cnt < 1:\n",
    "        cnt = 1\n",
    "    words = []\n",
    "    index = []\n",
    "    for i in range(cnt):\n",
    "        n = random.randrange(0,len(vocab_dict),1)\n",
    "        words.append(dicts[n])\n",
    "        index.append(n)\n",
    "    return words, index\n",
    "        "
   ]
  },
  {
   "cell_type": "code",
   "execution_count": 57,
   "metadata": {
    "collapsed": false,
    "deletable": true,
    "editable": true
   },
   "outputs": [],
   "source": [
    "def get_cosine_distance_matrix(word_em):\n",
    "    dist_out = 1-pairwise_distances(word_embedding_final, metric=\"cosine\")\n",
    "    for i in range(len(dist_out)):\n",
    "        dist_out[i][i] = 0 #将矩阵对角线设为0，不计算每个词与自己的距离\n",
    "    return dist_out"
   ]
  },
  {
   "cell_type": "code",
   "execution_count": 59,
   "metadata": {
    "collapsed": false,
    "deletable": true,
    "editable": true
   },
   "outputs": [],
   "source": [
    "word_dist = get_cosine_distance_matrix(word_embedding_final)"
   ]
  },
  {
   "cell_type": "code",
   "execution_count": 60,
   "metadata": {
    "collapsed": true,
    "deletable": true,
    "editable": true
   },
   "outputs": [],
   "source": [
    "def get_nearest_word(index, dist_em, top_count):\n",
    "    z = dist_em[index].argsort()[-top_count:]\n",
    "    return z"
   ]
  },
  {
   "cell_type": "code",
   "execution_count": 67,
   "metadata": {
    "collapsed": false,
    "deletable": true,
    "editable": true
   },
   "outputs": [
    {
     "name": "stdout",
     "output_type": "stream",
     "text": [
      "[3178 1370 2213 2242  679 3478 3507 1075 2817  747]\n",
      "Nearest words to 不准,2781 are:\n",
      "生命\n",
      "此后\n",
      "大海\n",
      "具备\n",
      "恶魔\n",
      "爱情\n",
      "为了\n",
      "超出\n",
      "易\n",
      "对待\n",
      "[2996 2465 1780 3111  363 3124 1452  332 3311 3437]\n",
      "Nearest words to 枯燥无味,2667 are:\n",
      "少数\n",
      "消灭\n",
      "暴君\n",
      "远远\n",
      "面对\n",
      "作出\n",
      "无论怎样\n",
      "几乎\n",
      "一所\n",
      "相\n",
      "[3125  898 2844 1398  829 2021 2924   44  219 2226]\n",
      "Nearest words to 不足以,1183 are:\n",
      "尽管如此\n",
      "狭隘\n",
      "坏事\n",
      "连续不断\n",
      "脚趾\n",
      "内\n",
      "一类\n",
      "个体\n",
      "听到\n",
      "无益\n"
     ]
    }
   ],
   "source": [
    "#从词表中随机抽取3个词，并计算与之最近的10个词\n",
    "random_words,random_index = get_random_words(3, vocab_dict)\n",
    "\n",
    "for i in range(len(random_words)):\n",
    "    index = get_nearest_word(random_index[i], word_dist, 10)\n",
    "    print index\n",
    "    print(\"Nearest words to %s,%d are:\" % (random_words[i], random_index[i]))\n",
    "    for j in index:\n",
    "        print vocab_dict[10-j+1]"
   ]
  },
  {
   "cell_type": "code",
   "execution_count": null,
   "metadata": {
    "collapsed": true,
    "deletable": true,
    "editable": true
   },
   "outputs": [],
   "source": []
  }
 ],
 "metadata": {
  "kernelspec": {
   "display_name": "Python 2",
   "language": "python",
   "name": "python2"
  },
  "language_info": {
   "codemirror_mode": {
    "name": "ipython",
    "version": 2
   },
   "file_extension": ".py",
   "mimetype": "text/x-python",
   "name": "python",
   "nbconvert_exporter": "python",
   "pygments_lexer": "ipython2",
   "version": "2.7.6"
  }
 },
 "nbformat": 4,
 "nbformat_minor": 2
}
