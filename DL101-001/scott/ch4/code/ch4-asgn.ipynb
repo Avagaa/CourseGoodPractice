{
 "cells": [
  {
   "cell_type": "markdown",
   "metadata": {
    "deletable": true,
    "editable": true
   },
   "source": [
    "# ch4 作业"
   ]
  },
  {
   "cell_type": "markdown",
   "metadata": {
    "deletable": true,
    "editable": true
   },
   "source": [
    "**作业目录**：\n",
    "\n",
    "* [Task 1](#1. 基于矩阵乘法实现单隐层神经网络)\n",
    "* [Task 2](#2. 使用 tf.layers.dense 替换矩阵乘法)\n",
    "* [Task 3](#3. 理解 word embedding 的工作原理)"
   ]
  },
  {
   "cell_type": "markdown",
   "metadata": {
    "deletable": true,
    "editable": true
   },
   "source": [
    "### 环境说明："
   ]
  },
  {
   "cell_type": "code",
   "execution_count": 1,
   "metadata": {
    "collapsed": false,
    "deletable": true,
    "editable": true
   },
   "outputs": [
    {
     "name": "stdout",
     "output_type": "stream",
     "text": [
      "Scott Ming 2017-03-31 \n",
      "\n",
      "CPython 3.5.2\n",
      "IPython 5.2.2\n",
      "\n",
      "numpy 1.12.1\n",
      "pandas 0.19.2\n",
      "matplotlib 2.0.0\n",
      "tensorflow 1.0.1\n",
      "\n",
      "compiler   : GCC 4.9.2\n",
      "system     : Linux\n",
      "release    : 3.16.0-4-amd64\n",
      "machine    : x86_64\n",
      "processor  : \n",
      "CPU cores  : 4\n",
      "interpreter: 64bit\n"
     ]
    }
   ],
   "source": [
    "%load_ext watermark\n",
    "%watermark -a 'Scott Ming' -v -m -d -p numpy,pandas,matplotlib,tensorflow"
   ]
  },
  {
   "cell_type": "markdown",
   "metadata": {
    "deletable": true,
    "editable": true
   },
   "source": [
    "## 1. 基于矩阵乘法实现单隐层神经网络\n"
   ]
  },
  {
   "cell_type": "markdown",
   "metadata": {
    "deletable": true,
    "editable": true
   },
   "source": [
    "Ch3 已经实现该任务：[ch3-asgn#3](../../ch3/code/3w-asgn.ipynb#3.2.2-%E5%8D%95%E9%9A%90%E5%B1%82%E7%A5%9E%E7%BB%8F%E7%BD%91%E7%BB%9C) 。"
   ]
  },
  {
   "cell_type": "markdown",
   "metadata": {
    "deletable": true,
    "editable": true
   },
   "source": [
    "## 2. 使用 tf.layers.dense 替换矩阵乘法"
   ]
  },
  {
   "cell_type": "code",
   "execution_count": 2,
   "metadata": {
    "collapsed": true,
    "deletable": true,
    "editable": true
   },
   "outputs": [],
   "source": [
    "%matplotlib inline\n",
    "\n",
    "import matplotlib.pyplot as plt\n",
    "import numpy as np\n",
    "import pandas as pd\n",
    "import tensorflow as tf\n",
    "from matplotlib.colors import ListedColormap"
   ]
  },
  {
   "cell_type": "markdown",
   "metadata": {
    "deletable": true,
    "editable": true
   },
   "source": [
    "读取数据"
   ]
  },
  {
   "cell_type": "code",
   "execution_count": 3,
   "metadata": {
    "collapsed": false,
    "deletable": true,
    "editable": true
   },
   "outputs": [],
   "source": [
    "data = pd.read_csv('data.csv', names='x1 x2 y'.split())\n",
    "neg = data[data.y == 0]\n",
    "pos = data[data.y == 1]\n",
    "\n",
    "p = 0.8\n",
    "shuffled_index = np.random.permutation(data.index)\n",
    "data = data.iloc[shuffled_index]  # 打乱数据\n",
    "\n",
    "train = data.iloc[:int(data.shape[0] * p), :]\n",
    "test  = data.iloc[int(data.shape[0] * p):, :]\n",
    "\n",
    "X = train.iloc[:, :2].values  # 160 * 2\n",
    "Y = train.iloc[:, 2:].values  # 160 * 1\n",
    "X_t = test.iloc[:, :2].values  # 40 * 2\n",
    "Y_t = test.iloc[:, 2:].values  # 40 * 1"
   ]
  },
  {
   "cell_type": "markdown",
   "metadata": {
    "collapsed": true,
    "deletable": true,
    "editable": true
   },
   "source": [
    "#### 1. 定义神经网络的结果和前向传播的输出结果"
   ]
  },
  {
   "cell_type": "code",
   "execution_count": 4,
   "metadata": {
    "collapsed": false,
    "deletable": true,
    "editable": true
   },
   "outputs": [],
   "source": [
    "batch_size = 8\n",
    "# w1= tf.Variable(tf.random_normal([2, 4], stddev=1, seed=1))\n",
    "# w2= tf.Variable(tf.random_normal([4, 1], stddev=1, seed=1))\n",
    "# b1 = tf.Variable(tf.random_normal([1], stddev=1, seed=1))\n",
    "# b2 = tf.Variable(tf.random_normal([1], stddev=1, seed=1))\n",
    "x = tf.placeholder(tf.float32, shape=(None, 2), name=\"x-input\")\n",
    "y_= tf.placeholder(tf.float32, shape=(None, 1), name='y-input')"
   ]
  },
  {
   "cell_type": "markdown",
   "metadata": {
    "collapsed": true,
    "deletable": true,
    "editable": true
   },
   "source": [
    "#### 2. 定义前向传播过程，损失函数及反向传播算法。"
   ]
  },
  {
   "cell_type": "code",
   "execution_count": 5,
   "metadata": {
    "collapsed": false,
    "deletable": true,
    "editable": true
   },
   "outputs": [],
   "source": [
    "a = tf.layers.dense(inputs=x, units=4, activation=tf.nn.tanh)\n",
    "y = tf.layers.dense(inputs=a, units=1, activation=tf.sigmoid)"
   ]
  },
  {
   "cell_type": "code",
   "execution_count": 6,
   "metadata": {
    "collapsed": true,
    "deletable": true,
    "editable": true
   },
   "outputs": [],
   "source": [
    "# a = tf.nn.tanh(tf.matmul(x, w1) + b1)  # 隐层用 tanh\n",
    "# y = tf.sigmoid(tf.matmul(a, w2) + b2)  # 输出层用 sigmoid\n",
    "\n",
    "# 定义损失函数\n",
    "cross_entropy = tf.reduce_mean(\n",
    "    tf.nn.sigmoid_cross_entropy_with_logits(logits=y, labels=y_)\n",
    ")\n",
    "\n",
    "# cross_entropy = - tf.reduce_mean(y_ * tf.log(tf.clip_by_value(y, 1e-10, 1.0)))  # 这个为什么不行呢？\n",
    "train_step = tf.train.AdamOptimizer(0.01).minimize(cross_entropy)"
   ]
  },
  {
   "cell_type": "code",
   "execution_count": 7,
   "metadata": {
    "collapsed": false,
    "deletable": true,
    "editable": true
   },
   "outputs": [],
   "source": [
    "# 定义一个判断 accuracy 的函数\n",
    "def accuracy(preds, labels):\n",
    "    return ((preds > 0.5) == labels).sum() / float(len(labels))\n",
    "\n",
    "# 定义一个画决策界面的函数\n",
    "def plot_decision_regions(X, y_, y, resolution=0.02):\n",
    "\n",
    "    # setup marker generator and color map\n",
    "    markers = ('s', 'x', 'o', '^', 'v')\n",
    "    colors = ('red', 'blue', 'lightgreen', 'gray', 'cyan')\n",
    "    cmap = ListedColormap(colors[:len(np.unique(y_))])\n",
    "\n",
    "    # plot the decision surface\n",
    "    x1_min, x1_max = X[:, 0].min() - 1, X[:, 0].max() + 1\n",
    "    x2_min, x2_max = X[:, 1].min() - 1, X[:, 1].max() + 1\n",
    "    xx1, xx2 = np.meshgrid(np.arange(x1_min, x1_max, resolution),\n",
    "                           np.arange(x2_min, x2_max, resolution))\n",
    "    grid = np.c_[xx1.ravel(), xx2.ravel()]\n",
    "    Z = sess.run(y, feed_dict={x:grid})\n",
    "    # Z = classifier.predict(np.array([xx1.ravel(), xx2.ravel()]).T)\n",
    "    Z = Z.reshape(xx1.shape)\n",
    "    plt.contourf(xx1, xx2, Z, alpha=0.4, cmap=cmap)\n",
    "    plt.xlim(xx1.min(), xx1.max())\n",
    "    plt.ylim(xx2.min(), xx2.max())\n",
    "\n",
    "    # plot class samples\n",
    "    y_ = y_.reshape((X.shape[0],))\n",
    "    for idx, cl in enumerate(np.unique(y_)):\n",
    "        plt.scatter(x=X[y_ == cl, 0], y=X[y_ == cl, 1],\n",
    "                    alpha=0.8, c=cmap(idx),\n",
    "                    edgecolor='black',\n",
    "                    marker=markers[idx], \n",
    "                    label=cl)"
   ]
  },
  {
   "cell_type": "markdown",
   "metadata": {
    "collapsed": true,
    "deletable": true,
    "editable": true
   },
   "source": [
    "#### 3. 创建一个会话来运行TensorFlow程序。"
   ]
  },
  {
   "cell_type": "code",
   "execution_count": 8,
   "metadata": {
    "collapsed": false,
    "deletable": true,
    "editable": true,
    "scrolled": false
   },
   "outputs": [
    {
     "name": "stdout",
     "output_type": "stream",
     "text": [
      "\n",
      "\n",
      "After 0 training step(s), cross entropy on all data is 0.735619, Trian accuracy is 0.53, Test accuracy is 0.45\n",
      "After 1000 training step(s), cross entropy on all data is 0.576954, Trian accuracy is 0.99, Test accuracy is 0.97\n",
      "After 2000 training step(s), cross entropy on all data is 0.536214, Trian accuracy is 1.00, Test accuracy is 0.97\n",
      "After 3000 training step(s), cross entropy on all data is 0.526447, Trian accuracy is 1.00, Test accuracy is 1.00\n",
      "After 4000 training step(s), cross entropy on all data is 0.521806, Trian accuracy is 1.00, Test accuracy is 1.00\n",
      "After 5000 training step(s), cross entropy on all data is 0.519071, Trian accuracy is 1.00, Test accuracy is 1.00\n",
      "After 6000 training step(s), cross entropy on all data is 0.517311, Trian accuracy is 1.00, Test accuracy is 1.00\n",
      "After 7000 training step(s), cross entropy on all data is 0.516111, Trian accuracy is 1.00, Test accuracy is 1.00\n",
      "After 8000 training step(s), cross entropy on all data is 0.515260, Trian accuracy is 1.00, Test accuracy is 1.00\n",
      "After 9000 training step(s), cross entropy on all data is 0.514641, Trian accuracy is 1.00, Test accuracy is 1.00\n"
     ]
    },
    {
     "data": {
      "image/png": "[encoded data removed]",
      "text/plain": [
       "<matplotlib.figure.Figure at 0x7fd20809d518>"
      ]
     },
     "metadata": {},
     "output_type": "display_data"
    }
   ],
   "source": [
    "with tf.Session() as sess:\n",
    "    init_op = tf.global_variables_initializer()\n",
    "    sess.run(init_op)\n",
    "    \n",
    "    # 输出目前（未经训练）的参数取值。\n",
    "#     print(\"w1:\", sess.run(w1))\n",
    "#     print(\"w2:\", sess.run(w2))\n",
    "    print(\"\\n\")\n",
    "    # 训练模型。\n",
    "    STEPS = 10000\n",
    "    for i in range(STEPS):\n",
    "        start = (i*batch_size) % 160\n",
    "        end = (i*batch_size) % 160 + batch_size\n",
    "        sess.run(train_step, feed_dict={x: X[start:end], y_: Y[start:end]})\n",
    "        if i % 1000 == 0:\n",
    "            total_cross_entropy = sess.run(cross_entropy, feed_dict={x: X, y_: Y})\n",
    "            trian_output = sess.run(y, feed_dict={x: X, y_: Y})\n",
    "            train_accuracy = accuracy(trian_output, Y)\n",
    "            test_output = sess.run(y, feed_dict={x: X_t, y_: Y_t})\n",
    "            test_accuracy = accuracy(test_output, Y_t)\n",
    "            print(\"After %d training step(s), cross entropy on all data is \"\n",
    "                  \"%3f, Trian accuracy is %.2f, Test accuracy is %.2f\" % (\n",
    "                      i, total_cross_entropy, train_accuracy, test_accuracy))\n",
    "    # 输出训练后的参数取值。\n",
    "#     print(\"\\n\")\n",
    "#     print(\"w1:\", sess.run(w1))\n",
    "#     print(\"w2:\", sess.run(w2))\n",
    "    plot_decision_regions(X, Y, y)\n",
    "    plt.legend(loc=0)\n",
    "    plt.show()"
   ]
  },
  {
   "cell_type": "markdown",
   "metadata": {
    "deletable": true,
    "editable": true
   },
   "source": [
    "## 3. 理解 word embedding 的工作原理"
   ]
  },
  {
   "cell_type": "markdown",
   "metadata": {
    "deletable": true,
    "editable": true
   },
   "source": [
    "说白了 lookup 就是一种索引的方式，跟 numpy.array 的索引没什么区别，这里直接用 numpy 来演示，\n",
    "[参考](http://stackoverflow.com/questions/34870614/what-does-tf-nn-embedding-lookup-function-do)"
   ]
  },
  {
   "cell_type": "code",
   "execution_count": 9,
   "metadata": {
    "collapsed": true,
    "deletable": true,
    "editable": true
   },
   "outputs": [],
   "source": [
    "import numpy as np"
   ]
  },
  {
   "cell_type": "code",
   "execution_count": 10,
   "metadata": {
    "collapsed": false,
    "deletable": true,
    "editable": true
   },
   "outputs": [],
   "source": [
    "np.random.seed(1)\n",
    "a = np.random.uniform(size=(3, 3))"
   ]
  },
  {
   "cell_type": "code",
   "execution_count": 11,
   "metadata": {
    "collapsed": false,
    "deletable": true,
    "editable": true
   },
   "outputs": [
    {
     "data": {
      "text/plain": [
       "array([[  4.17022005e-01,   7.20324493e-01,   1.14374817e-04],\n",
       "       [  3.02332573e-01,   1.46755891e-01,   9.23385948e-02],\n",
       "       [  1.86260211e-01,   3.45560727e-01,   3.96767474e-01]])"
      ]
     },
     "execution_count": 11,
     "metadata": {},
     "output_type": "execute_result"
    }
   ],
   "source": [
    "a"
   ]
  },
  {
   "cell_type": "code",
   "execution_count": 12,
   "metadata": {
    "collapsed": true,
    "deletable": true,
    "editable": true
   },
   "outputs": [],
   "source": [
    "word = np.asarray([0, 0, 1])"
   ]
  },
  {
   "cell_type": "markdown",
   "metadata": {
    "deletable": true,
    "editable": true
   },
   "source": [
    "矩阵乘法形式："
   ]
  },
  {
   "cell_type": "code",
   "execution_count": 13,
   "metadata": {
    "collapsed": false,
    "deletable": true,
    "editable": true
   },
   "outputs": [
    {
     "data": {
      "text/plain": [
       "array([ 0.18626021,  0.34556073,  0.39676747])"
      ]
     },
     "execution_count": 13,
     "metadata": {},
     "output_type": "execute_result"
    }
   ],
   "source": [
    "word.dot(a)"
   ]
  },
  {
   "cell_type": "markdown",
   "metadata": {
    "deletable": true,
    "editable": true
   },
   "source": [
    "look_up 抽行形式："
   ]
  },
  {
   "cell_type": "code",
   "execution_count": 14,
   "metadata": {
    "collapsed": false,
    "deletable": true,
    "editable": true
   },
   "outputs": [
    {
     "data": {
      "text/plain": [
       "array([ 0.18626021,  0.34556073,  0.39676747])"
      ]
     },
     "execution_count": 14,
     "metadata": {},
     "output_type": "execute_result"
    }
   ],
   "source": [
    "a[2, :]"
   ]
  },
  {
   "cell_type": "markdown",
   "metadata": {
    "deletable": true,
    "editable": true
   },
   "source": [
    "└两种方式显而易见是一样的"
   ]
  }
 ],
 "metadata": {
  "kernelspec": {
   "display_name": "Python 3",
   "language": "python",
   "name": "python3"
  },
  "language_info": {
   "codemirror_mode": {
    "name": "ipython",
    "version": 3
   },
   "file_extension": ".py",
   "mimetype": "text/x-python",
   "name": "python",
   "nbconvert_exporter": "python",
   "pygments_lexer": "ipython3",
   "version": "3.5.2"
  }
 },
 "nbformat": 4,
 "nbformat_minor": 2
}
