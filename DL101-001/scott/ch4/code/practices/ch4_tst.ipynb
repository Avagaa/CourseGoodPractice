{
 "cells": [
  {
   "cell_type": "code",
   "execution_count": 1,
   "metadata": {
    "collapsed": true,
    "deletable": true,
    "editable": true
   },
   "outputs": [],
   "source": [
    "import numpy as np"
   ]
  },
  {
   "cell_type": "code",
   "execution_count": 2,
   "metadata": {
    "collapsed": true,
    "deletable": true,
    "editable": true
   },
   "outputs": [],
   "source": [
    "import collections"
   ]
  },
  {
   "cell_type": "code",
   "execution_count": 3,
   "metadata": {
    "collapsed": true,
    "deletable": true,
    "editable": true
   },
   "outputs": [],
   "source": [
    "import random"
   ]
  },
  {
   "cell_type": "code",
   "execution_count": 4,
   "metadata": {
    "collapsed": true,
    "deletable": true,
    "editable": true
   },
   "outputs": [],
   "source": [
    "words = 'The sun is shining The weather is sweet The sun is shining the weather is sweet and one and one is two'.split()"
   ]
  },
  {
   "cell_type": "code",
   "execution_count": 5,
   "metadata": {
    "collapsed": true,
    "deletable": true,
    "editable": true
   },
   "outputs": [],
   "source": [
    "vocabulary_size = 10"
   ]
  },
  {
   "cell_type": "code",
   "execution_count": 6,
   "metadata": {
    "collapsed": false,
    "deletable": true,
    "editable": true
   },
   "outputs": [
    {
     "name": "stdout",
     "output_type": "stream",
     "text": [
      "Most common words (+UNK) [['UNK', 1], ('is', 5), ('The', 3), ('weather', 2), ('sweet', 2)]\n",
      "Sample data [2, 6, 1, 8, 2, 3, 1, 4, 2, 6] ['The', 'sun', 'is', 'shining', 'The', 'weather', 'is', 'sweet', 'The', 'sun']\n"
     ]
    }
   ],
   "source": [
    "def build_dataset(words):\n",
    "  count = [['UNK', -1]]\n",
    "  count.extend(collections.Counter(words).most_common(vocabulary_size - 1))\n",
    "  dictionary = dict()\n",
    "  for word, _ in count:\n",
    "    dictionary[word] = len(dictionary)  # 频率越高的词，在 dict 里面排的越前  \n",
    "  data = list()\n",
    "  unk_count = 0\n",
    "  for word in words:\n",
    "    if word in dictionary:\n",
    "      index = dictionary[word]\n",
    "    else:\n",
    "      index = 0  # dictionary['UNK']\n",
    "      unk_count += 1\n",
    "    data.append(index)  # 最后返回的就是一个从 dict 获取的对 1700 万单词的编号\n",
    "  count[0][1] = unk_count  # 修改 UNK 的值\n",
    "  reverse_dictionary = dict(zip(dictionary.values(), dictionary.keys()))\n",
    "  return data, count, dictionary, reverse_dictionary\n",
    "\n",
    "data, count, dictionary, reverse_dictionary = build_dataset(words)\n",
    "# del words  # Hint to reduce memory.\n",
    "print('Most common words (+UNK)', count[:5])\n",
    "print('Sample data', data[:10], [reverse_dictionary[i] for i in data[:10]])\n",
    "\n",
    "data_index = 0"
   ]
  },
  {
   "cell_type": "code",
   "execution_count": 7,
   "metadata": {
    "collapsed": false,
    "deletable": true,
    "editable": true,
    "scrolled": true
   },
   "outputs": [
    {
     "data": {
      "text/plain": [
       "[['UNK', 1],\n",
       " ('is', 5),\n",
       " ('The', 3),\n",
       " ('weather', 2),\n",
       " ('sweet', 2),\n",
       " ('one', 2),\n",
       " ('sun', 2),\n",
       " ('and', 2),\n",
       " ('shining', 2),\n",
       " ('the', 1)]"
      ]
     },
     "execution_count": 7,
     "metadata": {},
     "output_type": "execute_result"
    }
   ],
   "source": [
    "count"
   ]
  },
  {
   "cell_type": "code",
   "execution_count": 8,
   "metadata": {
    "collapsed": false,
    "deletable": true,
    "editable": true
   },
   "outputs": [
    {
     "data": {
      "text/plain": [
       "[2, 6, 1, 8, 2, 3, 1, 4, 2, 6, 1, 8, 9, 3, 1, 4, 7, 5, 7, 5, 1, 0]"
      ]
     },
     "execution_count": 8,
     "metadata": {},
     "output_type": "execute_result"
    }
   ],
   "source": [
    "data"
   ]
  },
  {
   "cell_type": "code",
   "execution_count": 9,
   "metadata": {
    "collapsed": true,
    "deletable": true,
    "editable": true
   },
   "outputs": [],
   "source": [
    "batch_size=8\n",
    "num_skips=2\n",
    "skip_window=1"
   ]
  },
  {
   "cell_type": "code",
   "execution_count": 22,
   "metadata": {
    "collapsed": false,
    "deletable": true,
    "editable": true
   },
   "outputs": [
    {
     "name": "stdout",
     "output_type": "stream",
     "text": [
      "target is 2, i * num_skips + j is 0, skip_windows is 1,\n",
      "t2a is [1, 2], buffer[skip_window] is 1, buffer[target] is 4\n",
      "---------------------------------------------\n",
      "target is 0, i * num_skips + j is 1, skip_windows is 1,\n",
      "t2a is [1, 2, 0], buffer[skip_window] is 1, buffer[target] is 3\n",
      "---------------------------------------------\n",
      "target is 0, i * num_skips + j is 2, skip_windows is 1,\n",
      "t2a is [1, 0], buffer[skip_window] is 4, buffer[target] is 1\n",
      "---------------------------------------------\n",
      "target is 2, i * num_skips + j is 3, skip_windows is 1,\n",
      "t2a is [1, 0, 2], buffer[skip_window] is 4, buffer[target] is 2\n",
      "---------------------------------------------\n",
      "target is 2, i * num_skips + j is 4, skip_windows is 1,\n",
      "t2a is [1, 2], buffer[skip_window] is 2, buffer[target] is 6\n",
      "---------------------------------------------\n",
      "target is 0, i * num_skips + j is 5, skip_windows is 1,\n",
      "t2a is [1, 2, 0], buffer[skip_window] is 2, buffer[target] is 4\n",
      "---------------------------------------------\n",
      "target is 2, i * num_skips + j is 6, skip_windows is 1,\n",
      "t2a is [1, 2], buffer[skip_window] is 6, buffer[target] is 1\n",
      "---------------------------------------------\n",
      "target is 0, i * num_skips + j is 7, skip_windows is 1,\n",
      "t2a is [1, 2, 0], buffer[skip_window] is 6, buffer[target] is 2\n",
      "---------------------------------------------\n",
      "1 is -> 4 sweet\n",
      "1 is -> 3 weather\n",
      "4 sweet -> 1 is\n",
      "4 sweet -> 2 The\n",
      "2 The -> 6 sun\n",
      "2 The -> 4 sweet\n",
      "6 sun -> 1 is\n",
      "6 sun -> 2 The\n"
     ]
    }
   ],
   "source": [
    "def generate_batch(batch_size, num_skips, skip_window):\n",
    "    global data_index\n",
    "    assert batch_size % num_skips == 0\n",
    "    assert num_skips <= 2 * skip_window\n",
    "    batch = np.ndarray(shape=(batch_size), dtype=np.int32)\n",
    "    labels = np.ndarray(shape=(batch_size, 1), dtype=np.int32)\n",
    "    span = 2 * skip_window + 1  # [ skip_window target skip_window ]\n",
    "    buffer = collections.deque(maxlen=span)\n",
    "    # _ 表示对循环中的实际值我们没有兴趣，为的是把 buffer 填充满,这里是 3\n",
    "    for _ in range(span):  \n",
    "        buffer.append(data[data_index])\n",
    "        data_index = (data_index + 1) % len(data)\n",
    "    for i in range(batch_size // num_skips):\n",
    "        target = skip_window  # target label at the center of the buffer\n",
    "        targets_to_avoid = [ skip_window ]\n",
    "        for j in range(num_skips):\n",
    "            while target in targets_to_avoid:\n",
    "                target = random.randint(0, span - 1)\n",
    "            targets_to_avoid.append(target)  # 这个是过滤用的，如果没有，会出现指向重复，怎么实现过滤的？？\n",
    "            print('target is {}, i * num_skips + j is {}, skip_windows is {},\\nt2a is {}, '\n",
    "                  'buffer[skip_window] is {}, buffer[target] is {}'.format(\n",
    "                target, i* num_skips + j, skip_window, targets_to_avoid, buffer[skip_window], buffer[target]))\n",
    "            print('---------------------------------------------')\n",
    "            batch[i * num_skips + j] = buffer[skip_window]\n",
    "            labels[i * num_skips + j, 0] = buffer[target]\n",
    "        buffer.append(data[data_index])  # 第二层循环完了刚好遍历完一个词，然后所有样本后读入下一个词\n",
    "        data_index = (data_index + 1) % len(data) \n",
    "    return batch, labels\n",
    "\n",
    "batch, labels = generate_batch(batch_size=8, num_skips=2, skip_window=1)\n",
    "for i in range(8):\n",
    "    print(batch[i], reverse_dictionary[batch[i]], \n",
    "        '->', labels[i, 0], reverse_dictionary[labels[i, 0]])"
   ]
  },
  {
   "cell_type": "code",
   "execution_count": 11,
   "metadata": {
    "collapsed": false,
    "deletable": true,
    "editable": true,
    "scrolled": true
   },
   "outputs": [
    {
     "name": "stdout",
     "output_type": "stream",
     "text": [
      "3\n",
      "buffer_sw is 2, buffer is deque([4, 2, 6], maxlen=3), sw is 1\n",
      "buffer_sw is 2, buffer is deque([4, 2, 6], maxlen=3), sw is 1\n",
      "10\n",
      "buffer_sw is 6, buffer is deque([2, 6, 1], maxlen=3), sw is 1\n",
      "buffer_sw is 6, buffer is deque([2, 6, 1], maxlen=3), sw is 1\n",
      "11\n",
      "buffer_sw is 1, buffer is deque([6, 1, 8], maxlen=3), sw is 1\n",
      "buffer_sw is 1, buffer is deque([6, 1, 8], maxlen=3), sw is 1\n",
      "12\n",
      "buffer_sw is 8, buffer is deque([1, 8, 9], maxlen=3), sw is 1\n",
      "buffer_sw is 8, buffer is deque([1, 8, 9], maxlen=3), sw is 1\n",
      "13\n"
     ]
    }
   ],
   "source": [
    "  global data_index\n",
    "  assert batch_size % num_skips == 0\n",
    "  assert num_skips <= 2 * skip_window\n",
    "  batch = np.ndarray(shape=(batch_size), dtype=np.int32)\n",
    "  labels = np.ndarray(shape=(batch_size, 1), dtype=np.int32)\n",
    "  span = 2 * skip_window + 1  # [ skip_window target skip_window ]\n",
    "  buffer = collections.deque(maxlen=span)\n",
    "  print(span)\n",
    "  for _ in range(span):  # _ 表示对循环中的实际值我们没有兴趣，为的是把 buffer 填充满\n",
    "    buffer.append(data[data_index])\n",
    "    data_index = (data_index + 1) % len(data)\n",
    "#     print('buffer and data_index:', buffer, data_index)\n",
    "  for i in range(batch_size // num_skips):\n",
    "    target = skip_window  # target label at the center of the buffer\n",
    "    targets_to_avoid = [ skip_window ]\n",
    "    for j in range(num_skips):\n",
    "      while target in targets_to_avoid:\n",
    "        target = random.randint(0, span - 1)\n",
    "      targets_to_avoid.append(target)\n",
    "#       print('target and targets_to_avoid:', target, targets_to_avoid)\n",
    "      batch[i * num_skips + j] = buffer[skip_window]\n",
    "      print('buffer_sw is {}, buffer is {}, sw is {}'.format(\n",
    "          buffer[skip_window], buffer, skip_window))\n",
    "#     labels[i * num_skips + j, 0] = buffer[target]\n",
    "    buffer.append(data[data_index])\n",
    "    print(data_index)\n",
    "    data_index = (data_index + 1) % len(data)"
   ]
  },
  {
   "cell_type": "code",
   "execution_count": 12,
   "metadata": {
    "collapsed": false,
    "deletable": true,
    "editable": true
   },
   "outputs": [
    {
     "name": "stdout",
     "output_type": "stream",
     "text": [
      "[[6]\n",
      " [6]\n",
      " [1]\n",
      " [1]\n",
      " [8]\n",
      " [8]\n",
      " [2]\n",
      " [2]]\n"
     ]
    }
   ],
   "source": [
    "print(labels)"
   ]
  },
  {
   "cell_type": "code",
   "execution_count": 13,
   "metadata": {
    "collapsed": false,
    "deletable": true,
    "editable": true
   },
   "outputs": [
    {
     "name": "stdout",
     "output_type": "stream",
     "text": [
      "[2 2 6 6 1 1 8 8]\n"
     ]
    }
   ],
   "source": [
    "print(batch)"
   ]
  },
  {
   "cell_type": "code",
   "execution_count": 14,
   "metadata": {
    "collapsed": false,
    "deletable": true,
    "editable": true
   },
   "outputs": [
    {
     "name": "stdout",
     "output_type": "stream",
     "text": [
      "2 [1, 2]\n"
     ]
    }
   ],
   "source": [
    "t = 1\n",
    "t2av = [t]\n",
    "while t in t2av:\n",
    "    t = random.randint(0, span - 1)    \n",
    "t2av.append(t)\n",
    "print(t, t2av)"
   ]
  },
  {
   "cell_type": "code",
   "execution_count": 15,
   "metadata": {
    "collapsed": false,
    "deletable": true,
    "editable": true
   },
   "outputs": [
    {
     "data": {
      "text/plain": [
       "2"
      ]
     },
     "execution_count": 15,
     "metadata": {},
     "output_type": "execute_result"
    }
   ],
   "source": [
    "random.randint(0, 3)"
   ]
  },
  {
   "cell_type": "code",
   "execution_count": 16,
   "metadata": {
    "collapsed": false,
    "deletable": true,
    "editable": true
   },
   "outputs": [
    {
     "ename": "NameError",
     "evalue": "name 'sdf' is not defined",
     "output_type": "error",
     "traceback": [
      "\u001b[0;31m---------------------------------------------------------------------------\u001b[0m",
      "\u001b[0;31mNameError\u001b[0m                                 Traceback (most recent call last)",
      "\u001b[0;32m<ipython-input-16-d9cca721a735>\u001b[0m in \u001b[0;36m<module>\u001b[0;34m()\u001b[0m\n\u001b[0;32m----> 1\u001b[0;31m \u001b[0msdf\u001b[0m\u001b[0;34m\u001b[0m\u001b[0m\n\u001b[0m",
      "\u001b[0;31mNameError\u001b[0m: name 'sdf' is not defined"
     ]
    }
   ],
   "source": [
    "sdf"
   ]
  },
  {
   "cell_type": "code",
   "execution_count": null,
   "metadata": {
    "collapsed": false,
    "deletable": true,
    "editable": true
   },
   "outputs": [],
   "source": [
    "def generate_batch(batch_size, num_skips, skip_window):\n",
    "  global data_index\n",
    "  assert batch_size % num_skips == 0\n",
    "  assert num_skips <= 2 * skip_window\n",
    "  batch = np.ndarray(shape=(batch_size), dtype=np.int32)\n",
    "  labels = np.ndarray(shape=(batch_size, 1), dtype=np.int32)\n",
    "  span = 2 * skip_window + 1  # [ skip_window target skip_window ]\n",
    "  buffer = collections.deque(maxlen=span)\n",
    "  for _ in range(span):  # _ 表示对循环中的实际值我们没有兴趣，为的是把 buffer 填充满\n",
    "    buffer.append(data[data_index])\n",
    "    data_index = (data_index + 1) % len(data)\n",
    "  for i in range(batch_size // num_skips):\n",
    "    target = skip_window  # target label at the center of the buffer\n",
    "    targets_to_avoid = [ skip_window ]\n",
    "    for j in range(num_skips):\n",
    "      while target in targets_to_avoid:\n",
    "        target = random.randint(0, span - 1)\n",
    "      targets_to_avoid.append(target)\n",
    "      batch[i * num_skips + j] = buffer[skip_window]\n",
    "      labels[i * num_skips + j, 0] = buffer[target]\n",
    "    buffer.append(data[data_index])\n",
    "    data_index = (data_index + 1) % len(data)\n",
    "  return batch, labels\n",
    "\n",
    "batch, labels = generate_batch(batch_size=8, num_skips=2, skip_window=1)\n",
    "for i in range(8):\n",
    "  print(batch[i], reverse_dictionary[batch[i]],\n",
    "      '->', labels[i, 0], reverse_dictionary[labels[i, 0]])"
   ]
  },
  {
   "cell_type": "code",
   "execution_count": null,
   "metadata": {
    "collapsed": true
   },
   "outputs": [],
   "source": []
  },
  {
   "cell_type": "code",
   "execution_count": null,
   "metadata": {
    "collapsed": false,
    "deletable": true,
    "editable": true
   },
   "outputs": [],
   "source": [
    "words"
   ]
  },
  {
   "cell_type": "code",
   "execution_count": null,
   "metadata": {
    "collapsed": false,
    "deletable": true,
    "editable": true
   },
   "outputs": [],
   "source": [
    "reverse_dictionary"
   ]
  },
  {
   "cell_type": "code",
   "execution_count": null,
   "metadata": {
    "collapsed": false,
    "deletable": true,
    "editable": true,
    "scrolled": true
   },
   "outputs": [],
   "source": [
    "labels[:, 0]"
   ]
  },
  {
   "cell_type": "code",
   "execution_count": null,
   "metadata": {
    "collapsed": false,
    "deletable": true,
    "editable": true
   },
   "outputs": [],
   "source": [
    "reverse_dictionary[batch[0]]"
   ]
  },
  {
   "cell_type": "code",
   "execution_count": null,
   "metadata": {
    "collapsed": false,
    "deletable": true,
    "editable": true
   },
   "outputs": [],
   "source": [
    "batch[1]"
   ]
  },
  {
   "cell_type": "code",
   "execution_count": null,
   "metadata": {
    "collapsed": false,
    "deletable": true,
    "editable": true,
    "scrolled": false
   },
   "outputs": [],
   "source": [
    "words"
   ]
  },
  {
   "cell_type": "code",
   "execution_count": null,
   "metadata": {
    "collapsed": false,
    "deletable": true,
    "editable": true
   },
   "outputs": [],
   "source": [
    "batch"
   ]
  },
  {
   "cell_type": "code",
   "execution_count": 1,
   "metadata": {
    "collapsed": true,
    "deletable": true,
    "editable": true
   },
   "outputs": [],
   "source": [
    "import tensorflow as tf"
   ]
  },
  {
   "cell_type": "code",
   "execution_count": 2,
   "metadata": {
    "collapsed": true
   },
   "outputs": [],
   "source": [
    "vocabulary_size = 10\n",
    "embedding_size = 4"
   ]
  },
  {
   "cell_type": "code",
   "execution_count": 4,
   "metadata": {
    "collapsed": false
   },
   "outputs": [],
   "source": [
    "embeddings = tf.Variable(\n",
    "        tf.random_uniform([vocabulary_size, embedding_size], -1.0, 1.0))"
   ]
  },
  {
   "cell_type": "code",
   "execution_count": 8,
   "metadata": {
    "collapsed": false
   },
   "outputs": [
    {
     "name": "stdout",
     "output_type": "stream",
     "text": [
      "[[ 0.07638097 -0.74863482  0.64941716  0.96933889]\n",
      " [ 0.99118352  0.15787339  0.51375771  0.73684525]\n",
      " [ 0.64092541  0.90945625 -0.29194331  0.81878996]\n",
      " [ 0.52478266  0.10064077  0.77446246 -0.16088438]\n",
      " [ 0.50437546 -0.35315323  0.12309933  0.04595327]\n",
      " [-0.52837586 -0.75811768  0.79396987 -0.43218112]\n",
      " [-0.42022991 -0.97509933  0.78607631 -0.02260661]\n",
      " [ 0.33184648 -0.41429234  0.80781531  0.78594446]\n",
      " [-0.39726686  0.10750365  0.01810956 -0.15397811]\n",
      " [-0.08630228  0.2818079  -0.38067865 -0.39891505]]\n"
     ]
    }
   ],
   "source": [
    "with tf.Session() as sess:\n",
    "    init = tf.global_variables_initializer()\n",
    "    init.run()\n",
    "    print(sess.run(embeddings))"
   ]
  },
  {
   "cell_type": "code",
   "execution_count": null,
   "metadata": {
    "collapsed": true
   },
   "outputs": [],
   "source": []
  }
 ],
 "metadata": {
  "kernelspec": {
   "display_name": "Python 3",
   "language": "python",
   "name": "python3"
  },
  "language_info": {
   "codemirror_mode": {
    "name": "ipython",
    "version": 3
   },
   "file_extension": ".py",
   "mimetype": "text/x-python",
   "name": "python",
   "nbconvert_exporter": "python",
   "pygments_lexer": "ipython3",
   "version": "3.5.2"
  }
 },
 "nbformat": 4,
 "nbformat_minor": 2
}
