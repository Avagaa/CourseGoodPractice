{
 "cells": [
  {
   "cell_type": "code",
   "execution_count": 1,
   "metadata": {
    "collapsed": true,
    "deletable": true,
    "editable": true
   },
   "outputs": [],
   "source": [
    "import jieba\n",
    "import collections\n",
    "import math\n",
    "import os\n",
    "import random\n",
    "import zipfile\n",
    "import string\n",
    "import numpy as np\n",
    "import urllib.request\n",
    "import tensorflow as tf\n",
    "import zhon.hanzi as zh"
   ]
  },
  {
   "cell_type": "code",
   "execution_count": 2,
   "metadata": {
    "collapsed": true,
    "deletable": true,
    "editable": true
   },
   "outputs": [],
   "source": [
    "def read_data(filename):\n",
    "    \"\"\"Read and cut texts, return a long string.\"\"\"\n",
    "    jieba.setLogLevel(20)\n",
    "    jieba.enable_parallel(4)\n",
    "    with open(filename, 'r') as f:\n",
    "        data = f.read()\n",
    "    texts = ' '.join(jieba.cut(data))\n",
    "#     texts = re.split(r'[{}|\\n]'.format(zh.punctuation), texts) # 按标点分会太稀疏\n",
    "    texts = texts.split('\\n')\n",
    "    return texts"
   ]
  },
  {
   "cell_type": "code",
   "execution_count": 3,
   "metadata": {
    "collapsed": false
   },
   "outputs": [],
   "source": [
    "texts = read_data('tst_jin.txt')"
   ]
  },
  {
   "cell_type": "code",
   "execution_count": 4,
   "metadata": {
    "collapsed": true
   },
   "outputs": [],
   "source": [
    "with open('stop_words_chinese.txt') as f:\n",
    "    chinese_stops = f.read()\n",
    "    chinese_stops = chinese_stops.split('\\n')"
   ]
  },
  {
   "cell_type": "code",
   "execution_count": 5,
   "metadata": {
    "collapsed": false
   },
   "outputs": [
    {
     "name": "stdout",
     "output_type": "stream",
     "text": [
      "CPU times: user 1.86 s, sys: 0 ns, total: 1.86 s\n",
      "Wall time: 1.85 s\n"
     ]
    }
   ],
   "source": [
    "%%time\n",
    "def clean_text(texts, chinese_stops, english_stops=None):\n",
    "    # 把大写单词转为小写\n",
    "    texts = [x.lower() for x in texts]\n",
    "    # 去除英文标点\n",
    "    texts = [''.join(c for c in x if c not in string.punctuation) for x in texts]\n",
    "    # 去除中文标点符号\n",
    "    texts = [''.join(c for c in x if c not in zh.punctuation) for x in texts]\n",
    "    # 去除中文停止词(停止词里面有数字，就不另外清理数字了)\n",
    "    texts = [' '.join([word for word in x.split() if word not in (chinese_stops)]) for x in texts]\n",
    "    # 去除英文停止词\n",
    "#     texts = [' '.join([word for word in x.split() if word not in (english_stops)]) for x in texts]\n",
    "    # 清楚多余的空格\n",
    "    texts = [' '.join(x.split()) for x in texts]\n",
    "    return texts\n",
    "\n",
    "texts = clean_text(texts, chinese_stops)"
   ]
  },
  {
   "cell_type": "code",
   "execution_count": 6,
   "metadata": {
    "collapsed": false
   },
   "outputs": [],
   "source": [
    "split_sentences = [s.split() for s in texts]  # 把每行做分割\n",
    "words = [x for sublist in split_sentences for x in sublist]  # 嵌套转平铺"
   ]
  },
  {
   "cell_type": "markdown",
   "metadata": {
    "deletable": true,
    "editable": true
   },
   "source": [
    "### 2. 创建一个字典"
   ]
  },
  {
   "cell_type": "markdown",
   "metadata": {
    "deletable": true,
    "editable": true
   },
   "source": [
    "* data: 转换后的编码\n",
    "* count：频数统计\n",
    "* dictionary：词汇表\n",
    "* reverse_dictionary：反转形式"
   ]
  },
  {
   "cell_type": "code",
   "execution_count": 7,
   "metadata": {
    "collapsed": true,
    "deletable": true,
    "editable": true
   },
   "outputs": [],
   "source": [
    "vocabulary_size = 10000"
   ]
  },
  {
   "cell_type": "code",
   "execution_count": 8,
   "metadata": {
    "collapsed": false,
    "deletable": true,
    "editable": true,
    "scrolled": true
   },
   "outputs": [
    {
     "name": "stdout",
     "output_type": "stream",
     "text": [
      "Most common words (+UNK) [['UNK', 9059], ('道', 1360), ('胡斐', 784), ('说', 562), ('便', 403)]\n",
      "Sample data [0, 530, 550, 0, 382, 138, 125, 6760, 0, 6] ['UNK', '飞狐', '外传', 'UNK', '大雨', '商家堡', '胡一刀', '曲池', 'UNK', '苗人凤']\n"
     ]
    }
   ],
   "source": [
    "def build_dataset(words):\n",
    "  count = [['UNK', -1]]\n",
    "  count.extend(collections.Counter(words).most_common(vocabulary_size - 1))\n",
    "  dictionary = dict()\n",
    "  for word, _ in count:\n",
    "    dictionary[word] = len(dictionary)  # 频率越高的词，在 dict 里面排的越前  \n",
    "  data = list()\n",
    "  unk_count = 0\n",
    "  for word in words:\n",
    "    if word in dictionary:\n",
    "      index = dictionary[word]\n",
    "    else:\n",
    "      index = 0  # dictionary['UNK']\n",
    "      unk_count += 1\n",
    "    data.append(index)  # 最后返回的就是一个从 dict 获取的对 1700 万单词的编号\n",
    "  count[0][1] = unk_count  # 修改 UNK 的值\n",
    "  reverse_dictionary = dict(zip(dictionary.values(), dictionary.keys()))\n",
    "  return data, count, dictionary, reverse_dictionary\n",
    "\n",
    "data, count, dictionary, reverse_dictionary = build_dataset(words)\n",
    "del words  # Hint to reduce memory.\n",
    "print('Most common words (+UNK)', count[:5])\n",
    "print('Sample data', data[:10], [reverse_dictionary[i] for i in data[:10]])\n",
    "\n",
    "data_index = 0"
   ]
  },
  {
   "cell_type": "markdown",
   "metadata": {
    "deletable": true,
    "editable": true
   },
   "source": [
    "### 3. 生成 Word2Vec 的训练样本"
   ]
  },
  {
   "cell_type": "markdown",
   "metadata": {
    "deletable": true,
    "editable": true
   },
   "source": [
    "* batch_size：batch 的大小，\n",
    "* skip_window: 指的是单词最远可以联系到的距离，设为 1，表示只能跟紧邻的两个单词生成样本\n",
    "* num_skips：是对每个单词生成多少个样本，不能大于 skip_window 值的两倍，并且 batch_size 必须是它的整数倍(确保每个 batch 包含了一个词汇对应的所有样本)\n",
    "* span: 对每个单词创建的相关样本时会使用到的单词数量，包括目标单词本身和前后的单词\n",
    "* buffer: 在对 deque 使用 append 方法时，只会保留最后插入的 span 个变量"
   ]
  },
  {
   "cell_type": "code",
   "execution_count": 9,
   "metadata": {
    "collapsed": false,
    "deletable": true,
    "editable": true
   },
   "outputs": [
    {
     "name": "stdout",
     "output_type": "stream",
     "text": [
      "530 飞狐 -> 550 外传\n",
      "530 飞狐 -> 0 UNK\n",
      "550 外传 -> 530 飞狐\n",
      "550 外传 -> 0 UNK\n",
      "0 UNK -> 550 外传\n",
      "0 UNK -> 382 大雨\n",
      "382 大雨 -> 0 UNK\n",
      "382 大雨 -> 138 商家堡\n"
     ]
    }
   ],
   "source": [
    "def generate_batch(batch_size, num_skips, skip_window):\n",
    "    global data_index\n",
    "    assert batch_size % num_skips == 0\n",
    "    assert num_skips <= 2 * skip_window\n",
    "    batch = np.ndarray(shape=(batch_size), dtype=np.int32)\n",
    "    labels = np.ndarray(shape=(batch_size, 1), dtype=np.int32)\n",
    "    span = 2 * skip_window + 1  # [ skip_window target skip_window ]\n",
    "    buffer = collections.deque(maxlen=span)\n",
    "    # _ 表示对循环中的实际值我们没有兴趣，为的是把 buffer 填充满,这里是 3\n",
    "    for _ in range(span):  \n",
    "        buffer.append(data[data_index])\n",
    "        data_index = (data_index + 1) % len(data)\n",
    "    for i in range(batch_size // num_skips):\n",
    "        target = skip_window  # target label at the center of the buffer\n",
    "        targets_to_avoid = [ skip_window ]\n",
    "        for j in range(num_skips):\n",
    "            while target in targets_to_avoid:\n",
    "                target = random.randint(0, span - 1)\n",
    "            targets_to_avoid.append(target)  # 这个是过滤用的，如果没有过滤，底下 labels 肯定会重复\n",
    "            batch[i * num_skips + j] = buffer[skip_window]  # skip_window 是不变的，但 buffer 变了\n",
    "            # labels 在这里结束一次循环，target 因为上面过滤过，肯定没在targets_to_avoid里面的，不然到不了这里\n",
    "            labels[i * num_skips + j, 0] = buffer[target]  \n",
    "        buffer.append(data[data_index])  # 第二层循环完了刚好遍历完一个词，然后所有样本后读入下一个词\n",
    "        data_index = (data_index + 1) % len(data) \n",
    "    return batch, labels\n",
    "\n",
    "batch, labels = generate_batch(batch_size=8, num_skips=2, skip_window=1)\n",
    "for i in range(8):\n",
    "    print(batch[i], reverse_dictionary[batch[i]], \n",
    "        '->', labels[i, 0], reverse_dictionary[labels[i, 0]])"
   ]
  },
  {
   "cell_type": "markdown",
   "metadata": {
    "deletable": true,
    "editable": true
   },
   "source": [
    "### 4. 构建模型"
   ]
  },
  {
   "cell_type": "code",
   "execution_count": 10,
   "metadata": {
    "collapsed": true,
    "deletable": true,
    "editable": true
   },
   "outputs": [],
   "source": [
    "batch_size = 128\n",
    "embedding_size = 128  # 即将单词转为稠密向量的维度\n",
    "skip_window = 1       # How many words to consider left and right.\n",
    "num_skips = 2         # How many times to reuse an input to generate a label.\n",
    "\n",
    "valid_size = 16     # 用来抽取的验证单词数\n",
    "valid_window = 100  # 验证单词只从频数最高的100个单词中抽取\n",
    "valid_examples = np.random.choice(valid_window, valid_size, replace=False)\n",
    "num_sampled = 64    # 负样本的数\n"
   ]
  },
  {
   "cell_type": "code",
   "execution_count": 11,
   "metadata": {
    "collapsed": true,
    "deletable": true,
    "editable": true
   },
   "outputs": [],
   "source": [
    "graph = tf.Graph()\n",
    "with graph.as_default():\n",
    "\n",
    "    # 输入数据\n",
    "    train_inputs = tf.placeholder(tf.int32, shape=[batch_size])\n",
    "    train_labels = tf.placeholder(tf.int32, shape=[batch_size, 1])\n",
    "    valid_dataset = tf.constant(valid_examples, dtype=tf.int32)\n",
    "\n",
    "    # Ops and variables pinned to the CPU because of missing GPU implementation\n",
    "    with tf.device('/cpu:0'):\n",
    "        # 查找输入数据的 embeddings\n",
    "        embeddings = tf.Variable(\n",
    "            tf.random_uniform([vocabulary_size, embedding_size], -1.0, 1.0))\n",
    "        embed = tf.nn.embedding_lookup(embeddings, train_inputs)  # 矩阵取行\n",
    "    \n",
    "        # Construct the variables for the NCE loss\n",
    "        # 初始化权重参数，并把 nce_biases 设为 0\n",
    "        nce_weights = tf.Variable(\n",
    "            tf.truncated_normal([vocabulary_size, embedding_size],\n",
    "                                stddev=1.0 / math.sqrt(embedding_size)))\n",
    "        nce_biases = tf.Variable(tf.zeros([vocabulary_size]))\n",
    "\n",
    "    \n",
    "    loss = tf.reduce_mean(\n",
    "        tf.nn.nce_loss(weights=nce_weights,\n",
    "                        biases=nce_biases,\n",
    "                        labels=train_labels,\n",
    "                        inputs=embed,\n",
    "                        num_sampled=num_sampled,\n",
    "                        num_classes=vocabulary_size))\n",
    "    \n",
    "    # Construct the SGD optimizer using a learning rate of 1.0.\n",
    "    optimizer = tf.train.GradientDescentOptimizer(1.0).minimize(loss)\n",
    "    \n",
    "    # Compute the cosine similarity between minibatch examples and all embeddings.\n",
    "    norm = tf.sqrt(tf.reduce_sum(tf.square(embeddings), 1, keep_dims=True))  # L2 范数\n",
    "    normalized_embeddings = embeddings / norm  # 标准化后的 normalized_embeddings\n",
    "    valid_embeddings = tf.nn.embedding_lookup(\n",
    "        normalized_embeddings, valid_dataset)  # 验证单词的嵌入向量\n",
    "    # 计算验证单词的嵌入向量与词汇表中所有单词的相似性\n",
    "    similarity = tf.matmul(\n",
    "        valid_embeddings, normalized_embeddings, transpose_b=True)  \n",
    "    \n",
    "    # Add variable initializer.\n",
    "    init = tf.global_variables_initializer()\n",
    "\n",
    "# Step 5: Begin training.\n",
    "num_steps = 100001"
   ]
  },
  {
   "cell_type": "markdown",
   "metadata": {
    "deletable": true,
    "editable": true
   },
   "source": [
    "### 5. 开始训练"
   ]
  },
  {
   "cell_type": "code",
   "execution_count": 12,
   "metadata": {
    "collapsed": false,
    "deletable": true,
    "editable": true
   },
   "outputs": [
    {
     "name": "stdout",
     "output_type": "stream",
     "text": [
      "Initialized\n",
      "Average loss at step  0 :  222.973678589\n",
      "Average loss at step  2000 :  46.1240832109\n",
      "Average loss at step  4000 :  7.36352725625\n",
      "Average loss at step  6000 :  4.83872227526\n",
      "Average loss at step  8000 :  4.33248164129\n",
      "Average loss at step  10000 :  4.08150276589\n",
      "Average loss at step  12000 :  3.90574893689\n",
      "Average loss at step  14000 :  3.7682530607\n",
      "Average loss at step  16000 :  3.64129209363\n",
      "Average loss at step  18000 :  3.53294971275\n",
      "Average loss at step  20000 :  3.44047167039\n",
      "Average loss at step  22000 :  3.3489101907\n",
      "Average loss at step  24000 :  3.27316725385\n",
      "Average loss at step  26000 :  3.20826575458\n",
      "Average loss at step  28000 :  3.1443963536\n",
      "Average loss at step  30000 :  3.08987775552\n",
      "Average loss at step  32000 :  3.03267631161\n",
      "Average loss at step  34000 :  2.98019083869\n",
      "Average loss at step  36000 :  2.94213135707\n",
      "Average loss at step  38000 :  2.90054117835\n",
      "Average loss at step  40000 :  2.85732215369\n",
      "Average loss at step  42000 :  2.82614610851\n",
      "Average loss at step  44000 :  2.78646512532\n",
      "Average loss at step  46000 :  2.74902035725\n",
      "Average loss at step  48000 :  2.7225178861\n",
      "Average loss at step  50000 :  2.68930575752\n",
      "Average loss at step  52000 :  2.65545588601\n",
      "Average loss at step  54000 :  2.63581290787\n",
      "Average loss at step  56000 :  2.60154604852\n",
      "Average loss at step  58000 :  2.58136395848\n",
      "Average loss at step  60000 :  2.55858695513\n",
      "Average loss at step  62000 :  2.53240810674\n",
      "Average loss at step  64000 :  2.51759633619\n",
      "Average loss at step  66000 :  2.49444539016\n",
      "Average loss at step  68000 :  2.46233516651\n",
      "Average loss at step  70000 :  2.45748723519\n",
      "Average loss at step  72000 :  2.43614175916\n",
      "Average loss at step  74000 :  2.41205023897\n",
      "Average loss at step  76000 :  2.40662452126\n",
      "Average loss at step  78000 :  2.38655889064\n",
      "Average loss at step  80000 :  2.37343022698\n",
      "Average loss at step  82000 :  2.35710621178\n",
      "Average loss at step  84000 :  2.34390503025\n",
      "Average loss at step  86000 :  2.33375952315\n",
      "Average loss at step  88000 :  2.32546076161\n",
      "Average loss at step  90000 :  2.3130006116\n",
      "Average loss at step  92000 :  2.303930314\n",
      "Average loss at step  94000 :  2.29252828985\n",
      "Average loss at step  96000 :  2.27712895989\n",
      "Average loss at step  98000 :  2.27509898758\n",
      "Average loss at step  100000 :  2.26770337731\n",
      "Nearest to 马行空: 多智, 委实, 大获全胜, 神妙, 二爷, 阎基笑, 行李, 平阿四,\n",
      "Nearest to 程灵素: 说明, 计, 担子, 言来语去, 绝门, 马踏坏, 所制, 缠回,\n",
      "Nearest to 武功: 交投, 牌, 一夺, 门道, 本想, 粘住, 夫妻间, 小杂种,\n",
      "Nearest to 兄弟: 练功, 医治, 扫, 相若, 遗给, 四, 从今, 剩着,\n",
      "Nearest to 脸上: 割下来, 争执, 险诈, 回房, 极少, 大驾, 双双, 那易,\n",
      "Nearest to 众人: 迎斗, 充满, 波, 弱质, 五十两, 闲人, 刚硬, 中心,\n",
      "Nearest to 知道: 来此, 太平, 何不, 多礼, 武, 相干, 可知, 一路响,\n",
      "Nearest to 二人: 贤, 咧嘴一笑, 结纳, 死命, 九点, 有力, 沮丧, 炙热,\n",
      "Nearest to 一声: 通红, 憔悴, 大字, 没刀剖, 瞧出, 屋后, 大仇, 抬起头来,\n",
      "Nearest to 站: 记住, 各挺, 中跌, 掴, 音问, 路面, 负在, 柔劲,\n",
      "Nearest to 一刀: 马奔, 街头, 变招, 报, 从后, 直冲, 狡猾, 托盘,\n",
      "Nearest to 见: 乘客, 一愕, 每日, 沸腾, 呆滞, 交朋友, 数十名, 势道,\n",
      "Nearest to 袁紫衣: 十丈, 粗点, 悟, 根茎, 金丝, 厨房, 迫切, 鲜血淋漓,\n",
      "Nearest to 一招: 一精至斯, 到处, 小溪流, 太远, 好气, 瞧个, 痊愈, 文道,\n",
      "Nearest to 苗人凤: 深厚, 一地, 门窗, 美妇, 八名, 兄妹, 嫣然一笑, 敌意,\n",
      "Nearest to 一齐: 借势, 神像, 迅疾, 老拳, 毒砂, 一抄, 提了, 俯身,\n"
     ]
    }
   ],
   "source": [
    "with tf.Session(graph=graph) as session:\n",
    "    # 初始化所有的 variable\n",
    "    init.run()\n",
    "    print(\"Initialized\")\n",
    "\n",
    "    average_loss = 0\n",
    "    for step in range(num_steps):\n",
    "        batch_inputs, batch_labels = generate_batch(\n",
    "            batch_size, num_skips, skip_window)\n",
    "        feed_dict = {train_inputs : batch_inputs, train_labels : batch_labels}\n",
    "    \n",
    "        # We perform one update step by evaluating the optimizer op (including it\n",
    "        # in the list of returned values for session.run()\n",
    "        _, loss_val = session.run([optimizer, loss], feed_dict=feed_dict)\n",
    "        average_loss += loss_val  # 累积 loss\n",
    "    \n",
    "        if step % 2000 == 0:\n",
    "            if step > 0:\n",
    "                average_loss /= 2000\n",
    "            # 2000 步后计算一次平均 loss\n",
    "            # The average loss is an estimate of the loss over the last 2000 batches.\n",
    "            print(\"Average loss at step \", step, \": \", average_loss)\n",
    "            average_loss = 0\n",
    "\n",
    "    # Note that this is expensive (~20% slowdown if computed every 500 steps)\n",
    "    # 每 1 万次循环计算一次验证单词与全部单词的相似度\n",
    "    if step % 10000 == 0:\n",
    "        sim = similarity.eval()\n",
    "        for i in range(valid_size):\n",
    "            valid_word = reverse_dictionary[valid_examples[i]]\n",
    "            top_k = 8 # number of nearest neighbors\n",
    "            nearest = (-sim[i, :]).argsort()[1:top_k+1]\n",
    "            log_str = \"Nearest to %s:\" % valid_word\n",
    "            for k in range(top_k):\n",
    "                close_word = reverse_dictionary[nearest[k]]\n",
    "                log_str = \"%s %s,\" % (log_str, close_word)\n",
    "            print(log_str)\n",
    "    final_embeddings = normalized_embeddings.eval()"
   ]
  }
 ],
 "metadata": {
  "kernelspec": {
   "display_name": "Python 3",
   "language": "python",
   "name": "python3"
  },
  "language_info": {
   "codemirror_mode": {
    "name": "ipython",
    "version": 3
   },
   "file_extension": ".py",
   "mimetype": "text/x-python",
   "name": "python",
   "nbconvert_exporter": "python",
   "pygments_lexer": "ipython3",
   "version": "3.5.2"
  }
 },
 "nbformat": 4,
 "nbformat_minor": 2
}
