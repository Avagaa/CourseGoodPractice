{
 "cells": [
  {
   "cell_type": "code",
   "execution_count": 1,
   "metadata": {
    "collapsed": true,
    "deletable": true,
    "editable": true,
    "scrolled": true
   },
   "outputs": [],
   "source": [
    "import time\n",
    "import tensorflow as tf"
   ]
  },
  {
   "cell_type": "code",
   "execution_count": 2,
   "metadata": {
    "collapsed": true,
    "deletable": true,
    "editable": true
   },
   "outputs": [],
   "source": [
    "tf.reset_default_graph()"
   ]
  },
  {
   "cell_type": "code",
   "execution_count": 14,
   "metadata": {
    "collapsed": true,
    "deletable": true,
    "editable": true
   },
   "outputs": [],
   "source": [
    "matrix = tf.random_normal([30000, 8])"
   ]
  },
  {
   "cell_type": "code",
   "execution_count": 4,
   "metadata": {
    "collapsed": false,
    "deletable": true,
    "editable": true
   },
   "outputs": [],
   "source": [
    "x = tf.SparseTensor(indices=[[0, 0]], values=[1.0], dense_shape=[2000, 30000])\n",
    "x_dense = tf.random_normal([2000, 30000])"
   ]
  },
  {
   "cell_type": "markdown",
   "metadata": {
    "deletable": true,
    "editable": true
   },
   "source": [
    "## Sparse tensor * dense tensor"
   ]
  },
  {
   "cell_type": "code",
   "execution_count": 5,
   "metadata": {
    "collapsed": false,
    "deletable": true,
    "editable": true
   },
   "outputs": [
    {
     "name": "stdout",
     "output_type": "stream",
     "text": [
      "0.278643131256\n"
     ]
    }
   ],
   "source": [
    "with tf.Session() as sess:\n",
    "    t0 = time.time()\n",
    "    tf.sparse_tensor_dense_matmul(x, matrix).eval()\n",
    "    t1 = time.time()\n",
    "    print(t1 - t0)"
   ]
  },
  {
   "cell_type": "markdown",
   "metadata": {
    "deletable": true,
    "editable": true
   },
   "source": [
    "## Dense tensor * dense tensor"
   ]
  },
  {
   "cell_type": "code",
   "execution_count": 6,
   "metadata": {
    "collapsed": false,
    "deletable": true,
    "editable": true
   },
   "outputs": [
    {
     "name": "stdout",
     "output_type": "stream",
     "text": [
      "1.9814119339\n"
     ]
    }
   ],
   "source": [
    "with tf.Session() as sess:\n",
    "    t0 = time.time()\n",
    "    tf.matmul(x_dense, matrix).eval()\n",
    "    t1 = time.time()\n",
    "    print(t1 - t0)"
   ]
  },
  {
   "cell_type": "markdown",
   "metadata": {
    "deletable": true,
    "editable": true
   },
   "source": [
    "## Embedding lookup (矩阵取行)"
   ]
  },
  {
   "cell_type": "markdown",
   "metadata": {
    "deletable": true,
    "editable": true
   },
   "source": [
    "小作业：为什么取这个矩阵的某一行，和这个词出现的时候做矩阵乘法，结果是一样的呢？"
   ]
  },
  {
   "cell_type": "code",
   "execution_count": 15,
   "metadata": {
    "collapsed": false,
    "deletable": true,
    "editable": true
   },
   "outputs": [
    {
     "name": "stdout",
     "output_type": "stream",
     "text": [
      "[[-1.07806098 -0.67310297 -0.86082876  2.41672802 -1.10359979  0.9409796\n",
      "   0.5312947  -1.06226051]\n",
      " [-0.28787497 -0.18806495 -0.45133582  0.47452462  1.33060503  0.37884986\n",
      "  -0.66389561  0.54878283]]\n",
      "-----\n",
      "0.0514109134674\n"
     ]
    }
   ],
   "source": [
    "\n",
    "with tf.Session() as sess:\n",
    "    t0 = time.time()\n",
    "    print(tf.nn.embedding_lookup(matrix, [0, 1]).eval())\n",
    "    t1 = time.time()\n",
    "    print(\"-----\")\n",
    "    print(t1 - t0)"
   ]
  },
  {
   "cell_type": "code",
   "execution_count": null,
   "metadata": {
    "collapsed": true,
    "deletable": true,
    "editable": true
   },
   "outputs": [],
   "source": []
  }
 ],
 "metadata": {
  "kernelspec": {
   "display_name": "Python 3",
   "language": "python",
   "name": "python3"
  },
  "language_info": {
   "codemirror_mode": {
    "name": "ipython",
    "version": 3
   },
   "file_extension": ".py",
   "mimetype": "text/x-python",
   "name": "python",
   "nbconvert_exporter": "python",
   "pygments_lexer": "ipython3",
   "version": "3.5.2"
  }
 },
 "nbformat": 4,
 "nbformat_minor": 2
}
