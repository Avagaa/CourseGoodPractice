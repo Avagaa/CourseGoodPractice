{
 "cells": [
  {
   "cell_type": "markdown",
   "metadata": {},
   "source": [
    "## 脚本使用说明："
   ]
  },
  {
   "cell_type": "markdown",
   "metadata": {},
   "source": [
    "### 0. 环境说明："
   ]
  },
  {
   "cell_type": "code",
   "execution_count": 1,
   "metadata": {},
   "outputs": [
    {
     "name": "stdout",
     "output_type": "stream",
     "text": [
      "     1\t# /usr/bin/env python\r\n",
      "     2\t# -*- coding: utf-8 -*-\r\n",
      "       \r\n",
      "     3\timport pickle\r\n",
      "     4\timport click\r\n",
      "     5\timport numpy as np\r\n",
      "     6\timport tensorflow as tf\r\n",
      "     7\tfrom sklearn.metrics import confusion_matrix\r\n",
      "     8\tfrom mlxtend.plotting import plot_confusion_matrix\r\n",
      "       \r\n",
      "     9\tfrom text_cnn import TextCNN\r\n",
      "    10\tfrom text_helpers import build_dataset\r\n",
      "       \r\n",
      "       \r\n"
     ]
    }
   ],
   "source": [
    "!head -n 14 cnn.py | nl"
   ]
  },
  {
   "cell_type": "code",
   "execution_count": 2,
   "metadata": {},
   "outputs": [
    {
     "name": "stdout",
     "output_type": "stream",
     "text": [
      "Scott Ming 2017-04-14 \n",
      "\n",
      "CPython 3.6.0\n",
      "IPython 5.3.0\n",
      "\n",
      "click 6.7\n",
      "numpy 1.12.1\n",
      "pandas 0.19.2\n",
      "scipy 0.19.0\n",
      "matplotlib 2.0.0\n",
      "mlxtend 0.6.0\n",
      "sklearn 0.18.1\n",
      "tensorflow 1.0.1\n",
      "\n",
      "compiler   : GCC 4.9.2\n",
      "system     : Linux\n",
      "release    : 3.16.0-4-amd64\n",
      "machine    : x86_64\n",
      "processor  : \n",
      "CPU cores  : 4\n",
      "interpreter: 64bit\n"
     ]
    }
   ],
   "source": [
    "%load_ext watermark\n",
    "%watermark -a 'Scott Ming' -v -m -d -p click,numpy,pandas,scipy,matplotlib,mlxtend,sklearn,tensorflow"
   ]
  },
  {
   "cell_type": "markdown",
   "metadata": {},
   "source": [
    "#### 注意："
   ]
  },
  {
   "cell_type": "markdown",
   "metadata": {},
   "source": [
    "如果是 linux 下的 pyenv 环境，直接在终端引入 mlxtend 包时，会报错，两种解决办法：\n",
    "\n",
    "* 注释掉  `8 from mlxtend.plotting import plot_confusion_matrix` 这行，但就没有画图效果了。\n",
    "* 参考 [Tkinter import error for pyenv Pythons · Issue #94 · pyenv/pyenv](https://github.com/pyenv/pyenv/issues/94) 彻底解决 tkinter 问题\n",
    "\n",
    "另外直接在终端运行 tensorflow 时，会有报 warning, 可参看这里隐藏 [\"The TensorFlow library wasn't compiled to use SSE instructions, but these are available on your machine and could speed up CPU computations\" in \"Hello, TensorFlow!\" program · Issue #7778 · tensorflow/tensorflow](https://github.com/tensorflow/tensorflow/issues/7778)"
   ]
  },
  {
   "cell_type": "markdown",
   "metadata": {},
   "source": [
    "### 1. 脚本简介"
   ]
  },
  {
   "cell_type": "markdown",
   "metadata": {},
   "source": [
    "脚本分为 2 个 command(可理解为子命令)，可用 `--help` 命令查看"
   ]
  },
  {
   "cell_type": "code",
   "execution_count": 1,
   "metadata": {
    "scrolled": true
   },
   "outputs": [
    {
     "name": "stdout",
     "output_type": "stream",
     "text": [
      "Usage: cnn.py [OPTIONS] COMMAND [ARGS]...\r\n",
      "\r\n",
      "  CNN for Text Classification in Tensorflow.\r\n",
      "\r\n",
      "  Examples:\r\n",
      "\r\n",
      "      python cnn.py train  # train\r\n",
      "\r\n",
      "      python cnn.py train --confusion-matrix  # plot confusion matrix\r\n",
      "\r\n",
      "      python cnn.py --train-path train_shuffle.txt --test-path test_shuffle.txt clean  # text clean\r\n",
      "\r\n",
      "Options:\r\n",
      "  --train-path TEXT  Default: data/train_data.txt.\r\n",
      "  --test-path TEXT   Default: data/test_data.txt.\r\n",
      "  --help             Show this message and exit.\r\n",
      "\r\n",
      "Commands:\r\n",
      "  clean\r\n",
      "  train\r\n"
     ]
    }
   ],
   "source": [
    "!python cnn.py --help"
   ]
  },
  {
   "cell_type": "markdown",
   "metadata": {},
   "source": [
    "`python cnn.py` 后面接的是 group 参数，即脚本全局参数，`clean` 和 `train` 都需要 data，默认的 path 参数是清理好的数据，所以如果需要重新清理，需要指定 `--train-path` 和 `--test-path`"
   ]
  },
  {
   "cell_type": "markdown",
   "metadata": {},
   "source": [
    "子命令下还有参数，继续接 `--help` 可以查看："
   ]
  },
  {
   "cell_type": "code",
   "execution_count": 2,
   "metadata": {},
   "outputs": [
    {
     "name": "stdout",
     "output_type": "stream",
     "text": [
      "Usage: cnn.py train [OPTIONS]\r\n",
      "\r\n",
      "Options:\r\n",
      "  --vocab-size INTEGER\r\n",
      "  --num-classes INTEGER\r\n",
      "  --filter-num INTEGER\r\n",
      "  --batch-size INTEGER\r\n",
      "  --word-embed-size INTEGER\r\n",
      "  --training-steps INTEGER\r\n",
      "  --learning-rate FLOAT\r\n",
      "  --print-loss-every INTEGER\r\n",
      "  --confusion-matrix\r\n",
      "  --help                      Show this message and exit.\r\n"
     ]
    }
   ],
   "source": [
    "!python cnn.py  train --help"
   ]
  },
  {
   "cell_type": "markdown",
   "metadata": {},
   "source": [
    "几乎所有参数都可以指定，当然，都有默认"
   ]
  },
  {
   "cell_type": "markdown",
   "metadata": {},
   "source": [
    "### 2. 数据清理"
   ]
  },
  {
   "cell_type": "markdown",
   "metadata": {},
   "source": [
    "数据清理的运行时间比较长，预计 2-3 分钟"
   ]
  },
  {
   "cell_type": "code",
   "execution_count": 6,
   "metadata": {},
   "outputs": [
    {
     "name": "stdout",
     "output_type": "stream",
     "text": [
      "cleaning...\n",
      "Done!\n"
     ]
    }
   ],
   "source": [
    "!python cnn.py --train-path train_shuffle.txt --test-path test_shuffle.txt clean"
   ]
  },
  {
   "cell_type": "code",
   "execution_count": 8,
   "metadata": {
    "scrolled": false
   },
   "outputs": [
    {
     "name": "stdout",
     "output_type": "stream",
     "text": [
      "cleared_data.pkl   stop_words_chinese.txt  train_data.txt\r\n",
      "reversed_dict.pkl  test_data.txt\t   word_dict.pkl\r\n"
     ]
    }
   ],
   "source": [
    "!ls data/"
   ]
  },
  {
   "cell_type": "code",
   "execution_count": 3,
   "metadata": {},
   "outputs": [
    {
     "name": "stdout",
     "output_type": "stream",
     "text": [
      "3525 0 406 237 144 0 854 495 475 326 180 145 0 0 0 0 0 0 0 0 1\r\n",
      "141 3479 1310 11 0 0 0 0 0 0 0 0 0 0 0 0 0 0 0 0 1\r\n",
      "6429 1093 389 0 0 0 0 0 0 0 0 0 0 0 0 0 0 0 0 0 1\r\n",
      "1 0 138 312 316 718 1898 2164 1013 353 1691 2383 779 1 3 316 1792 697 0 4781 1\r\n",
      "41 247 134 65 34 48 14 443 16 2695 3260 41 667 16 325 1612 41 1287 0 782 1\r\n"
     ]
    }
   ],
   "source": [
    "!head -n 5 data/test_data.txt"
   ]
  },
  {
   "cell_type": "code",
   "execution_count": 4,
   "metadata": {
    "scrolled": true
   },
   "outputs": [
    {
     "name": "stdout",
     "output_type": "stream",
     "text": [
      "Column counts: 21\r\n"
     ]
    }
   ],
   "source": [
    "!awk '{print \"Column counts: \" NF; exit}' data/test_data.txt"
   ]
  },
  {
   "cell_type": "markdown",
   "metadata": {},
   "source": [
    "└ 最后一列是 sentiment"
   ]
  },
  {
   "cell_type": "markdown",
   "metadata": {
    "collapsed": true
   },
   "source": [
    "### 3. 数据训练"
   ]
  },
  {
   "cell_type": "code",
   "execution_count": 3,
   "metadata": {},
   "outputs": [
    {
     "name": "stdout",
     "output_type": "stream",
     "text": [
      "Usage: cnn.py train [OPTIONS]\r\n",
      "\r\n",
      "Options:\r\n",
      "  --vocab-size INTEGER\r\n",
      "  --num-classes INTEGER\r\n",
      "  --filter-num INTEGER\r\n",
      "  --batch-size INTEGER\r\n",
      "  --word-embed-size INTEGER\r\n",
      "  --training-steps INTEGER\r\n",
      "  --learning-rate FLOAT\r\n",
      "  --print-loss-every INTEGER\r\n",
      "  --confusion-matrix\r\n",
      "  --help                      Show this message and exit.\r\n"
     ]
    }
   ],
   "source": [
    "!python cnn.py train --help"
   ]
  },
  {
   "cell_type": "code",
   "execution_count": 3,
   "metadata": {
    "scrolled": true
   },
   "outputs": [
    {
     "name": "stdout",
     "output_type": "stream",
     "text": [
      "After 0 training steps, cross entropy on batch data is 0.827254, trian accuracy is 0.47, test accuracy is 0.47\n",
      "After 2 training steps, cross entropy on batch data is 0.945222, trian accuracy is 0.47, test accuracy is 0.47\n",
      "After 4 training steps, cross entropy on batch data is 0.814763, trian accuracy is 0.47, test accuracy is 0.47\n",
      "After 6 training steps, cross entropy on batch data is 0.686127, trian accuracy is 0.48, test accuracy is 0.48\n",
      "After 8 training steps, cross entropy on batch data is 0.744843, trian accuracy is 0.48, test accuracy is 0.48\n"
     ]
    }
   ],
   "source": [
    "%%bash\n",
    "export TF_CPP_MIN_LOG_LEVEL=2  \n",
    "python cnn.py train"
   ]
  },
  {
   "cell_type": "code",
   "execution_count": 5,
   "metadata": {},
   "outputs": [
    {
     "name": "stdout",
     "output_type": "stream",
     "text": [
      "After 0 training steps, cross entropy on batch data is 1.332271, trian accuracy is 0.47, test accuracy is 0.47\n",
      "After 1000 training steps, cross entropy on batch data is 0.574108, trian accuracy is 0.63, test accuracy is 0.58\n",
      "After 2000 training steps, cross entropy on batch data is 0.419571, trian accuracy is 0.72, test accuracy is 0.65\n",
      "After 3000 training steps, cross entropy on batch data is 0.341926, trian accuracy is 0.82, test accuracy is 0.73\n",
      "After 4000 training steps, cross entropy on batch data is 0.188271, trian accuracy is 0.89, test accuracy is 0.79\n",
      "After 5000 training steps, cross entropy on batch data is 0.103248, trian accuracy is 0.94, test accuracy is 0.84\n",
      "After 6000 training steps, cross entropy on batch data is 0.122121, trian accuracy is 0.97, test accuracy is 0.87\n",
      "After 7000 training steps, cross entropy on batch data is 0.035493, trian accuracy is 0.98, test accuracy is 0.89\n",
      "After 8000 training steps, cross entropy on batch data is 0.089365, trian accuracy is 0.99, test accuracy is 0.89\n",
      "After 9000 training steps, cross entropy on batch data is 0.009212, trian accuracy is 0.99, test accuracy is 0.90\n",
      "After 10000 training steps, cross entropy on batch data is 0.043294, trian accuracy is 0.99, test accuracy is 0.90\n"
     ]
    }
   ],
   "source": [
    "%%bash\n",
    "export TF_CPP_MIN_LOG_LEVEL=2 # 把头部的 warning 隐藏\n",
    "python cnn.py train --training-steps 10001 --print-loss-every 1000"
   ]
  },
  {
   "cell_type": "markdown",
   "metadata": {},
   "source": [
    "`--confusion-matrix` 作为 `flag`，添加时，可打印矩阵，画图在本地环境会呈现"
   ]
  },
  {
   "cell_type": "code",
   "execution_count": 6,
   "metadata": {
    "collapsed": true
   },
   "outputs": [],
   "source": [
    "%matplotlib inline"
   ]
  },
  {
   "cell_type": "code",
   "execution_count": 7,
   "metadata": {},
   "outputs": [
    {
     "name": "stdout",
     "output_type": "stream",
     "text": [
      "After 0 training steps, cross entropy on batch data is 0.749080, trian accuracy is 0.47, test accuracy is 0.48\n",
      "After 500 training steps, cross entropy on batch data is 0.640280, trian accuracy is 0.59, test accuracy is 0.56\n",
      "After 1000 training steps, cross entropy on batch data is 0.577666, trian accuracy is 0.63, test accuracy is 0.59\n",
      "After 1500 training steps, cross entropy on batch data is 0.532600, trian accuracy is 0.69, test accuracy is 0.63\n",
      "After 2000 training steps, cross entropy on batch data is 0.413534, trian accuracy is 0.79, test accuracy is 0.71\n",
      "After 2500 training steps, cross entropy on batch data is 0.433147, trian accuracy is 0.81, test accuracy is 0.72\n",
      "After 3000 training steps, cross entropy on batch data is 0.402461, trian accuracy is 0.83, test accuracy is 0.74\n",
      "After 3500 training steps, cross entropy on batch data is 0.309006, trian accuracy is 0.88, test accuracy is 0.78\n",
      "After 4000 training steps, cross entropy on batch data is 0.259623, trian accuracy is 0.91, test accuracy is 0.80\n",
      "After 4500 training steps, cross entropy on batch data is 0.102850, trian accuracy is 0.93, test accuracy is 0.82\n",
      "After 5000 training steps, cross entropy on batch data is 0.120703, trian accuracy is 0.94, test accuracy is 0.84\n",
      "\n",
      " Confusion Matrix: \n",
      "[[4446 1127]\n",
      " [ 548 4417]]\n",
      "<matplotlib.figure.Figure at 0x7f5276780b38>\n"
     ]
    }
   ],
   "source": [
    "%%bash\n",
    "export TF_CPP_MIN_LOG_LEVEL=2\n",
    "python cnn.py train --training-steps 5001 --print-loss-every 500 --confusion-matrix"
   ]
  },
  {
   "cell_type": "markdown",
   "metadata": {},
   "source": [
    "### 4. 数据验证"
   ]
  },
  {
   "cell_type": "markdown",
   "metadata": {},
   "source": [
    "待补一个 command"
   ]
  }
 ],
 "metadata": {
  "kernelspec": {
   "display_name": "Python 3",
   "language": "python",
   "name": "python3"
  },
  "language_info": {
   "codemirror_mode": {
    "name": "ipython",
    "version": 3
   },
   "file_extension": ".py",
   "mimetype": "text/x-python",
   "name": "python",
   "nbconvert_exporter": "python",
   "pygments_lexer": "ipython3",
   "version": "3.6.0"
  }
 },
 "nbformat": 4,
 "nbformat_minor": 2
}
