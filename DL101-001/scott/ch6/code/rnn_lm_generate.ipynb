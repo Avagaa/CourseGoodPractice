{
 "cells": [
  {
   "cell_type": "markdown",
   "metadata": {},
   "source": [
    "## 3. 使用 RNN 构建语言模型"
   ]
  },
  {
   "cell_type": "markdown",
   "metadata": {},
   "source": [
    "### 环境说明："
   ]
  },
  {
   "cell_type": "code",
   "execution_count": 1,
   "metadata": {},
   "outputs": [
    {
     "name": "stdout",
     "output_type": "stream",
     "text": [
      "Scott Ming 2017-04-23 \n",
      "\n",
      "CPython 3.6.0\n",
      "IPython 6.0.0\n",
      "\n",
      "numpy 1.12.1\n",
      "pandas 0.19.2\n",
      "matplotlib 2.0.0\n",
      "tensorflow 1.0.1\n",
      "\n",
      "compiler   : GCC 4.9.2\n",
      "system     : Linux\n",
      "release    : 3.16.0-4-amd64\n",
      "machine    : x86_64\n",
      "processor  : \n",
      "CPU cores  : 4\n",
      "interpreter: 64bit\n"
     ]
    }
   ],
   "source": [
    "%load_ext watermark\n",
    "%watermark -a 'Scott Ming' -v -m -d -p numpy,pandas,matplotlib,tensorflow"
   ]
  },
  {
   "cell_type": "code",
   "execution_count": 2,
   "metadata": {
    "collapsed": true
   },
   "outputs": [],
   "source": [
    "%matplotlib inline\n",
    "\n",
    "import itertools\n",
    "import operator\n",
    "import re\n",
    "from collections import Counter\n",
    "\n",
    "import numpy as np\n",
    "import matplotlib.pyplot as plt\n",
    "import jieba\n",
    "import tensorflow as tf\n",
    "import zhon.hanzi as zh"
   ]
  },
  {
   "cell_type": "markdown",
   "metadata": {},
   "source": [
    "### 1. 数据清理"
   ]
  },
  {
   "cell_type": "code",
   "execution_count": 3,
   "metadata": {
    "collapsed": true
   },
   "outputs": [],
   "source": [
    "def read_data(filename):\n",
    "    \"\"\"Read and cut sequences, return a long string.\"\"\"\n",
    "    jieba.setLogLevel(20)\n",
    "    jieba.enable_parallel(4)\n",
    "    with open(filename, 'r') as file:\n",
    "        data = file.read()\n",
    "    # Split sequences with zh.punctuation or 'new line'\n",
    "    sequences = re.split(r'[{}|\\n]'.format(zh.punctuation), data)\n",
    "    # Remove empty string\n",
    "    sequences = (sequence for sequence in sequences if sequence)\n",
    "    sequences = (list(jieba.cut(sequence)) for sequence in sequences)\n",
    "    return sequences"
   ]
  },
  {
   "cell_type": "code",
   "execution_count": 4,
   "metadata": {
    "collapsed": true
   },
   "outputs": [],
   "source": [
    "def get_common_words(words, n):\n",
    "    count = Counter(words)\n",
    "    count_dict = {i: j for i, j in count.items() if j > n}\n",
    "    word_counts = sorted(count_dict.items(), key=operator.itemgetter(1), reverse=True)\n",
    "    return word_counts"
   ]
  },
  {
   "cell_type": "code",
   "execution_count": 5,
   "metadata": {
    "collapsed": true
   },
   "outputs": [],
   "source": [
    "def build_dict(word_counts):\n",
    "    count = [['UNK', -1]]\n",
    "    count.extend(word_counts)\n",
    "    word_dict = {key: value for value, (key, _) in enumerate(count)}\n",
    "    reversed_dict = {key: value for value, key in word_dict.items()}\n",
    "    return word_dict, reversed_dict"
   ]
  },
  {
   "cell_type": "code",
   "execution_count": 6,
   "metadata": {
    "collapsed": true
   },
   "outputs": [],
   "source": [
    "def word_to_number(sequences, word_dict):\n",
    "    data = []\n",
    "    for sequence in sequences:\n",
    "        sequence_data = []\n",
    "        for word in sequence:\n",
    "            if word in word_dict:\n",
    "                index = word_dict[word]\n",
    "            else:\n",
    "                index = 0\n",
    "            sequence_data.append(index)\n",
    "        data.append(sequence_data)\n",
    "    return data"
   ]
  },
  {
   "cell_type": "code",
   "execution_count": 7,
   "metadata": {
    "collapsed": true
   },
   "outputs": [],
   "source": [
    "data = list(read_data('YGZ-rain.md'))"
   ]
  },
  {
   "cell_type": "code",
   "execution_count": 8,
   "metadata": {
    "collapsed": true
   },
   "outputs": [],
   "source": [
    "words = list(itertools.chain.from_iterable(data))"
   ]
  },
  {
   "cell_type": "code",
   "execution_count": 9,
   "metadata": {
    "collapsed": true
   },
   "outputs": [],
   "source": [
    "word_counts = get_common_words(words, 0)  # 小语料训练，所以不做截断了"
   ]
  },
  {
   "cell_type": "code",
   "execution_count": 10,
   "metadata": {
    "collapsed": true
   },
   "outputs": [],
   "source": [
    "word_dict, reversed_dict = build_dict(word_counts)"
   ]
  },
  {
   "cell_type": "code",
   "execution_count": 11,
   "metadata": {
    "collapsed": true
   },
   "outputs": [],
   "source": [
    "text_data = word_to_number(data, word_dict)"
   ]
  },
  {
   "cell_type": "markdown",
   "metadata": {},
   "source": [
    "### 0. 定义参数"
   ]
  },
  {
   "cell_type": "code",
   "execution_count": 12,
   "metadata": {},
   "outputs": [
    {
     "data": {
      "image/png": "[encoded data removed]",
      "text/plain": [
       "<matplotlib.figure.Figure at 0x7fc07a41b438>"
      ]
     },
     "metadata": {},
     "output_type": "display_data"
    }
   ],
   "source": [
    "length = [len(i) for i in text_data]\n",
    "plt.hist(length)\n",
    "plt.show()"
   ]
  },
  {
   "cell_type": "markdown",
   "metadata": {},
   "source": [
    "大部分句子长度都在10以下"
   ]
  },
  {
   "cell_type": "code",
   "execution_count": 13,
   "metadata": {
    "collapsed": true
   },
   "outputs": [],
   "source": [
    "vocab_size = len(word_counts) + 1  # 1214\n",
    "hidden_size = 128  # The same as embedding dim\n",
    "batch_size = 20\n",
    "max_words = 10\n",
    "number_steps = max_words - 1\n",
    "epochs = 1000 + 1\n",
    "print_loss_every = 100\n",
    "eval_every = 200\n",
    "lr = 0.01"
   ]
  },
  {
   "cell_type": "markdown",
   "metadata": {},
   "source": [
    "### 1. 定义测试数据"
   ]
  },
  {
   "cell_type": "code",
   "execution_count": 14,
   "metadata": {
    "collapsed": true,
    "scrolled": true
   },
   "outputs": [],
   "source": [
    "data_padding = np.asarray([x[:max_words] for x in [y + [0] * max_words \n",
    "                                         for y in text_data]])"
   ]
  },
  {
   "cell_type": "code",
   "execution_count": 15,
   "metadata": {
    "collapsed": true
   },
   "outputs": [],
   "source": [
    "x = data_padding[:, :number_steps]\n",
    "y_ = data_padding[:, 1:]\n",
    "train_data = np.concatenate((x, y_), axis=1)  # 方便 shuffle"
   ]
  },
  {
   "cell_type": "markdown",
   "metadata": {
    "collapsed": true
   },
   "source": [
    "### 2. 定义 RNN 类"
   ]
  },
  {
   "cell_type": "code",
   "execution_count": 16,
   "metadata": {
    "collapsed": true
   },
   "outputs": [],
   "source": [
    "class BasicRNN(object):\n",
    "    def __init__(self, number_steps, vocab_size, hidden_size, batch_size, infer_sample=False):\n",
    "        self.number_steps = number_steps\n",
    "        self.vocab_size = vocab_size\n",
    "        self.hidden_size = hidden_size  # Equal to embeddings dim\n",
    "        self.batch_size = batch_size \n",
    "        \n",
    "        if infer_sample:\n",
    "            self.batch_size = 1\n",
    "            self.number_steps = 1\n",
    "        else:\n",
    "            self.batch_size = batch_size\n",
    "            self.number_steps = number_steps\n",
    "\n",
    "        # Placeholder for input, output\n",
    "        self.input_x = tf.placeholder(tf.int32, shape=[None, self.number_steps], name='input_x')\n",
    "        self.input_y = tf.placeholder(tf.int32, shape=[None, self.number_steps], name='input_y')\n",
    "        # 先把非零元素转为 1，然后求和，即句子长度，当然原先句子中的一些 unk 也被忽略了\n",
    "        self.sequence_length = tf.reduce_sum(tf.sign(self.input_x), 1)\n",
    "        \n",
    "        # Embedding layer\n",
    "        with tf.name_scope('embedding'):\n",
    "            word_embedding = tf.get_variable('word_embedding', [self.vocab_size, self.hidden_size],\n",
    "                                            tf.float32, tf.random_normal_initializer())\n",
    "            embeds = tf.nn.embedding_lookup(word_embedding, self.input_x)\n",
    "        \n",
    "        # RNN layer\n",
    "        with tf.name_scope('rnn'):\n",
    "            self.basic_cell = tf.contrib.rnn.BasicRNNCell(self.hidden_size)\n",
    "            self.initial_state = self.basic_cell.zero_state(self.batch_size, tf.float32)\n",
    "            outputs, states = tf.nn.dynamic_rnn(\n",
    "                self.basic_cell, embeds, dtype=tf.float32, sequence_length=self.sequence_length)\n",
    "            # Flat outputs\n",
    "            output_flat = tf.reshape(outputs, [-1, self.hidden_size])\n",
    "            self.final_state = states\n",
    "        \n",
    "        # Softmax output\n",
    "        with tf.name_scope('softmax_output'):\n",
    "            W = tf.get_variable('W', [self.hidden_size, self.vocab_size], \n",
    "                                tf.float32, tf.random_normal_initializer())\n",
    "            b = tf.get_variable('b', [self.vocab_size], tf.float32, \n",
    "                                tf.constant_initializer(0.0))\n",
    "            self.logits = tf.matmul(output_flat, W) + b\n",
    "            self.model_output = tf.nn.softmax(self.logits)\n",
    "        \n",
    "        # Cross-entropy loss\n",
    "        with tf.name_scope('loss'):\n",
    "            labels_flat = tf.reshape(self.input_y, [-1])\n",
    "            mask = tf.cast(tf.sign(labels_flat), dtype=tf.float32)\n",
    "            cost = tf.nn.sparse_softmax_cross_entropy_with_logits(logits=self.logits, labels=labels_flat)\n",
    "            self.loss = tf.reduce_sum(cost * mask) / batch_size  # 每个句子的平均损失\n",
    "\n",
    "    def sample(self, sess, words=reversed_dict, vocab=word_dict, num=10, prime_text='听听 那冷雨'):\n",
    "        state = sess.run(self.basic_cell.zero_state(1, tf.float32))\n",
    "        word_list = prime_text.split()\n",
    "        for word in word_list[:-1]:\n",
    "            x = np.zeros((1, 1))\n",
    "            x[0, 0] = vocab[word]\n",
    "            feed_dict = {self.input_x: x, self.initial_state:state}\n",
    "            [state] = sess.run([self.final_state], feed_dict=feed_dict)\n",
    "\n",
    "        out_sentence = prime_text\n",
    "        word = word_list[-1]\n",
    "        for n in range(num):\n",
    "            x = np.zeros((1, 1))\n",
    "            x[0, 0] = vocab[word]\n",
    "            feed_dict = {self.input_x: x, self.initial_state: state}\n",
    "            [model_output, state] = sess.run([self.model_output, self.final_state], feed_dict=feed_dict)\n",
    "            sample = np.argmax(model_output[0])\n",
    "            if sample == 0:\n",
    "                break\n",
    "            word = words[sample]\n",
    "            out_sentence = out_sentence + ' ' + word\n",
    "        return out_sentence"
   ]
  },
  {
   "cell_type": "code",
   "execution_count": 17,
   "metadata": {
    "collapsed": true,
    "scrolled": false
   },
   "outputs": [],
   "source": [
    "rnn = BasicRNN(number_steps, vocab_size, hidden_size, batch_size)"
   ]
  },
  {
   "cell_type": "markdown",
   "metadata": {},
   "source": [
    "### 3. 训练模型"
   ]
  },
  {
   "cell_type": "code",
   "execution_count": 18,
   "metadata": {
    "scrolled": false
   },
   "outputs": [
    {
     "name": "stdout",
     "output_type": "stream",
     "text": [
      "After  100 steps, perplexity is 14.38\n",
      "After  200 steps, perplexity is 4.67\n",
      "听听 那冷雨 雨滴 椽 的 意趣 两次 神州 的 意趣 两次 神州\n",
      "=-==-==-==-==-==-==-==-==-==-==-==-=\n",
      "After  300 steps, perplexity is 2.97\n",
      "After  400 steps, perplexity is 2.34\n",
      "听听 那冷雨 在 日式 的 境界 水迢 的 境界 水迢 的 境界\n",
      "=-==-==-==-==-==-==-==-==-==-==-==-=\n",
      "After  500 steps, perplexity is 2.03\n",
      "After  600 steps, perplexity is 1.84\n",
      "听听 那冷雨 在 旭日 在 旭日 在 旭日 在 旭日 在 旭日\n",
      "=-==-==-==-==-==-==-==-==-==-==-==-=\n",
      "After  700 steps, perplexity is 1.71\n",
      "After  800 steps, perplexity is 1.62\n",
      "听听 那冷雨 着 星期三 飘云 在 古老 的 意趣 毕竟 是 一种\n",
      "=-==-==-==-==-==-==-==-==-==-==-==-=\n",
      "After  900 steps, perplexity is 1.56\n",
      "After 1000 steps, perplexity is 1.50\n",
      "听听 那冷雨 在 石 秋 雨潇潇 台风 台雨 在 石 秋 雨潇潇\n",
      "=-==-==-==-==-==-==-==-==-==-==-==-=\n"
     ]
    }
   ],
   "source": [
    "train_step = tf.train.AdamOptimizer(lr).minimize(rnn.loss)\n",
    "saver = tf.train.Saver()\n",
    "with tf.Session() as sess:\n",
    "    with tf.variable_scope(tf.get_variable_scope(), reuse=True):\n",
    "        test_basic_model = BasicRNN(\n",
    "            number_steps, vocab_size, hidden_size, \n",
    "            batch_size, infer_sample=True)\n",
    "    costs = 0.0\n",
    "    iters = 0\n",
    "    sess.run(tf.global_variables_initializer())\n",
    "    for i in range(epochs): \n",
    "        batch_data = train_data[np.random.randint(\n",
    "            train_data.shape[0], size=batch_size), :]\n",
    "        X = batch_data[:, :number_steps]\n",
    "        Y = batch_data[:, number_steps:]\n",
    "        feed_dict = {rnn.input_x: X, rnn.input_y: Y}\n",
    "        sess.run(train_step, feed_dict=feed_dict)\n",
    "        cross_entropy = sess.run(rnn.loss, feed_dict=feed_dict)\n",
    "        costs += cross_entropy\n",
    "        iters += number_steps\n",
    "        perplexity = np.exp(costs / iters)\n",
    "        if i % print_loss_every == 0 and i != 0:\n",
    "            print('After {:4d} steps, perplexity is {:.2f}'.format(i, perplexity))\n",
    "        if i % eval_every == 0 and i != 0:\n",
    "            print(test_basic_model.sample(sess, num=10))\n",
    "            print('=-=' * 12)\n",
    "    # After training, save the final sess\n",
    "    saver.save(sess, 'save_model/rnn-model.ckpt', global_step=epochs)"
   ]
  },
  {
   "cell_type": "markdown",
   "metadata": {},
   "source": [
    "## Refrences:\n",
    "\n",
    "* [assignment2.pdf](http://web.stanford.edu/class/cs224n/assignment2/assignment2.pdf)\n",
    "* [The Unreasonable Effectiveness of Recurrent Neural Networks](http://karpathy.github.io/2015/05/21/rnn-effectiveness/)"
   ]
  }
 ],
 "metadata": {
  "hide_input": false,
  "kernelspec": {
   "display_name": "Python 3",
   "language": "python",
   "name": "python3"
  },
  "language_info": {
   "codemirror_mode": {
    "name": "ipython",
    "version": 3
   },
   "file_extension": ".py",
   "mimetype": "text/x-python",
   "name": "python",
   "nbconvert_exporter": "python",
   "pygments_lexer": "ipython3",
   "version": "3.6.0"
  },
  "toc": {
   "colors": {
    "hover_highlight": "#DAA520",
    "running_highlight": "#FF0000",
    "selected_highlight": "#FFD700"
   },
   "moveMenuLeft": true,
   "nav_menu": {
    "height": "87px",
    "width": "252px"
   },
   "navigate_menu": true,
   "number_sections": false,
   "sideBar": true,
   "threshold": 4,
   "toc_cell": false,
   "toc_section_display": "block",
   "toc_window_display": false,
   "widenNotebook": false
  }
 },
 "nbformat": 4,
 "nbformat_minor": 2
}
