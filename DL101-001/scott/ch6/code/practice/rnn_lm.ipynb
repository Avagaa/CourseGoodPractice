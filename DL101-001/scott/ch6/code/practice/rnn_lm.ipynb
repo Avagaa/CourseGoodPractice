{
 "cells": [
  {
   "cell_type": "code",
   "execution_count": 1,
   "metadata": {
    "collapsed": true
   },
   "outputs": [],
   "source": [
    "%matplotlib inline\n",
    "\n",
    "import itertools\n",
    "import operator\n",
    "import re\n",
    "from collections import Counter\n",
    "\n",
    "import numpy as np\n",
    "import matplotlib.pyplot as plt\n",
    "import jieba\n",
    "import tensorflow as tf\n",
    "import zhon.hanzi as zh"
   ]
  },
  {
   "cell_type": "markdown",
   "metadata": {},
   "source": [
    "### 1. 数据清理"
   ]
  },
  {
   "cell_type": "code",
   "execution_count": 2,
   "metadata": {
    "collapsed": true
   },
   "outputs": [],
   "source": [
    "def read_data(filename):\n",
    "    \"\"\"Read and cut sequences, return a long string.\"\"\"\n",
    "    jieba.setLogLevel(20)\n",
    "    jieba.enable_parallel(4)\n",
    "    with open(filename, 'r') as file:\n",
    "        data = file.read()\n",
    "    # Split sequences with zh.punctuation or 'new line'\n",
    "    sequences = re.split(r'[{}|\\n]'.format(zh.punctuation), data)\n",
    "    # Remove empty string\n",
    "    sequences = (sequence for sequence in sequences if sequence)\n",
    "    sequences = (list(jieba.cut(sequence)) for sequence in sequences)\n",
    "    return sequences"
   ]
  },
  {
   "cell_type": "code",
   "execution_count": 3,
   "metadata": {
    "collapsed": true
   },
   "outputs": [],
   "source": [
    "def get_common_words(words, n):\n",
    "    count = Counter(words)\n",
    "    count_dict = {i: j for i, j in count.items() if j > n}\n",
    "    word_counts = sorted(count_dict.items(), key=operator.itemgetter(1), reverse=True)\n",
    "    return word_counts"
   ]
  },
  {
   "cell_type": "code",
   "execution_count": 4,
   "metadata": {
    "collapsed": true
   },
   "outputs": [],
   "source": [
    "def build_dict(word_counts):\n",
    "    count = [['UNK', -1]]\n",
    "    count.extend(word_counts)\n",
    "    word_dict = {key: value for value, (key, _) in enumerate(count)}\n",
    "    reversed_dict = {key: value for value, key in word_dict.items()}\n",
    "    return word_dict, reversed_dict"
   ]
  },
  {
   "cell_type": "code",
   "execution_count": 5,
   "metadata": {
    "collapsed": true
   },
   "outputs": [],
   "source": [
    "def word_to_number(sequences, word_dict):\n",
    "    data = []\n",
    "    for sequence in sequences:\n",
    "        sequence_data = []\n",
    "        for word in sequence:\n",
    "            if word in word_dict:\n",
    "                index = word_dict[word]\n",
    "            else:\n",
    "                index = 0\n",
    "            sequence_data.append(index)\n",
    "        data.append(sequence_data)\n",
    "    return data"
   ]
  },
  {
   "cell_type": "code",
   "execution_count": 6,
   "metadata": {
    "collapsed": true
   },
   "outputs": [],
   "source": [
    "data = list(read_data('YGZ-rain.md'))"
   ]
  },
  {
   "cell_type": "code",
   "execution_count": 7,
   "metadata": {
    "collapsed": true
   },
   "outputs": [],
   "source": [
    "words = list(itertools.chain.from_iterable(data))"
   ]
  },
  {
   "cell_type": "code",
   "execution_count": 8,
   "metadata": {
    "collapsed": true
   },
   "outputs": [],
   "source": [
    "word_counts = get_common_words(words, 0)  # 小语料训练，所以不做截断了"
   ]
  },
  {
   "cell_type": "code",
   "execution_count": 9,
   "metadata": {
    "collapsed": true
   },
   "outputs": [],
   "source": [
    "word_dict, reversed_dict = build_dict(word_counts)"
   ]
  },
  {
   "cell_type": "code",
   "execution_count": 10,
   "metadata": {
    "collapsed": true
   },
   "outputs": [],
   "source": [
    "text_data = word_to_number(data, word_dict)"
   ]
  },
  {
   "cell_type": "markdown",
   "metadata": {},
   "source": [
    "### 0. 定义参数"
   ]
  },
  {
   "cell_type": "code",
   "execution_count": 11,
   "metadata": {},
   "outputs": [
    {
     "data": {
      "image/png": "[encoded data removed]",
      "text/plain": [
       "<matplotlib.figure.Figure at 0x7fae84a2b7f0>"
      ]
     },
     "metadata": {},
     "output_type": "display_data"
    }
   ],
   "source": [
    "length = [len(i) for i in text_data]\n",
    "plt.hist(length)\n",
    "plt.show()"
   ]
  },
  {
   "cell_type": "markdown",
   "metadata": {},
   "source": [
    "大部分句子长度都在10以下"
   ]
  },
  {
   "cell_type": "code",
   "execution_count": 12,
   "metadata": {
    "collapsed": true
   },
   "outputs": [],
   "source": [
    "vocab_size = len(word_counts) + 1  # 1214\n",
    "hidden_size = 128  # The same as embedding dim\n",
    "batch_size = 20\n",
    "max_words = 10\n",
    "number_steps = max_words - 1\n",
    "epochs = 1000 + 1\n",
    "print_loss_every = 100\n",
    "lr = 0.001"
   ]
  },
  {
   "cell_type": "markdown",
   "metadata": {},
   "source": [
    "### 1. 定义测试数据"
   ]
  },
  {
   "cell_type": "code",
   "execution_count": 13,
   "metadata": {
    "collapsed": true,
    "scrolled": true
   },
   "outputs": [],
   "source": [
    "data_padding = np.asarray([x[:max_words] for x in [y + [0] * max_words \n",
    "                                         for y in text_data]])"
   ]
  },
  {
   "cell_type": "code",
   "execution_count": 14,
   "metadata": {
    "collapsed": true
   },
   "outputs": [],
   "source": [
    "x = data_padding[:, :number_steps]\n",
    "y_ = data_padding[:, 1:]"
   ]
  },
  {
   "cell_type": "code",
   "execution_count": 15,
   "metadata": {
    "collapsed": true
   },
   "outputs": [],
   "source": [
    "train_data = np.concatenate((x, y_), axis=1)  # 方便 shuffle"
   ]
  },
  {
   "cell_type": "markdown",
   "metadata": {
    "collapsed": true
   },
   "source": [
    "### 2. 定义神经网络结构以及前向传播过程"
   ]
  },
  {
   "cell_type": "code",
   "execution_count": 16,
   "metadata": {
    "collapsed": true
   },
   "outputs": [],
   "source": [
    "# Placeholder for input, output\n",
    "# input_x 不取最后一词，input_y 不取第一词，所以两者的维度是一样的\n",
    "input_x = tf.placeholder(tf.int32, shape=[None, number_steps], name='input_x')\n",
    "input_y = tf.placeholder(tf.int32, shape=[None, number_steps], name='input_y')"
   ]
  },
  {
   "cell_type": "code",
   "execution_count": 17,
   "metadata": {
    "collapsed": true
   },
   "outputs": [],
   "source": [
    "# 先把非零元素转为 1，然后求和，即句子长度，当然原先句子中的一些 unk 也被忽略了\n",
    "sequence_length = tf.reduce_sum(tf.sign(input_x), 1)  "
   ]
  },
  {
   "cell_type": "code",
   "execution_count": 18,
   "metadata": {
    "collapsed": true
   },
   "outputs": [],
   "source": [
    "# Embedding layer\n",
    "with tf.name_scope('embedding'):\n",
    "    word_embedding = tf.Variable(tf.random_uniform([vocab_size, hidden_size]))\n",
    "    embeds = tf.nn.embedding_lookup(word_embedding, input_x)"
   ]
  },
  {
   "cell_type": "code",
   "execution_count": 19,
   "metadata": {
    "collapsed": true
   },
   "outputs": [],
   "source": [
    "# RNN layer\n",
    "with tf.name_scope('rnn'):\n",
    "    cell = tf.contrib.rnn.BasicRNNCell(128)\n",
    "    outputs, states = tf.nn.dynamic_rnn(\n",
    "        cell, embeds, dtype=tf.float32, sequence_length=sequence_length)\n",
    "    # Flat outputs\n",
    "    output_flat = tf.reshape(outputs, [-1, hidden_size])"
   ]
  },
  {
   "cell_type": "code",
   "execution_count": 20,
   "metadata": {
    "collapsed": true
   },
   "outputs": [],
   "source": [
    "logits = tf.layers.dense(output_flat, vocab_size)"
   ]
  },
  {
   "cell_type": "code",
   "execution_count": 21,
   "metadata": {
    "collapsed": true
   },
   "outputs": [],
   "source": [
    "probs = tf.nn.softmax(logits)"
   ]
  },
  {
   "cell_type": "code",
   "execution_count": 22,
   "metadata": {
    "collapsed": true
   },
   "outputs": [],
   "source": [
    "labels_flat = tf.reshape(input_y, [-1])\n",
    "mask = tf.cast(tf.sign(labels_flat), dtype=tf.float32)"
   ]
  },
  {
   "cell_type": "code",
   "execution_count": 23,
   "metadata": {
    "collapsed": true
   },
   "outputs": [],
   "source": [
    "cost = tf.nn.sparse_softmax_cross_entropy_with_logits(logits=logits, labels=labels_flat)"
   ]
  },
  {
   "cell_type": "code",
   "execution_count": 24,
   "metadata": {
    "collapsed": true
   },
   "outputs": [],
   "source": [
    "loss = tf.reduce_sum(cost * mask) / batch_size  # 每个句子的平均损失"
   ]
  },
  {
   "cell_type": "markdown",
   "metadata": {},
   "source": [
    "### 3. 训练模型"
   ]
  },
  {
   "cell_type": "code",
   "execution_count": 29,
   "metadata": {
    "scrolled": true
   },
   "outputs": [
    {
     "name": "stdout",
     "output_type": "stream",
     "text": [
      "After    0 steps, perplexity is 11.08\n",
      "After  100 steps, perplexity is 10.97\n",
      "After  200 steps, perplexity is 9.97\n",
      "After  300 steps, perplexity is 8.36\n",
      "After  400 steps, perplexity is 7.17\n",
      "After  500 steps, perplexity is 6.06\n",
      "After  600 steps, perplexity is 5.16\n",
      "After  700 steps, perplexity is 4.41\n",
      "After  800 steps, perplexity is 3.83\n",
      "After  900 steps, perplexity is 3.39\n",
      "After 1000 steps, perplexity is 3.05\n"
     ]
    }
   ],
   "source": [
    "train_step = tf.train.AdamOptimizer(lr).minimize(loss)\n",
    "saver = tf.train.Saver()\n",
    "with tf.Session() as sess:\n",
    "    costs = 0.0\n",
    "    iters = 0\n",
    "    sess.run(tf.global_variables_initializer())\n",
    "    for i in range(epochs): \n",
    "        batch_data = train_data[np.random.randint(\n",
    "            train_data.shape[0], size=batch_size), :]\n",
    "        X = batch_data[:, :number_steps]\n",
    "        Y = batch_data[:, number_steps:]\n",
    "        feed_dict = {input_x: X, input_y: Y}\n",
    "        sess.run(train_step, feed_dict=feed_dict)\n",
    "        cross_entropy = sess.run(loss, feed_dict=feed_dict)\n",
    "        costs += cross_entropy\n",
    "        iters += number_steps\n",
    "        perplexity = np.exp(costs / iters)\n",
    "        if i % print_loss_every == 0:\n",
    "            print('After {:4d} steps, perplexity is {:.2f}'.format(i, perplexity))\n",
    "    # After training, save the final sess\n",
    "    saver.save(sess, 'save_model/rnn-model.ckpt', global_step=epochs)"
   ]
  },
  {
   "cell_type": "code",
   "execution_count": 26,
   "metadata": {
    "scrolled": false
   },
   "outputs": [
    {
     "name": "stdout",
     "output_type": "stream",
     "text": [
      "checkpoint\t\t\t\t rnn-model.ckpt-1001.index\r\n",
      "rnn-model.ckpt-1001.data-00000-of-00001  rnn-model.ckpt-1001.meta\r\n"
     ]
    }
   ],
   "source": [
    "!ls save_model/"
   ]
  },
  {
   "cell_type": "markdown",
   "metadata": {},
   "source": [
    "## Refrences:\n",
    "\n",
    "* [assignment2.pdf](http://web.stanford.edu/class/cs224n/assignment2/assignment2.pdf)\n",
    "* [The Unreasonable Effectiveness of Recurrent Neural Networks](http://karpathy.github.io/2015/05/21/rnn-effectiveness/)"
   ]
  }
 ],
 "metadata": {
  "hide_input": false,
  "kernelspec": {
   "display_name": "Python 3",
   "language": "python",
   "name": "python3"
  },
  "language_info": {
   "codemirror_mode": {
    "name": "ipython",
    "version": 3
   },
   "file_extension": ".py",
   "mimetype": "text/x-python",
   "name": "python",
   "nbconvert_exporter": "python",
   "pygments_lexer": "ipython3",
   "version": "3.6.0"
  },
  "toc": {
   "colors": {
    "hover_highlight": "#DAA520",
    "running_highlight": "#FF0000",
    "selected_highlight": "#FFD700"
   },
   "moveMenuLeft": true,
   "nav_menu": {
    "height": "87px",
    "width": "252px"
   },
   "navigate_menu": true,
   "number_sections": false,
   "sideBar": true,
   "threshold": 4,
   "toc_cell": false,
   "toc_section_display": "block",
   "toc_window_display": false,
   "widenNotebook": false
  }
 },
 "nbformat": 4,
 "nbformat_minor": 2
}
