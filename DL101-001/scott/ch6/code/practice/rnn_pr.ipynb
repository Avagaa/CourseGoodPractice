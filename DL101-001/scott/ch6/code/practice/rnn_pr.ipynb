{
 "cells": [
  {
   "cell_type": "code",
   "execution_count": 1,
   "metadata": {
    "collapsed": true,
    "scrolled": true
   },
   "outputs": [],
   "source": [
    "import tensorflow as tf"
   ]
  },
  {
   "cell_type": "code",
   "execution_count": 2,
   "metadata": {
    "collapsed": true
   },
   "outputs": [],
   "source": [
    "import numpy as np"
   ]
  },
  {
   "cell_type": "markdown",
   "metadata": {},
   "source": [
    "### 0. 定义参数"
   ]
  },
  {
   "cell_type": "code",
   "execution_count": 32,
   "metadata": {
    "collapsed": true
   },
   "outputs": [],
   "source": [
    "vocab_size = 100\n",
    "hidden_size = 128  # aslo embedding dim\n",
    "batch_size = 3\n",
    "number_steps = 4\n",
    "max_words = 5\n",
    "epochs = 11\n",
    "print_loss_every = 2\n",
    "lr = 0.01"
   ]
  },
  {
   "cell_type": "markdown",
   "metadata": {},
   "source": [
    "### 1. 定义测试数据"
   ]
  },
  {
   "cell_type": "code",
   "execution_count": 4,
   "metadata": {
    "collapsed": true
   },
   "outputs": [],
   "source": [
    "data = np.asarray([[1, 2], [1, 2, 3], [1, 2, 3, 4, 5]])"
   ]
  },
  {
   "cell_type": "code",
   "execution_count": 5,
   "metadata": {
    "collapsed": true,
    "scrolled": true
   },
   "outputs": [],
   "source": [
    "data_padding = np.asarray([x[:max_words] for x in [y + [0] * max_words \n",
    "                                         for y in data]])"
   ]
  },
  {
   "cell_type": "code",
   "execution_count": 6,
   "metadata": {
    "scrolled": true
   },
   "outputs": [
    {
     "data": {
      "text/plain": [
       "array([[1, 2, 0, 0, 0],\n",
       "       [1, 2, 3, 0, 0],\n",
       "       [1, 2, 3, 4, 5]])"
      ]
     },
     "execution_count": 6,
     "metadata": {},
     "output_type": "execute_result"
    }
   ],
   "source": [
    "data_padding"
   ]
  },
  {
   "cell_type": "code",
   "execution_count": 7,
   "metadata": {
    "collapsed": true
   },
   "outputs": [],
   "source": [
    "x = data_padding[:, :number_steps]\n",
    "y_ = data_padding[:, 1:]"
   ]
  },
  {
   "cell_type": "code",
   "execution_count": 8,
   "metadata": {},
   "outputs": [
    {
     "data": {
      "text/plain": [
       "array([[1, 2, 0, 0],\n",
       "       [1, 2, 3, 0],\n",
       "       [1, 2, 3, 4]])"
      ]
     },
     "execution_count": 8,
     "metadata": {},
     "output_type": "execute_result"
    }
   ],
   "source": [
    "x"
   ]
  },
  {
   "cell_type": "code",
   "execution_count": 9,
   "metadata": {
    "scrolled": false
   },
   "outputs": [
    {
     "data": {
      "text/plain": [
       "array([[2, 0, 0, 0],\n",
       "       [2, 3, 0, 0],\n",
       "       [2, 3, 4, 5]])"
      ]
     },
     "execution_count": 9,
     "metadata": {},
     "output_type": "execute_result"
    }
   ],
   "source": [
    "y_"
   ]
  },
  {
   "cell_type": "markdown",
   "metadata": {
    "collapsed": true
   },
   "source": [
    "### 2. 定义神经网络结构以及前向传播过程"
   ]
  },
  {
   "cell_type": "code",
   "execution_count": 11,
   "metadata": {
    "collapsed": true
   },
   "outputs": [],
   "source": [
    "# Placeholder for input, output\n",
    "# input_x 不取最后一词，input_y 不取第一词，所以两者的维度是一样的\n",
    "input_x = tf.placeholder(tf.int32, shape=[None, number_steps], name='input_x')\n",
    "input_y = tf.placeholder(tf.int32, shape=[None, number_steps], name='input_y')"
   ]
  },
  {
   "cell_type": "code",
   "execution_count": 12,
   "metadata": {
    "collapsed": true
   },
   "outputs": [],
   "source": [
    "mask = tf.sign(tf.reshape(input_y, [-1]))"
   ]
  },
  {
   "cell_type": "code",
   "execution_count": 13,
   "metadata": {
    "collapsed": true
   },
   "outputs": [],
   "source": [
    "# 先把非零元素转为 1，然后求和，即句子长度，当然原先句子中的一些 unk 也被忽略了\n",
    "sequence_length = tf.reduce_sum(tf.sign(input_x), 1)  "
   ]
  },
  {
   "cell_type": "code",
   "execution_count": 14,
   "metadata": {
    "collapsed": true
   },
   "outputs": [],
   "source": [
    "# Embedding layer\n",
    "with tf.name_scope('embedding'):\n",
    "    word_embedding = tf.Variable(tf.random_uniform([vocab_size, hidden_size]))\n",
    "    embeds = tf.nn.embedding_lookup(word_embedding, input_x)"
   ]
  },
  {
   "cell_type": "code",
   "execution_count": 15,
   "metadata": {
    "collapsed": true
   },
   "outputs": [],
   "source": [
    "# RNN layer\n",
    "with tf.name_scope('rnn'):\n",
    "    cell = tf.contrib.rnn.BasicRNNCell(128)\n",
    "    outputs, states = tf.nn.dynamic_rnn(\n",
    "        cell, embeds, dtype=tf.float32, sequence_length=sequence_length)\n",
    "    # Flat outputs\n",
    "    output_flat = tf.reshape(outputs, [-1, hidden_size])"
   ]
  },
  {
   "cell_type": "code",
   "execution_count": 16,
   "metadata": {
    "collapsed": true
   },
   "outputs": [],
   "source": [
    "logits = tf.layers.dense(output_flat, vocab_size)"
   ]
  },
  {
   "cell_type": "code",
   "execution_count": 17,
   "metadata": {
    "collapsed": true
   },
   "outputs": [],
   "source": [
    "y = tf.nn.softmax(logits)"
   ]
  },
  {
   "cell_type": "code",
   "execution_count": 18,
   "metadata": {
    "collapsed": true
   },
   "outputs": [],
   "source": [
    "labels_flat = tf.reshape(input_y, [-1])\n",
    "mask = tf.sign(labels_flat)\n",
    "mask = tf.cast(mask, dtype=tf.float32)"
   ]
  },
  {
   "cell_type": "code",
   "execution_count": 19,
   "metadata": {
    "collapsed": true
   },
   "outputs": [],
   "source": [
    "cost = tf.nn.sparse_softmax_cross_entropy_with_logits(logits=logits, labels=labels_flat)"
   ]
  },
  {
   "cell_type": "code",
   "execution_count": 20,
   "metadata": {
    "collapsed": true
   },
   "outputs": [],
   "source": [
    "loss = tf.reduce_sum(cost * mask) / batch_size  # 每个句子的平均损失"
   ]
  },
  {
   "cell_type": "code",
   "execution_count": 21,
   "metadata": {
    "collapsed": true
   },
   "outputs": [],
   "source": [
    "test_feed = {input_x: np.array([[2, 2, 0, 0], [1, 2, 3, 0]]).reshape(2, 4)}"
   ]
  },
  {
   "cell_type": "markdown",
   "metadata": {},
   "source": [
    "### 3. 训练模型"
   ]
  },
  {
   "cell_type": "code",
   "execution_count": 41,
   "metadata": {
    "scrolled": false
   },
   "outputs": [
    {
     "name": "stdout",
     "output_type": "stream",
     "text": [
      "After 0 steps, perplexity is 15.48\n",
      "After 2 steps, perplexity is 11.72\n",
      "After 4 steps, perplexity is 9.05\n",
      "After 6 steps, perplexity is 7.15\n",
      "After 8 steps, perplexity is 5.79\n",
      "After 10 steps, perplexity is 4.83\n"
     ]
    }
   ],
   "source": [
    "train_step = tf.train.GradientDescentOptimizer(lr).minimize(loss)\n",
    "feed_dict = {input_x: x, input_y: y_}\n",
    "with tf.Session() as sess:\n",
    "    costs = 0.0\n",
    "    iters = 0\n",
    "    sess.run(tf.global_variables_initializer())\n",
    "    for i in range(epochs):        \n",
    "        sess.run(train_step, feed_dict=feed_dict)\n",
    "        cross_entropy = sess.run(loss, feed_dict=feed_dict)\n",
    "        costs += cross_entropy\n",
    "        iters += number_steps\n",
    "        perplexity = np.exp(costs / iters)\n",
    "        if i % print_loss_every == 0:\n",
    "            print('After {} steps, perplexity is {:.2f}'.format(i, perplexity))"
   ]
  },
  {
   "cell_type": "markdown",
   "metadata": {},
   "source": [
    "## Refrences:\n",
    "\n",
    "* [assignment2.pdf](http://web.stanford.edu/class/cs224n/assignment2/assignment2.pdf)"
   ]
  }
 ],
 "metadata": {
  "hide_input": false,
  "kernelspec": {
   "display_name": "Python 3",
   "language": "python",
   "name": "python3"
  },
  "language_info": {
   "codemirror_mode": {
    "name": "ipython",
    "version": 3
   },
   "file_extension": ".py",
   "mimetype": "text/x-python",
   "name": "python",
   "nbconvert_exporter": "python",
   "pygments_lexer": "ipython3",
   "version": "3.6.0"
  },
  "toc": {
   "colors": {
    "hover_highlight": "#DAA520",
    "running_highlight": "#FF0000",
    "selected_highlight": "#FFD700"
   },
   "moveMenuLeft": true,
   "nav_menu": {
    "height": "87px",
    "width": "252px"
   },
   "navigate_menu": true,
   "number_sections": false,
   "sideBar": true,
   "threshold": 4,
   "toc_cell": false,
   "toc_section_display": "block",
   "toc_window_display": false,
   "widenNotebook": false
  }
 },
 "nbformat": 4,
 "nbformat_minor": 2
}
