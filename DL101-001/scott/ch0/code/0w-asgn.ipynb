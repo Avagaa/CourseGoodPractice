{
 "cells": [
  {
   "cell_type": "markdown",
   "metadata": {
    "deletable": true,
    "editable": true
   },
   "source": [
    "# 第 0 周作业\n",
    "\n",
    "## 统计词频\n",
    "\n",
    "### 1. 思路：\n",
    "\n",
    "入门挑战已经完成了对二元词组的统计，现在想优化这几方面：\n",
    "\n",
    "* 入门挑战的词组是已分好词的文本，如何对未分词的文本也做统计\n",
    "* 让脚本既支持二元词组，也支持单个词的词频统计\n",
    "* 词频统计应该是个常用功能，最好能写成脚本方便以后使用\n",
    "\n",
    "### 2. 解决步骤：\n",
    "\n",
    "1. 读取文件\n",
    "2. jieba 分词\n",
    "3. 数据清理\n",
    "4. 统计词频\n",
    "5. 写成脚本"
   ]
  },
  {
   "cell_type": "markdown",
   "metadata": {},
   "source": [
    "**后面借助 click 包写了脚本，终端使用效果大概是这样的：**"
   ]
  },
  {
   "cell_type": "markdown",
   "metadata": {},
   "source": [
    "针对未分词的数据："
   ]
  },
  {
   "cell_type": "code",
   "execution_count": 2,
   "metadata": {
    "collapsed": false
   },
   "outputs": [
    {
     "name": "stdout",
     "output_type": "stream",
     "text": [
      "Building prefix dict from the default dictionary ...\n",
      "Loading model from cache /tmp/jieba.cache\n",
      "Loading model cost 0.983 seconds.\n",
      "Prefix dict has been built succesfully.\n",
      "\n",
      "出现频率最高的 10 个词是:\n",
      "猛虎 17\n",
      "蔷薇 15\n",
      "所谓 10\n",
      "欣赏 9\n",
      "阴柔 7\n",
      "人性 7\n",
      "才能 7\n",
      "气质 6\n",
      "两种 6\n",
      "表现 5\n"
     ]
    }
   ],
   "source": [
    "!python counter.py data/yu.txt"
   ]
  },
  {
   "cell_type": "markdown",
   "metadata": {},
   "source": [
    "默认统计前 10 个词，当然也可以指定"
   ]
  },
  {
   "cell_type": "code",
   "execution_count": 3,
   "metadata": {
    "collapsed": false
   },
   "outputs": [
    {
     "name": "stdout",
     "output_type": "stream",
     "text": [
      "Building prefix dict from the default dictionary ...\n",
      "Loading model from cache /tmp/jieba.cache\n",
      "Loading model cost 1.076 seconds.\n",
      "Prefix dict has been built succesfully.\n",
      "\n",
      "出现频率最高的 20 个词是:\n",
      "猛虎 17\n",
      "蔷薇 15\n",
      "所谓 10\n",
      "欣赏 9\n",
      "才能 7\n",
      "阴柔 7\n",
      "人性 7\n",
      "两种 6\n",
      "气质 6\n",
      "表现 5\n",
      "象征 5\n",
      "心里 5\n",
      "一个 5\n",
      "诗派 4\n",
      "阳刚 4\n",
      "东坡 4\n",
      "艺术 4\n",
      "代表 4\n",
      "其一 4\n",
      "一句 3\n"
     ]
    }
   ],
   "source": [
    "!python counter.py -t 20 data/yu.txt"
   ]
  },
  {
   "cell_type": "markdown",
   "metadata": {},
   "source": [
    "还能对二元词组做统计"
   ]
  },
  {
   "cell_type": "code",
   "execution_count": 4,
   "metadata": {
    "collapsed": false
   },
   "outputs": [
    {
     "name": "stdout",
     "output_type": "stream",
     "text": [
      "Building prefix dict from the default dictionary ...\n",
      "Loading model from cache /tmp/jieba.cache\n",
      "Loading model cost 0.988 seconds.\n",
      "Prefix dict has been built succesfully.\n",
      "\n",
      "出现频率最高的 10 个二元词组是:\n",
      "这种 情况 77\n",
      "没有 什么 70\n",
      "这个 问题 57\n",
      "因为 他们 55\n",
      "如果 我们 50\n",
      "所有 这些 47\n",
      "这种 观点 46\n",
      "这个 世界 40\n",
      "他们 自己 38\n",
      "我们 可以 37\n"
     ]
    }
   ],
   "source": [
    "!python counter.py --bigram data/happiness_seg.txt"
   ]
  }
 ],
 "metadata": {
  "kernelspec": {
   "display_name": "Python 3",
   "language": "python",
   "name": "python3"
  },
  "language_info": {
   "codemirror_mode": {
    "name": "ipython",
    "version": 3
   },
   "file_extension": ".py",
   "mimetype": "text/x-python",
   "name": "python",
   "nbconvert_exporter": "python",
   "pygments_lexer": "ipython3",
   "version": "3.5.2"
  }
 },
 "nbformat": 4,
 "nbformat_minor": 2
}
