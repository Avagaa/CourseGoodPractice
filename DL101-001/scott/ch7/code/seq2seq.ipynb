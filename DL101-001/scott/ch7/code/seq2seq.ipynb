{
 "cells": [
  {
   "cell_type": "code",
   "execution_count": 1,
   "metadata": {
    "collapsed": false,
    "deletable": true,
    "editable": true
   },
   "outputs": [
    {
     "name": "stdout",
     "output_type": "stream",
     "text": [
      "CPython 2.7.6\n",
      "IPython 5.3.0\n",
      "\n",
      "tensorflow 1.0.1\n",
      "numpy 1.12.0\n",
      "\n",
      "compiler   : GCC 4.8.4\n",
      "system     : Linux\n",
      "release    : 4.9.21-moby\n",
      "machine    : x86_64\n",
      "processor  : x86_64\n",
      "CPU cores  : 2\n",
      "interpreter: 64bit\n"
     ]
    }
   ],
   "source": [
    "# 示例代码运行环境\n",
    "%load_ext watermark\n",
    "%watermark -p tensorflow,numpy -v -m"
   ]
  },
  {
   "cell_type": "code",
   "execution_count": 24,
   "metadata": {
    "collapsed": true,
    "deletable": true,
    "editable": true
   },
   "outputs": [],
   "source": [
    "import tensorflow as tf\n",
    "import numpy as np"
   ]
  },
  {
   "cell_type": "code",
   "execution_count": 25,
   "metadata": {
    "collapsed": false,
    "deletable": true,
    "editable": true
   },
   "outputs": [],
   "source": [
    "from tensorflow.contrib.legacy_seq2seq import basic_rnn_seq2seq, embedding_rnn_seq2seq, sequence_loss\n",
    "from tensorflow.python.ops import variable_scope\n"
   ]
  },
  {
   "cell_type": "code",
   "execution_count": 4,
   "metadata": {
    "collapsed": false,
    "deletable": true,
    "editable": true
   },
   "outputs": [],
   "source": [
    "?basic_rnn_seq2seq"
   ]
  },
  {
   "cell_type": "code",
   "execution_count": 61,
   "metadata": {
    "collapsed": true,
    "deletable": true,
    "editable": true
   },
   "outputs": [],
   "source": [
    "vocab = {\n",
    "    'A': 0,\n",
    "    'B': 1,\n",
    "    'C': 2,\n",
    "    'D': 3,\n",
    "    'E': 4,\n",
    "    'F': 5,\n",
    "    '<GO>': 6,\n",
    "    '<EOS>': 7,\n",
    "    '<PAD>': 8\n",
    "}\n",
    "reverse_vocab = dict([(v, k) for (k, v) in vocab.iteritems()])"
   ]
  },
  {
   "cell_type": "code",
   "execution_count": 68,
   "metadata": {
    "collapsed": true,
    "deletable": true,
    "editable": true
   },
   "outputs": [],
   "source": [
    "tf.reset_default_graph()"
   ]
  },
  {
   "cell_type": "code",
   "execution_count": 69,
   "metadata": {
    "collapsed": false,
    "deletable": true,
    "editable": true
   },
   "outputs": [],
   "source": [
    "encoder_inputs = map(lambda _: tf.constant([vocab[_]]), ['A', 'B', 'C'])\n",
    "decoder_inputs = map(lambda _: tf.constant([vocab[_]]), ['<GO>', 'D', 'E', 'F', 'F', '<EOS>'])"
   ]
  },
  {
   "cell_type": "code",
   "execution_count": 11,
   "metadata": {
    "collapsed": true,
    "deletable": true,
    "editable": true
   },
   "outputs": [],
   "source": [
    "?embedding_rnn_seq2seq"
   ]
  },
  {
   "cell_type": "code",
   "execution_count": 70,
   "metadata": {
    "collapsed": false,
    "deletable": true,
    "editable": true
   },
   "outputs": [],
   "source": [
    "cell = tf.contrib.rnn.BasicRNNCell(128)\n",
    "num_encoder_symbols = 9\n",
    "num_decoder_symbols = 9\n",
    "embedding_size = 128\n",
    "\n",
    "outputs, states = embedding_rnn_seq2seq(\n",
    "    encoder_inputs, decoder_inputs, cell,\n",
    "    num_encoder_symbols, num_decoder_symbols,\n",
    "    embedding_size, output_projection=None,\n",
    "    feed_previous=False)"
   ]
  },
  {
   "cell_type": "code",
   "execution_count": 71,
   "metadata": {
    "collapsed": false,
    "deletable": true,
    "editable": true
   },
   "outputs": [],
   "source": [
    "weights = map(lambda _: tf.constant([_], dtype=tf.float32),  [1, 1, 1, 1, 1])\n",
    "loss = sequence_loss(outputs[:-1], decoder_inputs[1:], weights)"
   ]
  },
  {
   "cell_type": "code",
   "execution_count": 72,
   "metadata": {
    "collapsed": false,
    "deletable": true,
    "editable": true
   },
   "outputs": [],
   "source": [
    "train_step = tf.train.GradientDescentOptimizer(0.01).minimize(loss)"
   ]
  },
  {
   "cell_type": "code",
   "execution_count": 73,
   "metadata": {
    "collapsed": false,
    "deletable": true,
    "editable": true
   },
   "outputs": [
    {
     "name": "stdout",
     "output_type": "stream",
     "text": [
      "2.10133\n",
      "1.88505\n",
      "1.69095\n",
      "1.51902\n",
      "1.36791\n",
      "1.23556\n",
      "1.11963\n",
      "1.01785\n",
      "0.928161\n",
      "0.848835\n",
      "0.778436\n",
      "0.715787\n",
      "0.65991\n",
      "0.609978\n",
      "0.565283\n",
      "0.52521\n",
      "0.489219\n",
      "0.456837\n",
      "0.427646\n",
      "0.401277\n",
      "0.377407\n",
      "0.355749\n",
      "0.336055\n",
      "0.318103\n",
      "0.301702\n",
      "0.286682\n",
      "0.272896\n",
      "0.260212\n",
      "0.248517\n",
      "0.237711\n",
      "0.227704\n",
      "0.218419\n",
      "0.209786\n",
      "0.201744\n",
      "0.194239\n",
      "0.187223\n",
      "0.180652\n",
      "0.174489\n",
      "0.168698\n",
      "0.163249\n",
      "0.158115\n",
      "0.153269\n",
      "0.148691\n",
      "0.144359\n",
      "0.140255\n",
      "0.136363\n",
      "0.132667\n",
      "0.129153\n",
      "0.125809\n",
      "0.122624\n",
      "---Deocding----\n",
      "D\n",
      "E\n",
      "F\n",
      "F\n",
      "<EOS>\n",
      "<EOS>\n",
      "D\n"
     ]
    }
   ],
   "source": [
    "with tf.Session() as sess:\n",
    "    # Training\n",
    "    sess.run(tf.global_variables_initializer())\n",
    "    for iteration in range(50):\n",
    "        sess.run(train_step)\n",
    "        print(sess.run(loss))\n",
    "        \n",
    "    print(\"---Deocding----\")\n",
    "    \n",
    "    # Decoding\n",
    "    with variable_scope.variable_scope(variable_scope.get_variable_scope(), reuse=True):\n",
    "        decode_decoder_inputs = map(lambda _: tf.constant([vocab[_]]), ['<GO>', 'A', 'A', 'A', 'A', 'A', 'A'])\n",
    "        outputs, states = embedding_rnn_seq2seq(\n",
    "            encoder_inputs, decode_decoder_inputs, cell,\n",
    "            num_encoder_symbols, num_decoder_symbols,\n",
    "            embedding_size, output_projection=None,\n",
    "            feed_previous=True)\n",
    "\n",
    "        for o in outputs:\n",
    "            m = np.argmax(o.eval(), axis=1)\n",
    "            print(reverse_vocab[m[0]])"
   ]
  },
  {
   "cell_type": "markdown",
   "metadata": {
    "collapsed": true,
    "deletable": true,
    "editable": true
   },
   "source": [
    "## 用 placeholder 代替 Tensor\n",
    "\n",
    "placeholder 的类型是 Tensor，因此上述 API 中的 Tensor 都可以用 placeholder 代替，使得训练、测试过程的数据可以变动"
   ]
  },
  {
   "cell_type": "code",
   "execution_count": 12,
   "metadata": {
    "collapsed": false,
    "deletable": true,
    "editable": true
   },
   "outputs": [
    {
     "data": {
      "text/plain": [
       "tensorflow.python.framework.ops.Tensor"
      ]
     },
     "execution_count": 12,
     "metadata": {},
     "output_type": "execute_result"
    }
   ],
   "source": [
    "type(tf.placeholder(tf.int32, shape=[None]))"
   ]
  },
  {
   "cell_type": "code",
   "execution_count": 91,
   "metadata": {
    "collapsed": true,
    "deletable": true,
    "editable": true
   },
   "outputs": [],
   "source": [
    "tf.reset_default_graph()"
   ]
  },
  {
   "cell_type": "code",
   "execution_count": 92,
   "metadata": {
    "collapsed": false,
    "deletable": true,
    "editable": true
   },
   "outputs": [],
   "source": [
    "encoder_length = 5\n",
    "decoder_length = 5\n",
    "\n",
    "cell = tf.contrib.rnn.BasicRNNCell(128)\n",
    "num_encoder_symbols = 9\n",
    "num_decoder_symbols = 9\n",
    "embedding_size = 128\n",
    "\n",
    "encoder_placeholders = [tf.placeholder(tf.int32, shape=[None],\n",
    "                                       name=\"encoder_%d\" % i) for i in range(encoder_length)]\n",
    "decoder_placeholders = [tf.placeholder(tf.int32, shape=[None],\n",
    "                                       name=\"decoder_%d\" % i) for i in range(decoder_length)]\n",
    "target_placeholders = [tf.placeholder(tf.int32, shape=[None],\n",
    "                                       name=\"target_%d\" % i) for i in range(decoder_length)]\n",
    "target_weights_placeholders = [tf.placeholder(tf.float32, shape=[None],\n",
    "                                       name=\"decoder_weight_%d\" % i) for i in range(decoder_length)]\n",
    "outputs, states = embedding_rnn_seq2seq(\n",
    "    encoder_placeholders, decoder_placeholders, cell,\n",
    "    num_encoder_symbols, num_decoder_symbols,\n",
    "    embedding_size, output_projection=None,\n",
    "    feed_previous=False)\n",
    "\n",
    "loss = sequence_loss(outputs, target_placeholders, target_weights_placeholders)\n",
    "train_step = tf.train.GradientDescentOptimizer(0.01).minimize(loss)"
   ]
  },
  {
   "cell_type": "code",
   "execution_count": 93,
   "metadata": {
    "collapsed": true,
    "deletable": true,
    "editable": true
   },
   "outputs": [],
   "source": [
    "def seq2seq_pad(encoder_inputs, encoder_length, decoder_inputs, decoder_length, vocab, pad_symbol='<PAD>'):\n",
    "    \"\"\"\n",
    "    - encoder_input: A nested list of symbol str for encoding, length: batch_size\n",
    "    - encoder_length: max length of encoder input\n",
    "    - decoder_input: A nested list of symbol str for decoding, length: batch_size\n",
    "    - decoder_length: max length of decoder input\n",
    "    - vocab: vocabulary index, symbol (str) -> index (int)\n",
    "    \n",
    "    Example: \n",
    "    [\"hello\", \"world\"] -> [\"hi\", \"<EOS>\"]\n",
    "    [\"cover\", \"me\"] -> [\"roger\", \"<EOS>\"]\n",
    "    \n",
    "    seq2seq_pad([['hello', 'world'], ['cover', 'me']], 4, [['hi', '<EOS>'], ['roger', '<EOS>']], 4, vocab)\n",
    "    \n",
    "    Assume that index of \"<PAD>\" is 0\n",
    "\n",
    "    Output:\n",
    "    [[0, 0, <index of 'hello'>, <index of 'world'>], [0, 0, <index of 'cover'>, <index of 'me'>]],\n",
    "    [[<index of 'hi'>, <index of 'EOS'>, 0, 0], [<index of 'roger'>, <index of 'EOS'>, 0, 0]]\n",
    "    \"\"\"\n",
    "    pad_index = vocab[pad_symbol]\n",
    "    def to_index(inputs, length, pad_from_start=True):\n",
    "        inputs_to_index = []\n",
    "        for cur_input in inputs:\n",
    "            cur_input_to_index = [pad_index] * length\n",
    "            l = len(cur_input)\n",
    "            if l < length:\n",
    "                if pad_from_start:\n",
    "                    cur_input_to_index[(length - l):] = [vocab[i] for i in cur_input]\n",
    "                else:\n",
    "                    cur_input_to_index[:l] = [vocab[i] for i in cur_input]\n",
    "            else:\n",
    "                cur_input_to_index = [vocab[i] for i in cur_input[:length]]\n",
    "            inputs_to_index.append(cur_input_to_index)    \n",
    "        return inputs_to_index\n",
    "    return to_index(encoder_inputs, encoder_length, True), to_index(decoder_inputs, decoder_length, False)"
   ]
  },
  {
   "cell_type": "code",
   "execution_count": 94,
   "metadata": {
    "collapsed": false,
    "deletable": true,
    "editable": true
   },
   "outputs": [
    {
     "data": {
      "text/plain": [
       "([[8, 8, 8, 0, 1], [8, 8, 8, 1, 0]], [[6, 2, 3, 7, 8], [6, 3, 2, 7, 8]])"
      ]
     },
     "execution_count": 94,
     "metadata": {},
     "output_type": "execute_result"
    }
   ],
   "source": [
    "seq2seq_pad([['A', 'B'], ['B', 'A']], 5, [['<GO>', 'C', 'D', '<EOS>'], ['<GO>', 'D', 'C', '<EOS>']], 5, vocab)"
   ]
  },
  {
   "cell_type": "code",
   "execution_count": 95,
   "metadata": {
    "collapsed": false,
    "deletable": true,
    "editable": true
   },
   "outputs": [],
   "source": [
    "encoder_inputs, decoder_inputs = seq2seq_pad([['A', 'B'], ['B', 'A']],\n",
    "                                             5, [['<GO>', 'C', 'D', '<EOS>'], ['<GO>', 'D', 'C', '<EOS>']], 5, vocab)"
   ]
  },
  {
   "cell_type": "code",
   "execution_count": 96,
   "metadata": {
    "collapsed": false,
    "deletable": true,
    "editable": true
   },
   "outputs": [
    {
     "name": "stdout",
     "output_type": "stream",
     "text": [
      "[(8, 8), (8, 8), (8, 8), (0, 1), (1, 0)]\n"
     ]
    }
   ],
   "source": [
    "# 对 nested list 进行『转置』，得到 TF seq2seq 需要的输入形状\n",
    "print(zip(*encoder_inputs))"
   ]
  },
  {
   "cell_type": "code",
   "execution_count": 97,
   "metadata": {
    "collapsed": true,
    "deletable": true,
    "editable": true
   },
   "outputs": [],
   "source": [
    "def left_shift(decoder_inputs, pad_idx):\n",
    "    # for generating targets\n",
    "    return [list(input_[1:]) + [pad_idx] for input_ in decoder_inputs]"
   ]
  },
  {
   "cell_type": "code",
   "execution_count": 98,
   "metadata": {
    "collapsed": false,
    "deletable": true,
    "editable": true
   },
   "outputs": [
    {
     "name": "stdout",
     "output_type": "stream",
     "text": [
      "2.06538\n",
      "1.87133\n",
      "1.69996\n",
      "1.54974\n",
      "1.41805\n",
      "1.30219\n",
      "1.19973\n",
      "1.10862\n",
      "1.02719\n",
      "0.954077\n",
      "0.888157\n",
      "0.82851\n",
      "0.774374\n",
      "0.725111\n",
      "0.680183\n",
      "0.639129\n",
      "0.601551\n",
      "0.567101\n",
      "0.535475\n",
      "0.506401\n",
      "0.479638\n",
      "0.45497\n",
      "0.432204\n",
      "0.411165\n",
      "0.391696\n",
      "0.373656\n",
      "0.356918\n",
      "0.341366\n",
      "0.326896\n",
      "0.313415\n",
      "0.300837\n",
      "0.289086\n",
      "0.278093\n",
      "0.267795\n",
      "0.258135\n",
      "0.249063\n",
      "0.240531\n",
      "0.232497\n",
      "0.224922\n",
      "0.217773\n",
      "0.211017\n",
      "0.204626\n",
      "0.198572\n",
      "0.192832\n",
      "0.187384\n",
      "0.182208\n",
      "0.177286\n",
      "0.172599\n",
      "0.168134\n",
      "0.163875\n",
      "---Deocding----\n",
      "('C', 'E')\n",
      "('D', 'F')\n",
      "('<EOS>', 'F')\n",
      "('E', '<EOS>')\n",
      "('A', '<EOS>')\n"
     ]
    }
   ],
   "source": [
    "with tf.Session() as sess:\n",
    "    sess.run(tf.global_variables_initializer())\n",
    "    # 两对翻译 pairs\n",
    "    # AB -> CD\n",
    "    # BA -> EFF\n",
    "    encoder_inputs, decoder_inputs = seq2seq_pad([['A', 'B'], ['B', 'A']],\n",
    "                                                 5, [['<GO>', 'C', 'D', '<EOS>'], ['<GO>', 'E', 'F', 'F', '<EOS>']], 8, vocab)\n",
    "    encoder_inputs = zip(*encoder_inputs)\n",
    "    # 还有一种方案是直接通过 shift decoder_placeholders 来得到 target_placeholders，这样只需要提供 decoder_placeholders 即可\n",
    "    target_inputs = zip(*left_shift(decoder_inputs, vocab['<PAD>']))\n",
    "    decoder_inputs = zip(*decoder_inputs)\n",
    "    \n",
    "    feed_dict = dict()\n",
    "    # Prepare input data    \n",
    "    for (i, placeholder) in enumerate(encoder_placeholders):\n",
    "        # 这里用 placeholder 或者 placeholder.name 都可以\n",
    "        feed_dict[placeholder.name] = np.asarray(encoder_inputs[i], dtype=int)\n",
    "    for i in range(len(decoder_placeholders)):\n",
    "        feed_dict[decoder_placeholders[i].name] = np.asarray(decoder_inputs[i], dtype=int)\n",
    "        feed_dict[target_placeholders[i].name] = np.asarray(target_inputs[i], dtype=int)        \n",
    "        # 这里使用 weights 把 <PAD> 的损失屏蔽了\n",
    "        feed_dict[target_weights_placeholders[i].name] = np.asarray([float(idx != vocab['<PAD>']) for idx in target_inputs[i]],\n",
    "                                                      dtype=float)\n",
    "    \n",
    "    # Training\n",
    "    for iteration in range(50):\n",
    "        sess.run(train_step, feed_dict)\n",
    "        print(sess.run(loss, feed_dict)) \n",
    "\n",
    "    print(\"---Deocding----\")\n",
    "    \n",
    "    # Decoding\n",
    "    with variable_scope.variable_scope(variable_scope.get_variable_scope(), reuse=True):\n",
    "        outputs, states = embedding_rnn_seq2seq(\n",
    "            encoder_placeholders, decoder_placeholders, cell,\n",
    "            num_encoder_symbols, num_decoder_symbols,\n",
    "            embedding_size, output_projection=None,\n",
    "            feed_previous=True)\n",
    "\n",
    "        for o in outputs:\n",
    "            # 注意这里也需要提供 feed_dict\n",
    "            m = np.argmax(o.eval(feed_dict), axis=1)\n",
    "            print(reverse_vocab[m[0]], reverse_vocab[m[1]])"
   ]
  },
  {
   "cell_type": "code",
   "execution_count": null,
   "metadata": {
    "collapsed": true,
    "deletable": true,
    "editable": true
   },
   "outputs": [],
   "source": []
  }
 ],
 "metadata": {
  "kernelspec": {
   "display_name": "Python 2",
   "language": "python",
   "name": "python2"
  },
  "language_info": {
   "codemirror_mode": {
    "name": "ipython",
    "version": 2
   },
   "file_extension": ".py",
   "mimetype": "text/x-python",
   "name": "python",
   "nbconvert_exporter": "python",
   "pygments_lexer": "ipython2",
   "version": "2.7.6"
  }
 },
 "nbformat": 4,
 "nbformat_minor": 2
}
