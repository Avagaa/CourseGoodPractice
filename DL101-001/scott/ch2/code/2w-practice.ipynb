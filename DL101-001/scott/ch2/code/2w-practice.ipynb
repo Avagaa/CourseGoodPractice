{
 "cells": [
  {
   "cell_type": "code",
   "execution_count": 1,
   "metadata": {
    "collapsed": true,
    "deletable": true,
    "editable": true
   },
   "outputs": [],
   "source": [
    "from collections import Counter\n",
    "import pandas as pd"
   ]
  },
  {
   "cell_type": "code",
   "execution_count": 2,
   "metadata": {
    "collapsed": true,
    "deletable": true,
    "editable": true
   },
   "outputs": [],
   "source": [
    "train1 = 'Chinese Beijing Chinese' \n",
    "train2 = 'Chinese Chinese Shanghai'\n",
    "train3 = 'Chinese Macao'\n",
    "train4 = 'Tokyo Japan Chinese'\n",
    "test = 'Chinese Chinese Chinese Tokyo Japan'"
   ]
  },
  {
   "cell_type": "code",
   "execution_count": 3,
   "metadata": {
    "collapsed": false,
    "deletable": true,
    "editable": true
   },
   "outputs": [],
   "source": [
    "# for i in [train1,train2,train3,train4]:\n",
    "#     df = df.append([[i, 'c']])"
   ]
  },
  {
   "cell_type": "code",
   "execution_count": 4,
   "metadata": {
    "collapsed": false,
    "deletable": true,
    "editable": true
   },
   "outputs": [],
   "source": [
    "df = pd.DataFrame()\n",
    "df = df.append([\n",
    "    [train1, 'c'],\n",
    "    [train2, 'c'], \n",
    "    [train3, 'c'],\n",
    "    [train4, 'j'],\n",
    "    [test, 'u'],\n",
    "],ignore_index=True)\n",
    "\n",
    "df.columns = ['words', 'class']"
   ]
  },
  {
   "cell_type": "code",
   "execution_count": 5,
   "metadata": {
    "collapsed": false,
    "deletable": true,
    "editable": true
   },
   "outputs": [
    {
     "data": {
      "text/html": [
       "<div>\n",
       "<table border=\"1\" class=\"dataframe\">\n",
       "  <thead>\n",
       "    <tr style=\"text-align: right;\">\n",
       "      <th></th>\n",
       "      <th>words</th>\n",
       "      <th>class</th>\n",
       "    </tr>\n",
       "  </thead>\n",
       "  <tbody>\n",
       "    <tr>\n",
       "      <th>0</th>\n",
       "      <td>Chinese Beijing Chinese</td>\n",
       "      <td>c</td>\n",
       "    </tr>\n",
       "    <tr>\n",
       "      <th>1</th>\n",
       "      <td>Chinese Chinese Shanghai</td>\n",
       "      <td>c</td>\n",
       "    </tr>\n",
       "    <tr>\n",
       "      <th>2</th>\n",
       "      <td>Chinese Macao</td>\n",
       "      <td>c</td>\n",
       "    </tr>\n",
       "    <tr>\n",
       "      <th>3</th>\n",
       "      <td>Tokyo Japan Chinese</td>\n",
       "      <td>j</td>\n",
       "    </tr>\n",
       "    <tr>\n",
       "      <th>4</th>\n",
       "      <td>Chinese Chinese Chinese Tokyo Japan</td>\n",
       "      <td>u</td>\n",
       "    </tr>\n",
       "  </tbody>\n",
       "</table>\n",
       "</div>"
      ],
      "text/plain": [
       "                                 words class\n",
       "0              Chinese Beijing Chinese     c\n",
       "1             Chinese Chinese Shanghai     c\n",
       "2                        Chinese Macao     c\n",
       "3                  Tokyo Japan Chinese     j\n",
       "4  Chinese Chinese Chinese Tokyo Japan     u"
      ]
     },
     "execution_count": 5,
     "metadata": {},
     "output_type": "execute_result"
    }
   ],
   "source": [
    "df"
   ]
  },
  {
   "cell_type": "code",
   "execution_count": 6,
   "metadata": {
    "collapsed": false,
    "deletable": true,
    "editable": true
   },
   "outputs": [
    {
     "data": {
      "text/html": [
       "<div>\n",
       "<table border=\"1\" class=\"dataframe\">\n",
       "  <thead>\n",
       "    <tr style=\"text-align: right;\">\n",
       "      <th></th>\n",
       "      <th>words</th>\n",
       "      <th>class</th>\n",
       "    </tr>\n",
       "  </thead>\n",
       "  <tbody>\n",
       "    <tr>\n",
       "      <th>0</th>\n",
       "      <td>Chinese Beijing Chinese</td>\n",
       "      <td>c</td>\n",
       "    </tr>\n",
       "    <tr>\n",
       "      <th>1</th>\n",
       "      <td>Chinese Chinese Shanghai</td>\n",
       "      <td>c</td>\n",
       "    </tr>\n",
       "    <tr>\n",
       "      <th>2</th>\n",
       "      <td>Chinese Macao</td>\n",
       "      <td>c</td>\n",
       "    </tr>\n",
       "    <tr>\n",
       "      <th>3</th>\n",
       "      <td>Tokyo Japan Chinese</td>\n",
       "      <td>j</td>\n",
       "    </tr>\n",
       "    <tr>\n",
       "      <th>4</th>\n",
       "      <td>Chinese Chinese Chinese Tokyo Japan</td>\n",
       "      <td>u</td>\n",
       "    </tr>\n",
       "  </tbody>\n",
       "</table>\n",
       "</div>"
      ],
      "text/plain": [
       "                                 words class\n",
       "0              Chinese Beijing Chinese     c\n",
       "1             Chinese Chinese Shanghai     c\n",
       "2                        Chinese Macao     c\n",
       "3                  Tokyo Japan Chinese     j\n",
       "4  Chinese Chinese Chinese Tokyo Japan     u"
      ]
     },
     "execution_count": 6,
     "metadata": {},
     "output_type": "execute_result"
    }
   ],
   "source": [
    "df"
   ]
  },
  {
   "cell_type": "code",
   "execution_count": 7,
   "metadata": {
    "collapsed": false,
    "deletable": true,
    "editable": true,
    "scrolled": true
   },
   "outputs": [],
   "source": [
    "c_list = df[df['class'] == 'c']['words'].tolist()"
   ]
  },
  {
   "cell_type": "code",
   "execution_count": 8,
   "metadata": {
    "collapsed": true,
    "deletable": true,
    "editable": true
   },
   "outputs": [],
   "source": [
    "all_words = df.words.tolist()"
   ]
  },
  {
   "cell_type": "markdown",
   "metadata": {
    "deletable": true,
    "editable": true
   },
   "source": [
    "$$\\hat{P}(c) = \\frac{N_{c}}{N}$$\n",
    "$$\\hat{P}(w|c) = \\frac{count(w,c)+1}{count(c)+|V|}$$"
   ]
  },
  {
   "cell_type": "code",
   "execution_count": 9,
   "metadata": {
    "collapsed": false,
    "deletable": true,
    "editable": true
   },
   "outputs": [],
   "source": [
    "df['words_list'] = df.words.map(lambda x: x.split())"
   ]
  },
  {
   "cell_type": "code",
   "execution_count": 10,
   "metadata": {
    "collapsed": false,
    "deletable": true,
    "editable": true
   },
   "outputs": [],
   "source": [
    "df['counter'] = df['words_list'].map(Counter)"
   ]
  },
  {
   "cell_type": "code",
   "execution_count": 11,
   "metadata": {
    "collapsed": false,
    "deletable": true,
    "editable": true
   },
   "outputs": [
    {
     "data": {
      "text/html": [
       "<div>\n",
       "<table border=\"1\" class=\"dataframe\">\n",
       "  <thead>\n",
       "    <tr style=\"text-align: right;\">\n",
       "      <th></th>\n",
       "      <th>words</th>\n",
       "      <th>class</th>\n",
       "      <th>words_list</th>\n",
       "      <th>counter</th>\n",
       "    </tr>\n",
       "  </thead>\n",
       "  <tbody>\n",
       "    <tr>\n",
       "      <th>0</th>\n",
       "      <td>Chinese Beijing Chinese</td>\n",
       "      <td>c</td>\n",
       "      <td>[Chinese, Beijing, Chinese]</td>\n",
       "      <td>{'Chinese': 2, 'Beijing': 1}</td>\n",
       "    </tr>\n",
       "    <tr>\n",
       "      <th>1</th>\n",
       "      <td>Chinese Chinese Shanghai</td>\n",
       "      <td>c</td>\n",
       "      <td>[Chinese, Chinese, Shanghai]</td>\n",
       "      <td>{'Chinese': 2, 'Shanghai': 1}</td>\n",
       "    </tr>\n",
       "    <tr>\n",
       "      <th>2</th>\n",
       "      <td>Chinese Macao</td>\n",
       "      <td>c</td>\n",
       "      <td>[Chinese, Macao]</td>\n",
       "      <td>{'Chinese': 1, 'Macao': 1}</td>\n",
       "    </tr>\n",
       "    <tr>\n",
       "      <th>3</th>\n",
       "      <td>Tokyo Japan Chinese</td>\n",
       "      <td>j</td>\n",
       "      <td>[Tokyo, Japan, Chinese]</td>\n",
       "      <td>{'Chinese': 1, 'Japan': 1, 'Tokyo': 1}</td>\n",
       "    </tr>\n",
       "    <tr>\n",
       "      <th>4</th>\n",
       "      <td>Chinese Chinese Chinese Tokyo Japan</td>\n",
       "      <td>u</td>\n",
       "      <td>[Chinese, Chinese, Chinese, Tokyo, Japan]</td>\n",
       "      <td>{'Chinese': 3, 'Japan': 1, 'Tokyo': 1}</td>\n",
       "    </tr>\n",
       "  </tbody>\n",
       "</table>\n",
       "</div>"
      ],
      "text/plain": [
       "                                 words class  \\\n",
       "0              Chinese Beijing Chinese     c   \n",
       "1             Chinese Chinese Shanghai     c   \n",
       "2                        Chinese Macao     c   \n",
       "3                  Tokyo Japan Chinese     j   \n",
       "4  Chinese Chinese Chinese Tokyo Japan     u   \n",
       "\n",
       "                                  words_list  \\\n",
       "0                [Chinese, Beijing, Chinese]   \n",
       "1               [Chinese, Chinese, Shanghai]   \n",
       "2                           [Chinese, Macao]   \n",
       "3                    [Tokyo, Japan, Chinese]   \n",
       "4  [Chinese, Chinese, Chinese, Tokyo, Japan]   \n",
       "\n",
       "                                  counter  \n",
       "0            {'Chinese': 2, 'Beijing': 1}  \n",
       "1           {'Chinese': 2, 'Shanghai': 1}  \n",
       "2              {'Chinese': 1, 'Macao': 1}  \n",
       "3  {'Chinese': 1, 'Japan': 1, 'Tokyo': 1}  \n",
       "4  {'Chinese': 3, 'Japan': 1, 'Tokyo': 1}  "
      ]
     },
     "execution_count": 11,
     "metadata": {},
     "output_type": "execute_result"
    }
   ],
   "source": [
    "df"
   ]
  },
  {
   "cell_type": "code",
   "execution_count": 12,
   "metadata": {
    "collapsed": false,
    "deletable": true,
    "editable": true
   },
   "outputs": [
    {
     "data": {
      "text/plain": [
       "Counter({'Beijing': 1,\n",
       "         'Chinese': 9,\n",
       "         'Japan': 2,\n",
       "         'Macao': 1,\n",
       "         'Shanghai': 1,\n",
       "         'Tokyo': 2})"
      ]
     },
     "execution_count": 12,
     "metadata": {},
     "output_type": "execute_result"
    }
   ],
   "source": [
    "df.counter.sum()"
   ]
  },
  {
   "cell_type": "code",
   "execution_count": 13,
   "metadata": {
    "collapsed": false,
    "deletable": true,
    "editable": true
   },
   "outputs": [],
   "source": [
    "df['length'] = df.words_list.map(len)"
   ]
  },
  {
   "cell_type": "code",
   "execution_count": 14,
   "metadata": {
    "collapsed": false,
    "deletable": true,
    "editable": true
   },
   "outputs": [
    {
     "data": {
      "text/html": [
       "<div>\n",
       "<table border=\"1\" class=\"dataframe\">\n",
       "  <thead>\n",
       "    <tr style=\"text-align: right;\">\n",
       "      <th></th>\n",
       "      <th>words</th>\n",
       "      <th>class</th>\n",
       "      <th>words_list</th>\n",
       "      <th>counter</th>\n",
       "      <th>length</th>\n",
       "    </tr>\n",
       "  </thead>\n",
       "  <tbody>\n",
       "    <tr>\n",
       "      <th>0</th>\n",
       "      <td>Chinese Beijing Chinese</td>\n",
       "      <td>c</td>\n",
       "      <td>[Chinese, Beijing, Chinese]</td>\n",
       "      <td>{'Chinese': 2, 'Beijing': 1}</td>\n",
       "      <td>3</td>\n",
       "    </tr>\n",
       "    <tr>\n",
       "      <th>1</th>\n",
       "      <td>Chinese Chinese Shanghai</td>\n",
       "      <td>c</td>\n",
       "      <td>[Chinese, Chinese, Shanghai]</td>\n",
       "      <td>{'Chinese': 2, 'Shanghai': 1}</td>\n",
       "      <td>3</td>\n",
       "    </tr>\n",
       "    <tr>\n",
       "      <th>2</th>\n",
       "      <td>Chinese Macao</td>\n",
       "      <td>c</td>\n",
       "      <td>[Chinese, Macao]</td>\n",
       "      <td>{'Chinese': 1, 'Macao': 1}</td>\n",
       "      <td>2</td>\n",
       "    </tr>\n",
       "    <tr>\n",
       "      <th>3</th>\n",
       "      <td>Tokyo Japan Chinese</td>\n",
       "      <td>j</td>\n",
       "      <td>[Tokyo, Japan, Chinese]</td>\n",
       "      <td>{'Chinese': 1, 'Japan': 1, 'Tokyo': 1}</td>\n",
       "      <td>3</td>\n",
       "    </tr>\n",
       "    <tr>\n",
       "      <th>4</th>\n",
       "      <td>Chinese Chinese Chinese Tokyo Japan</td>\n",
       "      <td>u</td>\n",
       "      <td>[Chinese, Chinese, Chinese, Tokyo, Japan]</td>\n",
       "      <td>{'Chinese': 3, 'Japan': 1, 'Tokyo': 1}</td>\n",
       "      <td>5</td>\n",
       "    </tr>\n",
       "  </tbody>\n",
       "</table>\n",
       "</div>"
      ],
      "text/plain": [
       "                                 words class  \\\n",
       "0              Chinese Beijing Chinese     c   \n",
       "1             Chinese Chinese Shanghai     c   \n",
       "2                        Chinese Macao     c   \n",
       "3                  Tokyo Japan Chinese     j   \n",
       "4  Chinese Chinese Chinese Tokyo Japan     u   \n",
       "\n",
       "                                  words_list  \\\n",
       "0                [Chinese, Beijing, Chinese]   \n",
       "1               [Chinese, Chinese, Shanghai]   \n",
       "2                           [Chinese, Macao]   \n",
       "3                    [Tokyo, Japan, Chinese]   \n",
       "4  [Chinese, Chinese, Chinese, Tokyo, Japan]   \n",
       "\n",
       "                                  counter  length  \n",
       "0            {'Chinese': 2, 'Beijing': 1}       3  \n",
       "1           {'Chinese': 2, 'Shanghai': 1}       3  \n",
       "2              {'Chinese': 1, 'Macao': 1}       2  \n",
       "3  {'Chinese': 1, 'Japan': 1, 'Tokyo': 1}       3  \n",
       "4  {'Chinese': 3, 'Japan': 1, 'Tokyo': 1}       5  "
      ]
     },
     "execution_count": 14,
     "metadata": {},
     "output_type": "execute_result"
    }
   ],
   "source": [
    "df"
   ]
  },
  {
   "cell_type": "code",
   "execution_count": 15,
   "metadata": {
    "collapsed": true,
    "deletable": true,
    "editable": true
   },
   "outputs": [],
   "source": [
    "df_c = df[df['class'] == 'c']\n",
    "df_j = df[df['class'] == 'j']"
   ]
  },
  {
   "cell_type": "code",
   "execution_count": 16,
   "metadata": {
    "collapsed": true,
    "deletable": true,
    "editable": true
   },
   "outputs": [],
   "source": [
    "lables = ['c', 'j']"
   ]
  },
  {
   "cell_type": "code",
   "execution_count": 17,
   "metadata": {
    "collapsed": false,
    "deletable": true,
    "editable": true
   },
   "outputs": [],
   "source": [
    "all_counter_sum = df.counter.sum()\n",
    "c_counter_sum = df_c.counter.sum()\n",
    "j_counter_sum = df_j.counter.sum()"
   ]
  },
  {
   "cell_type": "markdown",
   "metadata": {
    "deletable": true,
    "editable": true
   },
   "source": [
    "计算以 c 为条件的条件概率"
   ]
  },
  {
   "cell_type": "code",
   "execution_count": 18,
   "metadata": {
    "collapsed": false,
    "deletable": true,
    "editable": true
   },
   "outputs": [
    {
     "name": "stdout",
     "output_type": "stream",
     "text": [
      "Chinese 5\n",
      "Beijing 1\n",
      "Shanghai 1\n",
      "Macao 1\n",
      "Japan 0\n",
      "Tokyo 0\n"
     ]
    }
   ],
   "source": [
    "for key in all_counter_sum.keys():\n",
    "    print(key, c_counter_sum[key])"
   ]
  },
  {
   "cell_type": "markdown",
   "metadata": {
    "deletable": true,
    "editable": true
   },
   "source": [
    "计算以 j 为条件的条件概率"
   ]
  },
  {
   "cell_type": "code",
   "execution_count": 19,
   "metadata": {
    "collapsed": false,
    "deletable": true,
    "editable": true
   },
   "outputs": [
    {
     "name": "stdout",
     "output_type": "stream",
     "text": [
      "Chinese 1\n",
      "Beijing 0\n",
      "Shanghai 0\n",
      "Macao 0\n",
      "Japan 1\n",
      "Tokyo 1\n"
     ]
    }
   ],
   "source": [
    "for key in all_counter_sum.keys():\n",
    "    print(key, j_counter_sum[key])"
   ]
  },
  {
   "cell_type": "code",
   "execution_count": 20,
   "metadata": {
    "collapsed": false,
    "deletable": true,
    "editable": true
   },
   "outputs": [
    {
     "data": {
      "text/plain": [
       "0"
      ]
     },
     "execution_count": 20,
     "metadata": {},
     "output_type": "execute_result"
    }
   ],
   "source": [
    "c_counter_sum['Japan']"
   ]
  },
  {
   "cell_type": "code",
   "execution_count": 21,
   "metadata": {
    "collapsed": false,
    "deletable": true,
    "editable": true
   },
   "outputs": [],
   "source": [
    "test_list = df[df['class'] == 'u'].words_list.iloc[0]"
   ]
  },
  {
   "cell_type": "code",
   "execution_count": 22,
   "metadata": {
    "collapsed": false,
    "deletable": true,
    "editable": true
   },
   "outputs": [
    {
     "name": "stdout",
     "output_type": "stream",
     "text": [
      "Chinese 5\n",
      "Chinese 5\n",
      "Chinese 5\n",
      "Tokyo 0\n",
      "Japan 0\n"
     ]
    }
   ],
   "source": [
    "for key in test_list:\n",
    "    print(key, c_counter_sum[key])"
   ]
  },
  {
   "cell_type": "code",
   "execution_count": 23,
   "metadata": {
    "collapsed": true,
    "deletable": true,
    "editable": true
   },
   "outputs": [],
   "source": [
    "count_j = df_j.length.sum()"
   ]
  },
  {
   "cell_type": "code",
   "execution_count": 24,
   "metadata": {
    "collapsed": false,
    "deletable": true,
    "editable": true
   },
   "outputs": [],
   "source": [
    "V = len(all_counter_sum.keys())"
   ]
  },
  {
   "cell_type": "code",
   "execution_count": 25,
   "metadata": {
    "collapsed": false,
    "deletable": true,
    "editable": true
   },
   "outputs": [
    {
     "data": {
      "text/plain": [
       "3"
      ]
     },
     "execution_count": 25,
     "metadata": {},
     "output_type": "execute_result"
    }
   ],
   "source": [
    "count_j"
   ]
  },
  {
   "cell_type": "code",
   "execution_count": 26,
   "metadata": {
    "collapsed": false,
    "deletable": true,
    "editable": true
   },
   "outputs": [
    {
     "data": {
      "text/plain": [
       "0.2222222222222222"
      ]
     },
     "execution_count": 26,
     "metadata": {},
     "output_type": "execute_result"
    }
   ],
   "source": [
    "2/9"
   ]
  },
  {
   "cell_type": "code",
   "execution_count": 27,
   "metadata": {
    "collapsed": true,
    "deletable": true,
    "editable": true
   },
   "outputs": [],
   "source": [
    "import pandas as pd\n",
    "import numpy as np"
   ]
  },
  {
   "cell_type": "code",
   "execution_count": 28,
   "metadata": {
    "collapsed": false,
    "deletable": true,
    "editable": true,
    "scrolled": false
   },
   "outputs": [],
   "source": [
    "a = []\n",
    "for key in test_list:\n",
    "    a.append((j_counter_sum[key] + 1) / (count_j + V))\n",
    "a.append(1/4)"
   ]
  },
  {
   "cell_type": "code",
   "execution_count": null,
   "metadata": {
    "collapsed": true
   },
   "outputs": [],
   "source": []
  },
  {
   "cell_type": "code",
   "execution_count": 37,
   "metadata": {
    "collapsed": false
   },
   "outputs": [
    {
     "data": {
      "text/plain": [
       "Counter({'Chinese': 1, 'Japan': 1, 'Tokyo': 1})"
      ]
     },
     "execution_count": 37,
     "metadata": {},
     "output_type": "execute_result"
    }
   ],
   "source": [
    "j_counter_sum"
   ]
  },
  {
   "cell_type": "code",
   "execution_count": 29,
   "metadata": {
    "collapsed": false,
    "deletable": true,
    "editable": true
   },
   "outputs": [],
   "source": [
    "aa = np.asarray(a)"
   ]
  },
  {
   "cell_type": "code",
   "execution_count": 30,
   "metadata": {
    "collapsed": false,
    "deletable": true,
    "editable": true
   },
   "outputs": [
    {
     "data": {
      "text/plain": [
       "array([ 0.22222222,  0.22222222,  0.22222222,  0.22222222,  0.22222222,\n",
       "        0.25      ])"
      ]
     },
     "execution_count": 30,
     "metadata": {},
     "output_type": "execute_result"
    }
   ],
   "source": [
    "aa"
   ]
  },
  {
   "cell_type": "code",
   "execution_count": 31,
   "metadata": {
    "collapsed": false,
    "deletable": true,
    "editable": true
   },
   "outputs": [
    {
     "data": {
      "text/plain": [
       "0.00013548070246744226"
      ]
     },
     "execution_count": 31,
     "metadata": {},
     "output_type": "execute_result"
    }
   ],
   "source": [
    "aa.prod()"
   ]
  },
  {
   "cell_type": "markdown",
   "metadata": {
    "deletable": true,
    "editable": true
   },
   "source": [
    "* V 指的是所有训练集中词汇的 set \n",
    "* count(c) 指的是所有词的总数，不论重复"
   ]
  },
  {
   "cell_type": "markdown",
   "metadata": {
    "deletable": true,
    "editable": true
   },
   "source": [
    "\n",
    "p(c) = 3/4    \n",
    "p(j) = 1/4"
   ]
  },
  {
   "cell_type": "code",
   "execution_count": 32,
   "metadata": {
    "collapsed": true,
    "deletable": true,
    "editable": true
   },
   "outputs": [],
   "source": [
    "# all_w = []\n",
    "# for i in all_words:\n",
    "#     for sub in i.split():\n",
    "#         all_w.append(sub)"
   ]
  },
  {
   "cell_type": "code",
   "execution_count": 33,
   "metadata": {
    "collapsed": false,
    "deletable": true,
    "editable": true,
    "scrolled": false
   },
   "outputs": [],
   "source": [
    "# all_w"
   ]
  },
  {
   "cell_type": "code",
   "execution_count": 34,
   "metadata": {
    "collapsed": false,
    "deletable": true,
    "editable": true,
    "scrolled": true
   },
   "outputs": [],
   "source": [
    "# kkcnt_aw = Counter()\n",
    "\n",
    "# for word in all_w:\n",
    "#     cnt_aw[word] +=1\n",
    "    \n",
    "# cnt_aw"
   ]
  },
  {
   "cell_type": "code",
   "execution_count": 35,
   "metadata": {
    "collapsed": false,
    "deletable": true,
    "editable": true
   },
   "outputs": [],
   "source": [
    "# c_list"
   ]
  },
  {
   "cell_type": "code",
   "execution_count": 36,
   "metadata": {
    "collapsed": false,
    "deletable": true,
    "editable": true
   },
   "outputs": [
    {
     "ename": "NameError",
     "evalue": "name 'P' is not defined",
     "output_type": "error",
     "traceback": [
      "\u001b[0;31m---------------------------------------------------------------------------\u001b[0m",
      "\u001b[0;31mNameError\u001b[0m                                 Traceback (most recent call last)",
      "\u001b[0;32m<ipython-input-36-07ab7f2813e7>\u001b[0m in \u001b[0;36m<module>\u001b[0;34m()\u001b[0m\n\u001b[0;32m----> 1\u001b[0;31m \u001b[0mP\u001b[0m\u001b[0;34m(\u001b[0m\u001b[0;34m)\u001b[0m\u001b[0;34m\u001b[0m\u001b[0m\n\u001b[0m",
      "\u001b[0;31mNameError\u001b[0m: name 'P' is not defined"
     ]
    }
   ],
   "source": [
    "P()"
   ]
  }
 ],
 "metadata": {
  "kernelspec": {
   "display_name": "Python 3",
   "language": "python",
   "name": "python3"
  },
  "language_info": {
   "codemirror_mode": {
    "name": "ipython",
    "version": 3
   },
   "file_extension": ".py",
   "mimetype": "text/x-python",
   "name": "python",
   "nbconvert_exporter": "python",
   "pygments_lexer": "ipython3",
   "version": "3.5.2"
  }
 },
 "nbformat": 4,
 "nbformat_minor": 2
}
