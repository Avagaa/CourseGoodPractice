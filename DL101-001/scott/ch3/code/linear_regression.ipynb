{
 "cells": [
  {
   "cell_type": "markdown",
   "metadata": {
    "deletable": true,
    "editable": true
   },
   "source": [
    "## 1. 编写 Tensorflow 线性回归程序    "
   ]
  },
  {
   "cell_type": "markdown",
   "metadata": {
    "collapsed": false,
    "deletable": true,
    "editable": true
   },
   "source": [
    "作业 1 比较简单，于是就在 [TensorFlow Examples Basics](https://github.com/aymericdamien/TensorFlow-Examples/) 的基础上做了改动"
   ]
  },
  {
   "cell_type": "markdown",
   "metadata": {
    "deletable": true,
    "editable": true
   },
   "source": [
    "### 环境说明："
   ]
  },
  {
   "cell_type": "code",
   "execution_count": 11,
   "metadata": {
    "collapsed": false,
    "deletable": true,
    "editable": true
   },
   "outputs": [
    {
     "name": "stdout",
     "output_type": "stream",
     "text": [
      "Scott Ming 2017-03-25 \n",
      "\n",
      "CPython 3.5.2\n",
      "IPython 5.2.2\n",
      "\n",
      "numpy 1.12.1\n",
      "pandas 0.19.2\n",
      "matplotlib 2.0.0\n",
      "tensorflow 1.0.1\n",
      "\n",
      "compiler   : GCC 4.9.2\n",
      "system     : Linux\n",
      "release    : 3.16.0-4-amd64\n",
      "machine    : x86_64\n",
      "processor  : \n",
      "CPU cores  : 4\n",
      "interpreter: 64bit\n"
     ]
    }
   ],
   "source": [
    "%load_ext watermark\n",
    "%watermark -a 'Scott Ming' -v -m -d -p numpy,pandas,matplotlib,tensorflow"
   ]
  },
  {
   "cell_type": "code",
   "execution_count": 1,
   "metadata": {
    "collapsed": false,
    "deletable": true,
    "editable": true
   },
   "outputs": [],
   "source": [
    "import tensorflow as tf\n",
    "import numpy as np\n",
    "import matplotlib.pyplot as plt\n",
    "rng = np.random"
   ]
  },
  {
   "cell_type": "markdown",
   "metadata": {
    "deletable": true,
    "editable": true
   },
   "source": [
    "### 1.1 定义数据"
   ]
  },
  {
   "cell_type": "code",
   "execution_count": 3,
   "metadata": {
    "collapsed": false,
    "deletable": true,
    "editable": true
   },
   "outputs": [],
   "source": [
    "# Training Data\n",
    "train_X = np.asarray([3.3,4.4,5.5,6.71,6.93,4.168,9.779,6.182,7.59,2.167,\n",
    "                         7.042,10.791,5.313,7.997,5.654,9.27,3.1]).reshape((17, 1))\n",
    "train_Y = np.asarray([1.7,2.76,2.09,3.19,1.694,1.573,3.366,2.596,2.53,1.221,\n",
    "                         2.827,3.465,1.65,2.904,2.42,2.94,1.3]).reshape((17, 1))\n",
    "n_samples = train_X.shape[0]"
   ]
  },
  {
   "cell_type": "markdown",
   "metadata": {
    "deletable": true,
    "editable": true
   },
   "source": [
    "### 1.2 定义神经网络结果和前向传播的输出结果"
   ]
  },
  {
   "cell_type": "code",
   "execution_count": 4,
   "metadata": {
    "collapsed": false,
    "deletable": true,
    "editable": true
   },
   "outputs": [],
   "source": [
    "# tf Graph Input\n",
    "X = tf.placeholder(tf.float32, shape=(None, 1), name=\"x-input\")\n",
    "Y = tf.placeholder(tf.float32, shape=(None, 1), name=\"y-input\")\n",
    "\n",
    "# Set model weights\n",
    "W = tf.Variable(tf.random_normal([1, 1]), name=\"weight\")  # 这里必须定义成矩阵的形式，不然底下相乘会出错\n",
    "b = tf.Variable(tf.random_normal([1]), name=\"weight\")"
   ]
  },
  {
   "cell_type": "markdown",
   "metadata": {
    "deletable": true,
    "editable": true
   },
   "source": [
    "### 1.3 定义前向传播过程，损失函数及反向传播算法"
   ]
  },
  {
   "cell_type": "code",
   "execution_count": 5,
   "metadata": {
    "collapsed": false,
    "deletable": true,
    "editable": true
   },
   "outputs": [],
   "source": [
    "pred = tf.matmul(X, W) + b\n",
    "# Mean squared error\n",
    "cost = tf.reduce_sum(tf.pow(pred-Y, 2))/(2*n_samples)\n",
    "# Gradient descent\n",
    "optimizer = tf.train.GradientDescentOptimizer(learning_rate).minimize(cost)"
   ]
  },
  {
   "cell_type": "markdown",
   "metadata": {
    "deletable": true,
    "editable": true
   },
   "source": [
    "### 1.4 创建一个会话来运行TensorFlow程序"
   ]
  },
  {
   "cell_type": "markdown",
   "metadata": {
    "deletable": true,
    "editable": true
   },
   "source": [
    "#### 全局梯度下降"
   ]
  },
  {
   "cell_type": "code",
   "execution_count": 8,
   "metadata": {
    "collapsed": false,
    "deletable": true,
    "editable": true
   },
   "outputs": [
    {
     "name": "stdout",
     "output_type": "stream",
     "text": [
      "Epoch=50, Training cost=0.08871, W=0.19010, b=1.23504\n",
      "Epoch=100, Training cost=0.08736, W=0.19373, b=1.20934\n",
      "Epoch=150, Training cost=0.08617, W=0.19714, b=1.18515\n",
      "Epoch=200, Training cost=0.08511, W=0.20035, b=1.16239\n",
      "Epoch=250, Training cost=0.08418, W=0.20337, b=1.14096\n",
      "Epoch=300, Training cost=0.08335, W=0.20622, b=1.12080\n",
      "Epoch=350, Training cost=0.08261, W=0.20889, b=1.10183\n",
      "Epoch=400, Training cost=0.08196, W=0.21141, b=1.08397\n",
      "Epoch=450, Training cost=0.08139, W=0.21378, b=1.06717\n",
      "Epoch=500, Training cost=0.08088, W=0.21601, b=1.05136\n",
      "Epoch=550, Training cost=0.08043, W=0.21811, b=1.03648\n",
      "Epoch=600, Training cost=0.08003, W=0.22009, b=1.02247\n",
      "Epoch=650, Training cost=0.07967, W=0.22194, b=1.00929\n",
      "Epoch=700, Training cost=0.07936, W=0.22369, b=0.99689\n",
      "Epoch=750, Training cost=0.07908, W=0.22534, b=0.98522\n",
      "Epoch=800, Training cost=0.07883, W=0.22689, b=0.97424\n",
      "Epoch=850, Training cost=0.07862, W=0.22835, b=0.96390\n",
      "Epoch=900, Training cost=0.07842, W=0.22972, b=0.95417\n",
      "Epoch=950, Training cost=0.07825, W=0.23101, b=0.94502\n",
      "Epoch=1000, Training cost=0.07810, W=0.23223, b=0.93640\n",
      "Optimization Finished!\n",
      "Training cost=0.07810, W=0.23223, b=0.93640\n",
      "\n"
     ]
    },
    {
     "data": {
      "image/png": "[encoded data removed]",
      "text/plain": [
       "<matplotlib.figure.Figure at 0x7ff543e917f0>"
      ]
     },
     "metadata": {},
     "output_type": "display_data"
    },
    {
     "data": {
      "image/png": "[encoded data removed]",
      "text/plain": [
       "<matplotlib.figure.Figure at 0x7ff5403f5fd0>"
      ]
     },
     "metadata": {},
     "output_type": "display_data"
    }
   ],
   "source": [
    "# Launch the graph\n",
    "learning_rate = 0.01\n",
    "training_epochs = 1000\n",
    "display_step = 50\n",
    "with tf.Session() as sess:\n",
    "    init = tf.global_variables_initializer()\n",
    "    sess.run(init)\n",
    "    # Fit all training data\n",
    "    cost_list = []\n",
    "    epoch_list = []\n",
    "    for epoch in range(training_epochs):\n",
    "        sess.run(optimizer, feed_dict={X: train_X, Y: train_Y})\n",
    "\n",
    "        # Display logs per epoch step\n",
    "        if (epoch+1) % display_step == 0:\n",
    "            c = sess.run(cost, feed_dict={X: train_X, Y:train_Y})\n",
    "            print(\"Epoch={}, Training cost={:.5f}, W={:.5f}, b={:.5f}\".format(\n",
    "                epoch+1, c, sess.run(W)[0, 0], sess.run(b)[0]))\n",
    "            cost_list.append(c)\n",
    "            epoch_list.append(epoch+1)\n",
    "    \n",
    "    print(\"Optimization Finished!\")\n",
    "    training_cost = sess.run(cost, feed_dict={X: train_X, Y: train_Y})\n",
    "    print(\"Training cost={:.5f}, W={:.5f}, b={:.5f}\\n\".format(\n",
    "        training_cost, sess.run(W)[0, 0], sess.run(b)[0]))\n",
    "    \n",
    "    # Graphic display\n",
    "    plt.plot(train_X, train_Y, 'ro', label='Original data')\n",
    "    plt.plot(train_X, sess.run(W) * train_X + sess.run(b), label='Fitted line')\n",
    "    plt.legend()\n",
    "    plt.xlabel('Trian X')\n",
    "    plt.ylabel('Train Y')\n",
    "    plt.tight_layout()\n",
    "    plt.show()\n",
    "    \n",
    "    plt.plot(epoch_list, cost_list, marker='o')\n",
    "    plt.xlabel('Epochs')\n",
    "    plt.ylabel('Cost')\n",
    "    plt.tight_layout()\n",
    "    plt.show()"
   ]
  },
  {
   "cell_type": "markdown",
   "metadata": {
    "deletable": true,
    "editable": true
   },
   "source": [
    "#### 随机梯度下降"
   ]
  },
  {
   "cell_type": "code",
   "execution_count": 9,
   "metadata": {
    "collapsed": false,
    "deletable": true,
    "editable": true
   },
   "outputs": [
    {
     "name": "stdout",
     "output_type": "stream",
     "text": [
      "Epoch=50, Training cost=5.19313, W=-0.12764, b=0.08820\n",
      "Epoch=100, Training cost=0.44371, W=0.22071, b=0.13804\n",
      "Epoch=150, Training cost=0.12490, W=0.31087, b=0.15286\n",
      "Epoch=200, Training cost=0.10259, W=0.33719, b=0.16002\n",
      "Epoch=250, Training cost=0.10592, W=0.32835, b=0.16058\n",
      "Epoch=300, Training cost=0.10421, W=0.35128, b=0.16664\n",
      "Epoch=350, Training cost=0.10171, W=0.33876, b=0.16691\n",
      "Epoch=400, Training cost=0.10512, W=0.32800, b=0.16689\n",
      "Epoch=450, Training cost=0.10147, W=0.34262, b=0.17123\n",
      "Epoch=500, Training cost=0.10243, W=0.34726, b=0.17349\n",
      "Epoch=550, Training cost=0.10119, W=0.34182, b=0.17433\n",
      "Epoch=600, Training cost=0.10398, W=0.35097, b=0.17786\n",
      "Epoch=650, Training cost=0.10080, W=0.34020, b=0.17821\n",
      "Epoch=700, Training cost=0.10127, W=0.34415, b=0.18043\n",
      "Epoch=750, Training cost=0.10063, W=0.33574, b=0.18208\n",
      "Epoch=800, Training cost=0.10033, W=0.33694, b=0.18430\n",
      "Epoch=850, Training cost=0.10015, W=0.33819, b=0.18635\n",
      "Epoch=900, Training cost=0.10052, W=0.33327, b=0.18709\n",
      "Epoch=950, Training cost=0.10070, W=0.34356, b=0.19116\n",
      "Epoch=1000, Training cost=0.09967, W=0.33628, b=0.19272\n",
      "Optimization Finished!\n",
      "Training cost=0.09967, W=0.33628, b=0.19272\n",
      "\n"
     ]
    },
    {
     "data": {
      "image/png": "[encoded data removed]",
      "text/plain": [
       "<matplotlib.figure.Figure at 0x7ff54031a668>"
      ]
     },
     "metadata": {},
     "output_type": "display_data"
    },
    {
     "data": {
      "image/png": "[encoded data removed]",
      "text/plain": [
       "<matplotlib.figure.Figure at 0x7ff540305f28>"
      ]
     },
     "metadata": {},
     "output_type": "display_data"
    }
   ],
   "source": [
    "# Launch the graph\n",
    "batch_size = 1  # 每次用 1 个数据迭代\n",
    "with tf.Session() as sess:\n",
    "    sess.run(init)\n",
    "    cost_list = []\n",
    "    epoch_list = []\n",
    "    \n",
    "    # Fit all training data\n",
    "    for epoch in range(training_epochs):\n",
    "        r = np.random.permutation(len(train_Y))  # 每次迭代都是随机挑选数据\n",
    "        train_X = train_X[r]\n",
    "        train_Y = train_Y[r]\n",
    "        start = (epoch*batch_size) % 17\n",
    "        end = (epoch*batch_size) % 17 + batch_size\n",
    "        sess.run(optimizer, feed_dict={X: train_X[start:end], Y: train_Y[start:end]})\n",
    "\n",
    "        # Display logs per epoch step\n",
    "        if (epoch+1) % display_step == 0:\n",
    "            c = sess.run(cost, feed_dict={X: train_X, Y:train_Y})\n",
    "            print(\"Epoch={}, Training cost={:.5f}, W={:.5f}, b={:.5f}\".format(\n",
    "                epoch+1, c, sess.run(W)[0, 0], sess.run(b)[0]))\n",
    "            cost_list.append(c)\n",
    "            epoch_list.append(epoch+1)\n",
    "    print(\"Optimization Finished!\")\n",
    "    training_cost = sess.run(cost, feed_dict={X: train_X, Y: train_Y})\n",
    "    print(\"Training cost={:.5f}, W={:.5f}, b={:.5f}\\n\".format(\n",
    "        training_cost, sess.run(W)[0, 0], sess.run(b)[0]))\n",
    "    \n",
    "    # Graphic display\n",
    "    plt.plot(train_X, train_Y, 'ro', label='Original data')\n",
    "    plt.plot(train_X, sess.run(W) * train_X + sess.run(b), label='Fitted line')\n",
    "    plt.legend()\n",
    "    plt.xlabel('Trian X')\n",
    "    plt.ylabel('Train Y')\n",
    "    plt.tight_layout()\n",
    "    plt.show()\n",
    "    \n",
    "    plt.plot(epoch_list, cost_list, marker='o')\n",
    "    plt.xlabel('Epochs')\n",
    "    plt.ylabel('Cost')\n",
    "    plt.tight_layout()\n",
    "    plt.show()"
   ]
  },
  {
   "cell_type": "markdown",
   "metadata": {
    "deletable": true,
    "editable": true
   },
   "source": [
    "**小结：**\n",
    "\n",
    "随机梯度下降明显比 batch 梯度下降收敛速度快，但也容易飘过全局最小"
   ]
  },
  {
   "cell_type": "markdown",
   "metadata": {
    "deletable": true,
    "editable": true
   },
   "source": [
    "## 2. 解释交叉熵的优化效果   \n",
    "\n",
    "为什么加了 Sigmoid 之后，用交叉熵做损失函数比用差值平方的效果好？"
   ]
  },
  {
   "cell_type": "markdown",
   "metadata": {
    "collapsed": true,
    "deletable": true,
    "editable": true
   },
   "source": [
    "[Neural networks and deep learning](http://neuralnetworksanddeeplearning.com/chap3.html) 文章提到：当神经元接近1时， Sigmoid 的函数会变得非常平坦，因此 $\\sigma'(z)$ 就会变的非常小，这是使用 MSE 学习速率便慢的根源，而使用交叉熵作为损失函数后，对权重求偏导会发现，$\\sigma'(z)$ 和 $\\sigma(z)(1-\\sigma(z))$ 都能消除，参考式子 (58-61) 权重的学习，速率完全被 $\\sigma(z) - y$ 控制了，这就避免了学习的减速。"
   ]
  },
  {
   "cell_type": "markdown",
   "metadata": {},
   "source": [
    "另外这篇文章也给出了一个例子说明 [Why You Should Use Cross-Entropy Error Instead Of Classification Error Or Mean Squared Error For Neural Network Classifier Training | James D. McCaffrey](https://jamesmccaffrey.wordpress.com/2013/11/05/why-you-should-use-cross-entropy-error-instead-of-classification-error-or-mean-squared-error-for-neural-network-classifier-training/) 相比 ACE，使用 MSE 时候，计算结果会过分强调不正确的输出，这也可能是一大毛病。\n",
    "\n",
    "> MSE isn’t a hideously bad approach but if you think about how MSE is computed you’ll see that, compared to ACE, MSE gives too much emphasis to the incorrect outputs. "
   ]
  },
  {
   "cell_type": "markdown",
   "metadata": {},
   "source": [
    "* [Neural networks and deep learning](http://neuralnetworksanddeeplearning.com/chap3.html)\n",
    "* [Why You Should Use Cross-Entropy Error Instead Of Classification Error Or Mean Squared Error For Neural Network Classifier Training | James D. McCaffrey](https://jamesmccaffrey.wordpress.com/2013/11/05/why-you-should-use-cross-entropy-error-instead-of-classification-error-or-mean-squared-error-for-neural-network-classifier-training/)\n",
    "* [Mean squared error - Wikipedia](https://en.wikipedia.org/wiki/Mean_squared_error)\n",
    "* [Cross entropy - Wikipedia](https://en.wikipedia.org/wiki/Cross_entropy)"
   ]
  }
 ],
 "metadata": {
  "kernelspec": {
   "display_name": "Python 3",
   "language": "python",
   "name": "python3"
  },
  "language_info": {
   "codemirror_mode": {
    "name": "ipython",
    "version": 3
   },
   "file_extension": ".py",
   "mimetype": "text/x-python",
   "name": "python",
   "nbconvert_exporter": "python",
   "pygments_lexer": "ipython3",
   "version": "3.5.2"
  }
 },
 "nbformat": 4,
 "nbformat_minor": 0
}
