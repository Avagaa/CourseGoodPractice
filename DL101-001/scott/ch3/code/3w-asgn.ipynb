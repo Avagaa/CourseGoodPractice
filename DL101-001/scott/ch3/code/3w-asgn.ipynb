{
 "cells": [
  {
   "cell_type": "markdown",
   "metadata": {
    "deletable": true,
    "editable": true
   },
   "source": [
    "# 3w 作业\n",
    "\n",
    "* 任务一：编写 Tensorflow 线性回归程序    \n",
    "    尝试用 Tensorflow 实现基于随机梯度下降的线性回归程序。\n",
    "\n",
    "* 任务二：解释交叉熵的优化效果    \n",
    "    阅读 [Neural networks and deep learning](http://neuralnetworksanddeeplearning.com/chap3.html) 第三章公式（63）的部分，解释为什么加了 Sigmoid 之后，用交叉熵做损失函数比用差值平方的效果好？\n",
    "\n",
    "* 任务三：实现无隐层和单隐层神经网络    \n",
    "    对于给定的一个二维分类数据集，基于 Tensorflow 分别实现无隐层（Sigmoid）、单隐层神经网络（tanh + sigmoid）。比较训练集上的分类准确率，并绘制两个神经网络的决策界面。    \n",
    "    给定的数据集见 [DeepLearning101/ch3/code at master · AIMinder/DeepLearning101](https://github.com/AIMinder/DeepLearning101/tree/master/ch3/code) 。\n"
   ]
  },
  {
   "cell_type": "markdown",
   "metadata": {
    "deletable": true,
    "editable": true
   },
   "source": [
    "### 环境："
   ]
  },
  {
   "cell_type": "code",
   "execution_count": 1,
   "metadata": {
    "collapsed": false,
    "deletable": true,
    "editable": true,
    "scrolled": true
   },
   "outputs": [
    {
     "name": "stdout",
     "output_type": "stream",
     "text": [
      "Scott Ming 2017-03-31 \n",
      "\n",
      "CPython 3.5.2\n",
      "IPython 5.2.2\n",
      "\n",
      "numpy 1.12.1\n",
      "pandas 0.19.2\n",
      "matplotlib 2.0.0\n",
      "tensorflow 1.0.1\n",
      "\n",
      "compiler   : GCC 4.9.2\n",
      "system     : Linux\n",
      "release    : 3.16.0-4-amd64\n",
      "machine    : x86_64\n",
      "processor  : \n",
      "CPU cores  : 4\n",
      "interpreter: 64bit\n"
     ]
    }
   ],
   "source": [
    "%load_ext watermark\n",
    "%watermark -a 'Scott Ming' -v -m -d -p numpy,pandas,matplotlib,tensorflow"
   ]
  },
  {
   "cell_type": "markdown",
   "metadata": {
    "collapsed": true,
    "deletable": true,
    "editable": true
   },
   "source": [
    "## 3. 实现无隐层和单隐层神经网络"
   ]
  },
  {
   "cell_type": "markdown",
   "metadata": {
    "deletable": true,
    "editable": true
   },
   "source": [
    "### 思路：\n",
    "\n",
    "难点：\n",
    "\n",
    "* 如何用两种激活函数，并向量化？\n",
    "* 如何画出决策界面？"
   ]
  },
  {
   "cell_type": "markdown",
   "metadata": {
    "deletable": true,
    "editable": true
   },
   "source": [
    "### 3.1 数据探索"
   ]
  },
  {
   "cell_type": "code",
   "execution_count": 2,
   "metadata": {
    "collapsed": true,
    "deletable": true,
    "editable": true
   },
   "outputs": [],
   "source": [
    "%matplotlib inline\n",
    "\n",
    "import matplotlib.pyplot as plt\n",
    "import numpy as np\n",
    "import pandas as pd\n",
    "import tensorflow as tf\n",
    "\n",
    "from matplotlib.colors import ListedColormap\n",
    "from numpy.random import RandomState"
   ]
  },
  {
   "cell_type": "code",
   "execution_count": 3,
   "metadata": {
    "collapsed": false,
    "deletable": true,
    "editable": true
   },
   "outputs": [
    {
     "name": "stdout",
     "output_type": "stream",
     "text": [
      "0.3444989038202113,1.935181339067968,0\r\n",
      "-0.19248083357568158,0.9426635874412216,1\r\n",
      "0.5827218692510598,-0.8801240556599986,1\r\n",
      "0.15154953715071828,-1.0116493917023306,1\r\n",
      "0.5450826896901235,-1.7135021017362515,0\r\n"
     ]
    }
   ],
   "source": [
    "!head -n 5 data.csv"
   ]
  },
  {
   "cell_type": "code",
   "execution_count": 4,
   "metadata": {
    "collapsed": false,
    "deletable": true,
    "editable": true
   },
   "outputs": [
    {
     "name": "stdout",
     "output_type": "stream",
     "text": [
      "<class 'pandas.core.frame.DataFrame'>\r\n",
      "RangeIndex: 199 entries, 0 to 198\r\n",
      "Data columns (total 3 columns):\r\n",
      "0.3444989038202113    199 non-null float64\r\n",
      "1.935181339067968     199 non-null float64\r\n",
      "0                     199 non-null int64\r\n",
      "dtypes: float64(2), int64(1)\r\n",
      "memory usage: 4.7 KB\r\n",
      "\r\n"
     ]
    }
   ],
   "source": [
    "!p.df <data.csv 'df.info()'"
   ]
  },
  {
   "cell_type": "code",
   "execution_count": 5,
   "metadata": {
    "collapsed": false,
    "deletable": true,
    "editable": true
   },
   "outputs": [
    {
     "name": "stdout",
     "output_type": "stream",
     "text": [
      "     0\r\n",
      "1  100\r\n",
      "0   99\r\n"
     ]
    }
   ],
   "source": [
    "!p.df <data.csv 'df.iloc[:, 2].value_counts()' -o table index"
   ]
  },
  {
   "cell_type": "markdown",
   "metadata": {
    "deletable": true,
    "editable": true
   },
   "source": [
    "└ 数据集没有列名, 0、1 各占一半, 没有 non 值"
   ]
  },
  {
   "cell_type": "code",
   "execution_count": 6,
   "metadata": {
    "collapsed": false,
    "deletable": true,
    "editable": true
   },
   "outputs": [],
   "source": [
    "data = pd.read_csv('data.csv', names='x1 x2 y'.split())"
   ]
  },
  {
   "cell_type": "code",
   "execution_count": 7,
   "metadata": {
    "collapsed": true,
    "deletable": true,
    "editable": true
   },
   "outputs": [],
   "source": [
    "neg = data[data.y == 0]\n",
    "pos = data[data.y == 1]"
   ]
  },
  {
   "cell_type": "code",
   "execution_count": 8,
   "metadata": {
    "collapsed": false,
    "deletable": true,
    "editable": true,
    "scrolled": true
   },
   "outputs": [
    {
     "data": {
      "image/png": "[encoded data removed]",
      "text/plain": [
       "<matplotlib.figure.Figure at 0x7f5d059b82e8>"
      ]
     },
     "metadata": {},
     "output_type": "display_data"
    }
   ],
   "source": [
    "plt.scatter(pos.x1, pos.x2, c='blue',)\n",
    "plt.scatter(neg.x1, neg.x2, c='red',)\n",
    "plt.show()"
   ]
  },
  {
   "cell_type": "markdown",
   "metadata": {
    "deletable": true,
    "editable": true
   },
   "source": [
    "从上图可以看出：\n",
    "\n",
    "* 果然是线性不可分的\n",
    "* 数据已经被标准化了，无须再做清理了"
   ]
  },
  {
   "cell_type": "markdown",
   "metadata": {
    "deletable": true,
    "editable": true
   },
   "source": [
    "### 3.2 构建模型"
   ]
  },
  {
   "cell_type": "markdown",
   "metadata": {
    "deletable": true,
    "editable": true
   },
   "source": [
    "数据划分，先把数据打乱，然后 80% 作为训练数据，剩下的为测试数据"
   ]
  },
  {
   "cell_type": "code",
   "execution_count": 9,
   "metadata": {
    "collapsed": true,
    "deletable": true,
    "editable": true
   },
   "outputs": [],
   "source": [
    "p = 0.8"
   ]
  },
  {
   "cell_type": "code",
   "execution_count": 10,
   "metadata": {
    "collapsed": true,
    "deletable": true,
    "editable": true
   },
   "outputs": [],
   "source": [
    "shuffled_index = np.random.permutation(data.index)"
   ]
  },
  {
   "cell_type": "code",
   "execution_count": 11,
   "metadata": {
    "collapsed": false,
    "deletable": true,
    "editable": true
   },
   "outputs": [],
   "source": [
    "data = data.iloc[shuffled_index]  # 打乱数据"
   ]
  },
  {
   "cell_type": "code",
   "execution_count": 12,
   "metadata": {
    "collapsed": false,
    "deletable": true,
    "editable": true,
    "scrolled": false
   },
   "outputs": [],
   "source": [
    "train = data.iloc[:int(data.shape[0] * p), :]\n",
    "test  = data.iloc[int(data.shape[0] * p):, :]"
   ]
  },
  {
   "cell_type": "code",
   "execution_count": 13,
   "metadata": {
    "collapsed": false,
    "deletable": true,
    "editable": true,
    "scrolled": false
   },
   "outputs": [
    {
     "data": {
      "text/plain": [
       "(160, 3)"
      ]
     },
     "execution_count": 13,
     "metadata": {},
     "output_type": "execute_result"
    }
   ],
   "source": [
    "train.shape"
   ]
  },
  {
   "cell_type": "markdown",
   "metadata": {
    "deletable": true,
    "editable": true
   },
   "source": [
    "定义 X, Y"
   ]
  },
  {
   "cell_type": "code",
   "execution_count": 14,
   "metadata": {
    "collapsed": true,
    "deletable": true,
    "editable": true
   },
   "outputs": [],
   "source": [
    "X = train.iloc[:, :2].values  # 160 * 2\n",
    "Y = train.iloc[:, 2:].values  # 160 * 1\n",
    "X_t = test.iloc[:, :2].values  # 40 * 2\n",
    "Y_t = test.iloc[:, 2:].values  # 40 * 1"
   ]
  },
  {
   "cell_type": "markdown",
   "metadata": {
    "deletable": true,
    "editable": true
   },
   "source": [
    "### 3.2.1 无隐层神经网络"
   ]
  },
  {
   "cell_type": "markdown",
   "metadata": {
    "deletable": true,
    "editable": true
   },
   "source": [
    "#### 1. 定义神经网络结果和前向传播的输出结果："
   ]
  },
  {
   "cell_type": "code",
   "execution_count": 15,
   "metadata": {
    "collapsed": true,
    "deletable": true,
    "editable": true
   },
   "outputs": [],
   "source": [
    "batch_size = 8\n",
    "w1= tf.Variable(tf.random_normal([2, 1], stddev=1, seed=1))\n",
    "b1 = tf.Variable(tf.random_normal([1], stddev=1, seed=1))\n",
    "x = tf.placeholder(tf.float32, shape=(None, 2), name=\"x-input\")\n",
    "y_= tf.placeholder(tf.float32, shape=(None, 1), name='y-input')"
   ]
  },
  {
   "cell_type": "markdown",
   "metadata": {
    "deletable": true,
    "editable": true
   },
   "source": [
    "#### 2. 定义前向传播过程，损失函数及反向传播算法"
   ]
  },
  {
   "cell_type": "code",
   "execution_count": 16,
   "metadata": {
    "collapsed": false,
    "deletable": true,
    "editable": true
   },
   "outputs": [],
   "source": [
    "y = tf.sigmoid(tf.matmul(x, w1) + b1)  # 输出层用 sigmoid\n",
    "\n",
    "# 定义损失函数\n",
    "cross_entropy = tf.reduce_mean(\n",
    "    tf.nn.sigmoid_cross_entropy_with_logits(logits=y, labels=y_)\n",
    ")\n",
    "\n",
    "# cross_entropy = - tf.reduce_mean(y_ * tf.log(tf.clip_by_value(y, 1e-10, 1.0)))  # 这个为什么不行呢？\n",
    "train_step = tf.train.AdamOptimizer(0.01).minimize(cross_entropy)\n",
    "\n",
    "# 定义一个判断 accuracy 的函数\n",
    "def accuracy(preds, labels):\n",
    "    return ((preds > 0.5) == labels).sum() / float(len(labels))"
   ]
  },
  {
   "cell_type": "markdown",
   "metadata": {
    "deletable": true,
    "editable": true
   },
   "source": [
    "定义一个决策界面函数，参考 [Python Machine learning Chapter2](http://nbviewer.jupyter.org/github/rasbt/python-machine-learning-book/blob/master/code/ch02/ch02.ipynb#A-function-for-plotting-decision-regions) 修改的"
   ]
  },
  {
   "cell_type": "code",
   "execution_count": 17,
   "metadata": {
    "collapsed": false,
    "deletable": true,
    "editable": true
   },
   "outputs": [],
   "source": [
    "def plot_decision_regions(X, y_, y, resolution=0.02):\n",
    "\n",
    "    # setup marker generator and color map\n",
    "    markers = ('s', 'x', 'o', '^', 'v')\n",
    "    colors = ('red', 'blue', 'lightgreen', 'gray', 'cyan')\n",
    "    cmap = ListedColormap(colors[:len(np.unique(y_))])\n",
    "\n",
    "    # plot the decision surface\n",
    "    x1_min, x1_max = X[:, 0].min() - 1, X[:, 0].max() + 1\n",
    "    x2_min, x2_max = X[:, 1].min() - 1, X[:, 1].max() + 1\n",
    "    xx1, xx2 = np.meshgrid(np.arange(x1_min, x1_max, resolution),\n",
    "                           np.arange(x2_min, x2_max, resolution))\n",
    "    grid = np.c_[xx1.ravel(), xx2.ravel()]\n",
    "    Z = sess.run(y, feed_dict={x:grid})\n",
    "    # Z = classifier.predict(np.array([xx1.ravel(), xx2.ravel()]).T)\n",
    "    Z = Z.reshape(xx1.shape)\n",
    "    plt.contourf(xx1, xx2, Z, alpha=0.4, cmap=cmap)\n",
    "    plt.xlim(xx1.min(), xx1.max())\n",
    "    plt.ylim(xx2.min(), xx2.max())\n",
    "\n",
    "    # plot class samples\n",
    "    y_ = y_.reshape((X.shape[0],))\n",
    "    for idx, cl in enumerate(np.unique(y_)):\n",
    "        plt.scatter(x=X[y_ == cl, 0], y=X[y_ == cl, 1],\n",
    "                    alpha=0.8, c=cmap(idx),\n",
    "                    edgecolor='black',\n",
    "                    marker=markers[idx], \n",
    "                    label=cl)"
   ]
  },
  {
   "cell_type": "markdown",
   "metadata": {
    "deletable": true,
    "editable": true
   },
   "source": [
    "#### 3. 创建一个会话来运行TensorFlow程序。"
   ]
  },
  {
   "cell_type": "code",
   "execution_count": 18,
   "metadata": {
    "collapsed": false,
    "deletable": true,
    "editable": true
   },
   "outputs": [
    {
     "name": "stdout",
     "output_type": "stream",
     "text": [
      "w1: [[-0.81131822]\n",
      " [ 1.48459876]]\n",
      "\n",
      "\n",
      "After 0 training step(s), cross entropy on all data is 0.731134, Trian accuracy is 0.46, Test accuracy is 0.45\n",
      "After 1000 training step(s), cross entropy on all data is 0.692406, Trian accuracy is 0.48, Test accuracy is 0.57\n",
      "After 2000 training step(s), cross entropy on all data is 0.692406, Trian accuracy is 0.48, Test accuracy is 0.57\n",
      "After 3000 training step(s), cross entropy on all data is 0.692405, Trian accuracy is 0.48, Test accuracy is 0.57\n",
      "After 4000 training step(s), cross entropy on all data is 0.692405, Trian accuracy is 0.48, Test accuracy is 0.57\n",
      "w1: [[-0.02989295]\n",
      " [-0.04427212]]\n"
     ]
    },
    {
     "data": {
      "image/png": "[encoded data removed]",
      "text/plain": [
       "<matplotlib.figure.Figure at 0x7f5d02df16d8>"
      ]
     },
     "metadata": {},
     "output_type": "display_data"
    }
   ],
   "source": [
    "with tf.Session() as sess:\n",
    "    init_op = tf.global_variables_initializer()\n",
    "    sess.run(init_op)\n",
    "    \n",
    "    # 输出目前（未经训练）的参数取值。\n",
    "    print(\"w1:\", sess.run(w1))\n",
    "    print(\"\\n\")\n",
    "    \n",
    "    # 训练模型。\n",
    "    STEPS = 5000\n",
    "    for i in range(STEPS):\n",
    "        sess.run(train_step, feed_dict={x: X, y_: Y})\n",
    "        if i % 1000 == 0:\n",
    "            total_cross_entropy = sess.run(cross_entropy, feed_dict={x: X, y_: Y})\n",
    "            trian_output = sess.run(y, feed_dict={x: X, y_: Y})\n",
    "            train_accuracy = accuracy(trian_output, Y)\n",
    "            test_output = sess.run(y, feed_dict={x: X_t, y_: Y_t})\n",
    "            test_accuracy = accuracy(test_output, Y_t)\n",
    "            print(\"After %d training step(s), cross entropy on all data is \"\n",
    "                  \"%3f, Trian accuracy is %.2f, Test accuracy is %.2f\" % (\n",
    "                      i, total_cross_entropy, train_accuracy, test_accuracy))\n",
    "            \n",
    "    # 输出训练后的参数取值，以及画出决策边界\n",
    "    print(\"w1:\", sess.run(w1))\n",
    "    plot_decision_regions(X, Y, y)\n",
    "    plt.legend(loc=0)\n",
    "    plt.show()"
   ]
  },
  {
   "cell_type": "markdown",
   "metadata": {
    "deletable": true,
    "editable": true
   },
   "source": [
    "### 3.2.2 单隐层神经网络"
   ]
  },
  {
   "cell_type": "markdown",
   "metadata": {
    "deletable": true,
    "editable": true
   },
   "source": [
    "#### 1. 定义神经网络的结构和前向传播的输出结果：\n",
    "\n",
    "* x: x1,x2\n",
    "* L: 1 个隐层，神经元为 3 个"
   ]
  },
  {
   "cell_type": "code",
   "execution_count": 19,
   "metadata": {
    "collapsed": false,
    "deletable": true,
    "editable": true
   },
   "outputs": [],
   "source": [
    "batch_size = 8\n",
    "w1= tf.Variable(tf.random_normal([2, 4], stddev=1, seed=1))\n",
    "w2= tf.Variable(tf.random_normal([4, 1], stddev=1, seed=1))\n",
    "b1 = tf.Variable(tf.random_normal([1], stddev=1, seed=1))\n",
    "b2 = tf.Variable(tf.random_normal([1], stddev=1, seed=1))\n",
    "x = tf.placeholder(tf.float32, shape=(None, 2), name=\"x-input\")\n",
    "y_= tf.placeholder(tf.float32, shape=(None, 1), name='y-input')"
   ]
  },
  {
   "cell_type": "markdown",
   "metadata": {
    "deletable": true,
    "editable": true
   },
   "source": [
    "#### 2. 定义前向传播过程，损失函数及反向传播算法。"
   ]
  },
  {
   "cell_type": "markdown",
   "metadata": {
    "deletable": true,
    "editable": true
   },
   "source": [
    "tensorflow 常用的非线性激活函数有：\n",
    "\n",
    "* `tf.nn.relu`\n",
    "* `tf.sigmoid`\n",
    "* `tf.tanh`"
   ]
  },
  {
   "cell_type": "code",
   "execution_count": 20,
   "metadata": {
    "collapsed": false,
    "deletable": true,
    "editable": true
   },
   "outputs": [],
   "source": [
    "a = tf.nn.tanh(tf.matmul(x, w1) + b1)  # 隐层用 tanh\n",
    "y = tf.sigmoid(tf.matmul(a, w2) + b2)  # 输出层用 sigmoid\n",
    "\n",
    "# 定义损失函数\n",
    "cross_entropy = tf.reduce_mean(\n",
    "    tf.nn.sigmoid_cross_entropy_with_logits(logits=y, labels=y_)\n",
    ")\n",
    "\n",
    "# cross_entropy = - tf.reduce_mean(y_ * tf.log(tf.clip_by_value(y, 1e-10, 1.0)))  # 这个为什么不行呢？\n",
    "train_step = tf.train.AdamOptimizer(0.01).minimize(cross_entropy)\n",
    "\n",
    "# 定义一个判断 accuracy 的函数\n",
    "def accuracy(preds, labels):\n",
    "    return ((preds > 0.5) == labels).sum() / float(len(labels))"
   ]
  },
  {
   "cell_type": "markdown",
   "metadata": {
    "deletable": true,
    "editable": true
   },
   "source": [
    "#### 3. 创建一个会话来运行TensorFlow程序。"
   ]
  },
  {
   "cell_type": "code",
   "execution_count": 21,
   "metadata": {
    "collapsed": false,
    "deletable": true,
    "editable": true,
    "scrolled": false
   },
   "outputs": [
    {
     "name": "stdout",
     "output_type": "stream",
     "text": [
      "w1: [[-0.81131822  1.48459876  0.06532937 -2.44270396]\n",
      " [ 0.0992484   0.59122431  0.59282297 -2.12292957]]\n",
      "w2: [[-0.81131822]\n",
      " [ 1.48459876]\n",
      " [ 0.06532937]\n",
      " [-2.44270396]]\n",
      "\n",
      "\n",
      "After 0 training step(s), cross entropy on all data is 0.732403, Trian accuracy is 0.53, Test accuracy is 0.42\n",
      "After 1000 training step(s), cross entropy on all data is 0.503359, Trian accuracy is 0.99, Test accuracy is 0.95\n",
      "After 2000 training step(s), cross entropy on all data is 0.499857, Trian accuracy is 0.99, Test accuracy is 0.95\n",
      "After 3000 training step(s), cross entropy on all data is 0.499043, Trian accuracy is 0.99, Test accuracy is 0.95\n",
      "After 4000 training step(s), cross entropy on all data is 0.498743, Trian accuracy is 0.99, Test accuracy is 0.95\n",
      "After 5000 training step(s), cross entropy on all data is 0.498608, Trian accuracy is 0.99, Test accuracy is 0.95\n",
      "After 6000 training step(s), cross entropy on all data is 0.498540, Trian accuracy is 0.99, Test accuracy is 0.95\n",
      "After 7000 training step(s), cross entropy on all data is 0.498504, Trian accuracy is 0.99, Test accuracy is 0.95\n",
      "After 8000 training step(s), cross entropy on all data is 0.498483, Trian accuracy is 0.99, Test accuracy is 0.93\n",
      "After 9000 training step(s), cross entropy on all data is 0.498472, Trian accuracy is 0.99, Test accuracy is 0.93\n",
      "w1: [[ -3.71751189e+00  -4.36488073e-03   9.57292938e+00  -4.48155403e+00]\n",
      " [  7.52342272e+00  -7.83956423e-02   1.51750696e+00  -8.48277378e+00]]\n",
      "w2: [[-12.68519402]\n",
      " [ 13.22120285]\n",
      " [-12.21958447]\n",
      " [-13.0754118 ]]\n"
     ]
    },
    {
     "data": {
      "image/png": "[encoded data removed]",
      "text/plain": [
       "<matplotlib.figure.Figure at 0x7f5d04e79ac8>"
      ]
     },
     "metadata": {},
     "output_type": "display_data"
    }
   ],
   "source": [
    "with tf.Session() as sess:\n",
    "    init_op = tf.global_variables_initializer()\n",
    "    sess.run(init_op)\n",
    "    \n",
    "    # 输出目前（未经训练）的参数取值。\n",
    "    print(\"w1:\", sess.run(w1))\n",
    "    print(\"w2:\", sess.run(w2))\n",
    "    print(\"\\n\")\n",
    "    \n",
    "    # 训练模型。\n",
    "    STEPS = 10000\n",
    "    for i in range(STEPS):\n",
    "        sess.run(train_step, feed_dict={x: X, y_: Y})\n",
    "        if i % 1000 == 0:\n",
    "            total_cross_entropy = sess.run(cross_entropy, feed_dict={x: X, y_: Y})\n",
    "            trian_output = sess.run(y, feed_dict={x: X, y_: Y})\n",
    "            train_accuracy = accuracy(trian_output, Y)\n",
    "            test_output = sess.run(y, feed_dict={x: X_t, y_: Y_t})\n",
    "            test_accuracy = accuracy(test_output, Y_t)\n",
    "            print(\"After %d training step(s), cross entropy on all data is \"\n",
    "                  \"%3f, Trian accuracy is %.2f, Test accuracy is %.2f\" % (\n",
    "                      i, total_cross_entropy, train_accuracy, test_accuracy))\n",
    "            \n",
    "    # 输出训练后的参数取值，以及画出决策边界\n",
    "    print(\"w1:\", sess.run(w1))\n",
    "    print(\"w2:\",  sess.run(w2))\n",
    "    plot_decision_regions(X, Y, y)\n",
    "    plt.legend(loc=0)\n",
    "    plt.show()"
   ]
  },
  {
   "cell_type": "markdown",
   "metadata": {
    "deletable": true,
    "editable": true
   },
   "source": [
    "试试小批量迭代"
   ]
  },
  {
   "cell_type": "code",
   "execution_count": 22,
   "metadata": {
    "collapsed": false,
    "deletable": true,
    "editable": true
   },
   "outputs": [
    {
     "name": "stdout",
     "output_type": "stream",
     "text": [
      "w1: [[-0.81131822  1.48459876  0.06532937 -2.44270396]\n",
      " [ 0.0992484   0.59122431  0.59282297 -2.12292957]]\n",
      "w2: [[-0.81131822]\n",
      " [ 1.48459876]\n",
      " [ 0.06532937]\n",
      " [-2.44270396]]\n",
      "\n",
      "\n",
      "After 0 training step(s), cross entropy on all data is 0.732589, Trian accuracy is 0.53, Test accuracy is 0.42\n",
      "After 1000 training step(s), cross entropy on all data is 0.528278, Trian accuracy is 0.99, Test accuracy is 1.00\n",
      "After 2000 training step(s), cross entropy on all data is 0.510026, Trian accuracy is 0.99, Test accuracy is 1.00\n",
      "After 3000 training step(s), cross entropy on all data is 0.504780, Trian accuracy is 0.99, Test accuracy is 1.00\n",
      "After 4000 training step(s), cross entropy on all data is 0.502381, Trian accuracy is 0.99, Test accuracy is 1.00\n",
      "After 5000 training step(s), cross entropy on all data is 0.501050, Trian accuracy is 0.99, Test accuracy is 1.00\n",
      "After 6000 training step(s), cross entropy on all data is 0.500232, Trian accuracy is 0.99, Test accuracy is 1.00\n",
      "After 7000 training step(s), cross entropy on all data is 0.499699, Trian accuracy is 0.99, Test accuracy is 0.97\n",
      "After 8000 training step(s), cross entropy on all data is 0.499339, Trian accuracy is 0.99, Test accuracy is 0.97\n",
      "After 9000 training step(s), cross entropy on all data is 0.499090, Trian accuracy is 0.99, Test accuracy is 0.97\n",
      "\n",
      "\n",
      "w1: [[-1.80323708  0.02849844  4.24393225 -1.97535062]\n",
      " [ 3.19530702  0.0584426   0.56325132 -3.74666643]]\n",
      "w2: [[-10.88223743]\n",
      " [ 10.03543568]\n",
      " [-10.68576622]\n",
      " [-11.36563206]]\n"
     ]
    },
    {
     "data": {
      "image/png": "[encoded data removed]",
      "text/plain": [
       "<matplotlib.figure.Figure at 0x7f5cfe9b5898>"
      ]
     },
     "metadata": {},
     "output_type": "display_data"
    }
   ],
   "source": [
    "with tf.Session() as sess:\n",
    "    init_op = tf.global_variables_initializer()\n",
    "    sess.run(init_op)\n",
    "    \n",
    "    # 输出目前（未经训练）的参数取值。\n",
    "    print(\"w1:\", sess.run(w1))\n",
    "    print(\"w2:\", sess.run(w2))\n",
    "    print(\"\\n\")\n",
    "    # 训练模型。\n",
    "    STEPS = 10000\n",
    "    for i in range(STEPS):\n",
    "        start = (i*batch_size) % 160\n",
    "        end = (i*batch_size) % 160 + batch_size\n",
    "        sess.run(train_step, feed_dict={x: X[start:end], y_: Y[start:end]})\n",
    "        if i % 1000 == 0:\n",
    "            total_cross_entropy = sess.run(cross_entropy, feed_dict={x: X, y_: Y})\n",
    "            trian_output = sess.run(y, feed_dict={x: X, y_: Y})\n",
    "            train_accuracy = accuracy(trian_output, Y)\n",
    "            test_output = sess.run(y, feed_dict={x: X_t, y_: Y_t})\n",
    "            test_accuracy = accuracy(test_output, Y_t)\n",
    "            print(\"After %d training step(s), cross entropy on all data is \"\n",
    "                  \"%3f, Trian accuracy is %.2f, Test accuracy is %.2f\" % (\n",
    "                      i, total_cross_entropy, train_accuracy, test_accuracy))\n",
    "    # 输出训练后的参数取值。\n",
    "    print(\"\\n\")\n",
    "    print(\"w1:\", sess.run(w1))\n",
    "    print(\"w2:\", sess.run(w2))\n",
    "    plot_decision_regions(X, Y, y)\n",
    "    plt.legend(loc=0)\n",
    "    plt.show()"
   ]
  },
  {
   "cell_type": "markdown",
   "metadata": {
    "deletable": true,
    "editable": true
   },
   "source": [
    "└通过观察决策界面，发现效果偶尔比全部迭代效果要好一些，这具体是什么原因呢？？"
   ]
  },
  {
   "cell_type": "markdown",
   "metadata": {
    "deletable": true,
    "editable": true
   },
   "source": [
    "## 4. Refrences：\n",
    "\n",
    "### Tensorflow:\n",
    "\n",
    "1. [deep-learning-book/appendix_g_tensorflow-basics.ipynb at master · rasbt/deep-learning-book](https://github.com/rasbt/deep-learning-book/blob/master/code/appendix_g_tensorflow-basics.ipynb) Deep Learning book 这本书的 TensorFlow 附录，关于 TensorFlow 的基础，配合童老师的介绍，食用更佳；\n",
    "2. [Constants, Sequences, and Random Values  |  TensorFlow](https://www.tensorflow.org/versions/r0.10/api_docs/python/constant_op/) 有了以上基础，若对一个类或方法有更多兴趣，可查查 API；\n",
    "3. [aymericdamien/TensorFlow-Examples: TensorFlow Tutorial and Examples for beginners](https://github.com/aymericdamien/TensorFlow-Examples) 更进一步，可看看一些机器学习算法用 TensorFlow 实现的例子。\n",
    "\n",
    "### 书籍：\n",
    "\n",
    "* [rasbt/python-machine-learning-book: The \"Python Machine Learning\" book code repository and info resource](https://github.com/rasbt/python-machine-learning-book) 属于机器学习必看书籍\n",
    "* [rasbt/deep-learning-book: Repository for \"Introduction to Artificial Neural Networks and Deep Learning: A Practical Guide with Applications in Python\"](https://github.com/rasbt/deep-learning-book)\n",
    "* [Tensorflow：实战Google深度学习框架 (豆瓣)](https://book.douban.com/subject/26976457/?utm_campaign=douban_search_top_right&utm_medium=pc_web&utm_source=douban) 这本书深入浅出，我读了前两章，很有收获，特别是关于训练神经网络过程的部分，但也有坑的地方，我就被损失函数坑惨了。    \n",
    "* [TensorFlow实战 (豆瓣)](https://book.douban.com/subject/26974266/?utm_campaign=douban_search_top_right&utm_medium=pc_web&utm_source=douban) 这本还没来的及看，但网评不错。\n",
    "\n",
    "### 问答：\n",
    "\n",
    "* [What is the role of the activation function in a neural network? - Quora](https://www.quora.com/What-is-the-role-of-the-activation-function-in-a-neural-network)\n",
    "* [What is the sigmoid function, and what is its use in machine learning's neural networks? - Quora](https://www.quora.com/What-is-the-sigmoid-function-and-what-is-its-use-in-machine-learnings-neural-networks)\n",
    "* [Making predictions with a TensorFlow model - Stack Overflow](http://stackoverflow.com/questions/33711556/making-predictions-with-a-tensorflow-model)"
   ]
  }
 ],
 "metadata": {
  "kernelspec": {
   "display_name": "Python 3",
   "language": "python",
   "name": "python3"
  },
  "language_info": {
   "codemirror_mode": {
    "name": "ipython",
    "version": 3
   },
   "file_extension": ".py",
   "mimetype": "text/x-python",
   "name": "python",
   "nbconvert_exporter": "python",
   "pygments_lexer": "ipython3",
   "version": "3.5.2"
  }
 },
 "nbformat": 4,
 "nbformat_minor": 2
}
