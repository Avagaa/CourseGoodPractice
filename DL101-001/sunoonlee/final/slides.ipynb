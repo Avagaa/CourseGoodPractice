{
 "cells": [
  {
   "cell_type": "markdown",
   "metadata": {
    "collapsed": true,
    "slideshow": {
     "slide_type": "slide"
    }
   },
   "source": [
    "![cartoon](images/nmt_cartoon.png)\n",
    "\n",
    "## seq2seq 应用探索: 从文本摘要到机器翻译\n",
    "\n",
    "sunoonlee  \n",
    "2017.5.17\n"
   ]
  },
  {
   "cell_type": "markdown",
   "metadata": {
    "slideshow": {
     "slide_type": "slide"
    }
   },
   "source": [
    "## CONTENTS\n",
    "**GPU 与数据量**  \n",
    "**文本摘要探索**  \n",
    "**翻译模型改进**  \n",
    "**API 和微信机器人**  "
   ]
  },
  {
   "cell_type": "markdown",
   "metadata": {
    "slideshow": {
     "slide_type": "slide"
    }
   },
   "source": [
    "![data](images/data.jpg)\n",
    "\n",
    "## GPU 与数据量"
   ]
  },
  {
   "cell_type": "markdown",
   "metadata": {
    "slideshow": {
     "slide_type": "subslide"
    }
   },
   "source": [
    "### 数据量\n",
    "\n",
    "seq2seq 单次前向传播需要的计算量\n",
    "\n",
    "![computation](images/computation.png)\n",
    "\n",
    "-- [Introduction to Neural Machine Translation with GPUs (Part 2)](https://devblogs.nvidia.com/parallelforall/introduction-neural-machine-translation-gpus-part-2/)"
   ]
  },
  {
   "cell_type": "markdown",
   "metadata": {
    "slideshow": {
     "slide_type": "subslide"
    }
   },
   "source": [
    "### 数据量\n",
    "\n",
    "\n",
    "> Always train this type of model with GPUs! \n",
    "\n",
    "> To get a well-trained model, it takes about three to twelve days using a GeForce GTX Titan X.\n",
    "\n",
    "-- Kyunghyun Cho, [Introduction to Neural Machine Translation with GPUs (Part 3)](https://devblogs.nvidia.com/parallelforall/introduction-neural-machine-translation-gpus-part-3/)"
   ]
  },
  {
   "cell_type": "markdown",
   "metadata": {
    "slideshow": {
     "slide_type": "subslide"
    }
   },
   "source": [
    "### 数据量\n",
    "\n",
    "几周前:\n",
    "\n",
    "> 1万条语料太大, 笔记本都死了!\n",
    "\n",
    "现在:\n",
    "\n",
    "> 10万条语料太少..."
   ]
  },
  {
   "cell_type": "markdown",
   "metadata": {
    "slideshow": {
     "slide_type": "subslide"
    }
   },
   "source": [
    "### 谷歌云平台\n",
    "\n",
    "* 单 GPU (Tesla K80) 比自己电脑快 15-20 倍 (矩阵乘法算例)\n",
    "* 感谢免费账户\n",
    "![billing](images/gce_billing.png)"
   ]
  },
  {
   "cell_type": "markdown",
   "metadata": {
    "slideshow": {
     "slide_type": "slide"
    }
   },
   "source": [
    "![summarize](images/summarize.jpg)\n",
    "\n",
    "## 文本摘要探索\n"
   ]
  },
  {
   "cell_type": "markdown",
   "metadata": {
    "slideshow": {
     "slide_type": "subslide"
    }
   },
   "source": [
    "### 文本摘要 - 语料\n",
    "\n",
    "* 英文:\n",
    "  * Gigaword: 会员制, 需收费\n",
    "  * DUC: 小数据, 用来评测和比赛\n",
    "* 中文\n",
    "  * LCSTS: 比较好的语料, 取自新浪微博\n",
    "    * 发邮件没人理...\n",
    "  * 搜狗实验室新闻数据: 质量稍差"
   ]
  },
  {
   "cell_type": "markdown",
   "metadata": {
    "slideshow": {
     "slide_type": "subslide"
    }
   },
   "source": [
    "### 搜狗新闻语料处理\n",
    "\n",
    "* [搜狗实验室（Sogou Labs）- 搜狐新闻数据](http://www.sogou.com/labs/resource/cs.php)\n",
    "  * 共 1411996 条语料, 包括字段: url, title, content\n",
    "* 语料处理:\n",
    "  * 转换编码(gb18030 -> utf-8), 提取 XML 字段\n",
    "  * 根据 url 剔除质量较差的语料 (商品介绍, 广告, 论坛帖子...)\n",
    "  * 控制最大和最小长度\n",
    "* 最后得到 11w 条语料供训练\n",
    "* 处理过程见 [textsum/data.ipynb](https://github.com/sunoonlee/DeepLearning101/blob/master/final/textsum/data.ipynb)"
   ]
  },
  {
   "cell_type": "markdown",
   "metadata": {
    "slideshow": {
     "slide_type": "subslide"
    }
   },
   "source": [
    "### 文本摘要模型训练\n",
    "\n",
    "* 训练及测验结果: [textsum.ipynb](https://github.com/sunoonlee/DeepLearning101/blob/master/final/textsum/textsum.ipynb)\n",
    "* 效果不佳\n",
    "* 答疑结论: 数据量太小. \n",
    "* 对策:\n",
    "  * 1 - 缩小领域, 聚焦某一类新闻  -> 找不到数据\n",
    "  * 2 - 简化问题, 如 改为提取关键词\n",
    "  * 3 - 采用 end2end 之外的方法, 如基于句子的 embedding\n",
    "  * 4 - 弃坑  <-- 我的选择"
   ]
  },
  {
   "cell_type": "markdown",
   "metadata": {
    "slideshow": {
     "slide_type": "slide"
    }
   },
   "source": [
    "![translate](images/translate.jpg)\n",
    "## 翻译模型"
   ]
  },
  {
   "cell_type": "markdown",
   "metadata": {
    "slideshow": {
     "slide_type": "subslide"
    }
   },
   "source": [
    "### 任务流程\n",
    "\n",
    "1. Define Task\n",
    "  - 摘要, 翻译, ...\n",
    "2. Define Dataset\n",
    "3. Define metric\n",
    "  - 摘要 - `ROUGE`, 翻译 - `BLEU`\n",
    "4. Split dataset\n",
    "5. Establish a baseline\n",
    "6. Implement model\n",
    "\n",
    "-- Project advice from [cs224n-2017-lecture5.pdf](http://web.stanford.edu/class/cs224n/lectures/cs224n-2017-lecture5.pdf)"
   ]
  },
  {
   "cell_type": "markdown",
   "metadata": {
    "slideshow": {
     "slide_type": "subslide"
    }
   },
   "source": [
    "### 翻译模型 - 语料\n",
    "\n",
    "* 语料: [联合国平行语料](https://conferences.unite.un.org/UNCorpus). 质量较高.\n",
    "* 但计算资源仍然有限, 怎么办?\n",
    "* 语料筛选\n",
    "  * 只保留长度 6-15 的句子\n",
    "  * 剔除无意义的噪音句子\n",
    "* 词表大小和 UNK 比例\n",
    "  * 英文做 stemming\n",
    "  * 截断词频取 7~8\n",
    "  * 再剔除一轮 UNK 比例 > 0.05 的句子\n",
    "* 处理过程见 [data.ipynb](https://github.com/sunoonlee/DeepLearning101/blob/master/final/data.ipynb)"
   ]
  },
  {
   "cell_type": "markdown",
   "metadata": {
    "slideshow": {
     "slide_type": "subslide"
    }
   },
   "source": [
    "### 翻译模型 - 学习率\n",
    "\n",
    "学习率需要小心选择 (都是泪..)\n",
    "\n",
    "![learningrate](images/learningrates.jpeg)\n",
    "\n",
    "from: [CS231n](http://cs231n.github.io/neural-networks-3/)"
   ]
  },
  {
   "cell_type": "markdown",
   "metadata": {
    "slideshow": {
     "slide_type": "subslide"
    }
   },
   "source": [
    "### 翻译模型 - tips\n",
    "\n",
    "[neubig/nmt-tips: A tutorial about neural machine translation including tips on building practical systems](https://github.com/neubig/nmt-tips)\n",
    "* 非常好的 tips, 相见恨晚\n",
    "* 作者用 1w 条语料训练 英文-日文 翻译模型"
   ]
  },
  {
   "cell_type": "markdown",
   "metadata": {
    "slideshow": {
     "slide_type": "subslide"
    }
   },
   "source": [
    "### 翻译模型 - 指标\n",
    "\n",
    "* BLEU (bilingual evaluation understudy)\n",
    "\n",
    "```python\n",
    "from nltk.translate.bleu_score import corpus_bleu\n",
    "bleu = corpus_bleu(list_of_references, hypotheses)\n",
    "```\n"
   ]
  },
  {
   "cell_type": "markdown",
   "metadata": {
    "slideshow": {
     "slide_type": "subslide"
    }
   },
   "source": [
    "### 翻译模型 - 结果\n",
    "\n",
    "* 训练及测试结果见 [seq2seq_nmt.ipynb](https://github.com/sunoonlee/DeepLearning101/blob/master/final/seq2seq_nmt.ipynb)\n",
    "* 结果勉强可看\n",
    "* BLEU = 0.282"
   ]
  },
  {
   "cell_type": "markdown",
   "metadata": {
    "slideshow": {
     "slide_type": "slide"
    }
   },
   "source": [
    "![walle](images/walle.jpg)\n",
    "\n",
    "### API 和微信机器人"
   ]
  },
  {
   "cell_type": "markdown",
   "metadata": {
    "slideshow": {
     "slide_type": "subslide"
    }
   },
   "source": [
    "* 用 `flask-restful` 构建 API\n",
    "* 用 `wxpy` 方便地接入微信机器人\n",
    "\n",
    "```python\n",
    "bot = Bot()\n",
    "sess = tf.Session()\n",
    "model = prepare_model(sess, vocab_path, model_path)\n",
    "\n",
    "@bot.register()\n",
    "def reply(msg):\n",
    "    print(msg)\n",
    "    return model.decode(sess, [msg.text])\n",
    "\n",
    "bot.join()\n",
    "```"
   ]
  },
  {
   "cell_type": "markdown",
   "metadata": {
    "slideshow": {
     "slide_type": "subslide"
    }
   },
   "source": [
    "仅适合于\"联合国\"风格的短句...\n",
    "\n",
    "![wechat](images/wechat.jpeg)"
   ]
  },
  {
   "cell_type": "markdown",
   "metadata": {
    "slideshow": {
     "slide_type": "slide"
    }
   },
   "source": [
    "### 致谢\n",
    "\n",
    "感谢 DL101, 让我重新找回了久违的心流体验.  \n",
    "感谢童老师的精彩讲解和悉心指点.  \n",
    "感谢课程组和教练们的辛勤付出.  \n",
    "感谢三个月来共同学习的伙伴们.  "
   ]
  }
 ],
 "metadata": {
  "celltoolbar": "Slideshow",
  "kernelspec": {
   "display_name": "Python 3",
   "language": "python",
   "name": "python3"
  },
  "language_info": {
   "codemirror_mode": {
    "name": "ipython",
    "version": 3
   },
   "file_extension": ".py",
   "mimetype": "text/x-python",
   "name": "python",
   "nbconvert_exporter": "python",
   "pygments_lexer": "ipython3",
   "version": "3.5.2"
  },
  "toc": {
   "colors": {
    "hover_highlight": "#DAA520",
    "running_highlight": "#FF0000",
    "selected_highlight": "#FFD700"
   },
   "moveMenuLeft": true,
   "nav_menu": {
    "height": "512px",
    "width": "252px"
   },
   "navigate_menu": true,
   "number_sections": false,
   "sideBar": true,
   "threshold": 4,
   "toc_cell": false,
   "toc_section_display": "block",
   "toc_window_display": true,
   "widenNotebook": false
  },
  "widgets": {
   "state": {},
   "version": "1.0.0"
  }
 },
 "nbformat": 4,
 "nbformat_minor": 1
}
