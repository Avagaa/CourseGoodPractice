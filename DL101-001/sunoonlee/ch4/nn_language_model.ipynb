{
 "cells": [
  {
   "cell_type": "markdown",
   "metadata": {
    "deletable": true,
    "editable": true
   },
   "source": [
    "## word-embedding\n",
    "\n",
    "在构建 count-based 语言模型的时候，我们把所有看到的词都放入了 dict 里面，这时候影响不大，因为每个词占用的内存较小。\n",
    "\n",
    "在使用神经网络做自然语言处理的时候，我们一般都会对词表做一个截断操作，取最高频的 n 个（也有人按词频阈值做截断）。这样有两个好处：\n",
    "1. 减少模型的内存使用。\n",
    "2. 只出现过一两次的词，在整个优化过程中往往也很难学好。不如把这些词直接全看成未登录词。\n",
    "\n",
    "### 运行环境\n",
    "\n",
    "docker image `tensorflow/tensorflow`, Python 3.4.3"
   ]
  },
  {
   "cell_type": "code",
   "execution_count": 1,
   "metadata": {
    "collapsed": false,
    "deletable": true,
    "editable": true
   },
   "outputs": [
    {
     "name": "stdout",
     "output_type": "stream",
     "text": [
      "1.0.1\n"
     ]
    }
   ],
   "source": [
    "%matplotlib inline\n",
    "from collections import Counter\n",
    "import time\n",
    "import jieba\n",
    "import numpy as np\n",
    "import matplotlib.pyplot as plt\n",
    "import tensorflow as tf\n",
    "print(tf.__version__)"
   ]
  },
  {
   "cell_type": "markdown",
   "metadata": {
    "deletable": true,
    "editable": true
   },
   "source": [
    "### 读取语料，生成训练数据\n",
    "\n",
    "简便起见，忽略首尾词，否则需要设置文首文末的 token。  \n",
    "context words 取一左一右。"
   ]
  },
  {
   "cell_type": "code",
   "execution_count": 2,
   "metadata": {
    "collapsed": false,
    "deletable": true,
    "editable": true
   },
   "outputs": [
    {
     "name": "stderr",
     "output_type": "stream",
     "text": [
      "Building prefix dict from the default dictionary ...\n",
      "Loading model from cache /tmp/jieba.cache\n",
      "Loading model cost 0.757 seconds.\n",
      "Prefix dict has been built succesfully.\n"
     ]
    },
    {
     "data": {
      "text/plain": [
       "[('天色', 3), ('恐怖', 3), ('活该', 3), ('手续', 3), ('光阴', 3)]"
      ]
     },
     "execution_count": 2,
     "metadata": {},
     "output_type": "execute_result"
    }
   ],
   "source": [
    "read_size = 100000\n",
    "vocab_size = 2000 + 1  # 预留一个未登录词\n",
    "\n",
    "with open('../ch1/ZhangAiLing.txt', encoding='utf-8') as f:\n",
    "    corpus = f.read(read_size)\n",
    "\n",
    "words = [word for word in jieba.cut(corpus) if word not in ' \\n']\n",
    "word_cnt = Counter(words)\n",
    "vocab = [i[0] for i in word_cnt.most_common(vocab_size - 1)]  # 词表(高频截断)\n",
    "vocab.insert(0, 'UNK')\n",
    "\n",
    "# 将语料序列映射到 [0, vocab_size - 1] 内的整数, 未登录词为 0\n",
    "word_ids = [vocab.index(word) if (word in vocab) else 0 \n",
    "            for word in words]\n",
    "\n",
    "# 生成训练数据\n",
    "inputs_train = np.asarray([[word_ids[i-1], word_ids[i+1]] \n",
    "                           for i in range(1, len(word_ids) - 1)])\n",
    "labels_train = np.asarray(word_ids[1:-1])\n",
    "\n",
    "# 查看截断位置的词频\n",
    "word_cnt.most_common(vocab_size)[-5:]"
   ]
  },
  {
   "cell_type": "code",
   "execution_count": 3,
   "metadata": {
    "collapsed": false,
    "deletable": true,
    "editable": true
   },
   "outputs": [
    {
     "data": {
      "text/plain": [
       "(100000, 67488, 2001, (67486, 2), (67486,))"
      ]
     },
     "execution_count": 3,
     "metadata": {},
     "output_type": "execute_result"
    }
   ],
   "source": [
    "len(corpus), len(words), len(vocab), inputs_train.shape, labels_train.shape"
   ]
  },
  {
   "cell_type": "markdown",
   "metadata": {
    "deletable": true,
    "editable": true
   },
   "source": [
    "### 定义神经网络\n",
    "\n",
    "#### 定义 Variable 和 placeholder\n",
    "\n",
    "Word embeddings 定义为 Variable，需要做随机初始化。它相当于普通神经网络中的权重。\n",
    "\n",
    "inputs 是 int32 类型，每行为一条样本中输入词的 ID。这里我们需要对数据进行预处理，把高频词映射到 [1, vocab_size - 1] 之间，不在词表里面的词设置成 UNK, ID 为 0。\n",
    "\n",
    "inputs 的 Shape，第一维我们指定为 None，可以根据数据而变化，因此同样一个程序可以适应梯度下降时不同的 batch_size。"
   ]
  },
  {
   "cell_type": "code",
   "execution_count": 4,
   "metadata": {
    "collapsed": true,
    "deletable": true,
    "editable": true
   },
   "outputs": [],
   "source": [
    "tf.reset_default_graph()\n",
    "word_embedding_dim = 50\n",
    "word_embeddings = tf.Variable(tf.random_uniform([vocab_size, word_embedding_dim]))\n",
    "inputs = tf.placeholder(tf.int32, shape=[None, 2], name='inputs')\n",
    "labels = tf.placeholder(tf.int32, shape=[None], name='labels')"
   ]
  },
  {
   "cell_type": "markdown",
   "metadata": {
    "deletable": true,
    "editable": true
   },
   "source": [
    "#### lookup 得到 input 词的 embedding\n",
    "\n",
    "对矩阵 inputs 作 lookup 之后，得到的是一个 rank-3 的张量。其第1个维度大小未知，取决于样本数量。"
   ]
  },
  {
   "cell_type": "code",
   "execution_count": 5,
   "metadata": {
    "collapsed": false,
    "deletable": true,
    "editable": true
   },
   "outputs": [
    {
     "data": {
      "text/plain": [
       "<tf.Tensor 'embedding_lookup:0' shape=(?, 2, 50) dtype=float32>"
      ]
     },
     "execution_count": 5,
     "metadata": {},
     "output_type": "execute_result"
    }
   ],
   "source": [
    "input_embeds = tf.nn.embedding_lookup(word_embeddings, inputs)\n",
    "input_embeds"
   ]
  },
  {
   "cell_type": "markdown",
   "metadata": {
    "deletable": true,
    "editable": true
   },
   "source": [
    "#### 词向量相加，并映射到输出层（N 个词的概率分布）\n",
    "\n",
    "接下来对两个 context 词的 word embedding 求和。\n",
    "\n",
    "reduce 开头的函数一般有一个 axis 参数，决定按行、按列或者按整个矩阵进行 reduce\n",
    "\n",
    "相加得到的 context_embds 的第一维仍然是未知的。"
   ]
  },
  {
   "cell_type": "code",
   "execution_count": 6,
   "metadata": {
    "collapsed": false,
    "deletable": true,
    "editable": true
   },
   "outputs": [
    {
     "data": {
      "text/plain": [
       "<tf.Tensor 'Sum:0' shape=(?, 50) dtype=float32>"
      ]
     },
     "execution_count": 6,
     "metadata": {},
     "output_type": "execute_result"
    }
   ],
   "source": [
    "context_embeds = tf.reduce_sum(input_embeds, axis=1)\n",
    "context_embeds"
   ]
  },
  {
   "cell_type": "code",
   "execution_count": 7,
   "metadata": {
    "collapsed": false,
    "deletable": true,
    "editable": true
   },
   "outputs": [
    {
     "data": {
      "text/plain": [
       "(TensorShape([Dimension(None), Dimension(2001)]), (67486,))"
      ]
     },
     "execution_count": 7,
     "metadata": {},
     "output_type": "execute_result"
    }
   ],
   "source": [
    "raw_output = tf.layers.dense(context_embeds, vocab_size)\n",
    "output = tf.nn.softmax(raw_output)\n",
    "raw_output.shape, labels_train.shape"
   ]
  },
  {
   "cell_type": "markdown",
   "metadata": {
    "deletable": true,
    "editable": true
   },
   "source": [
    "#### cost function\n",
    "\n",
    "与 sigmoid 类似, softmax 配合 cross entropy 的时候，在求导时两个连着看，也可以做分母的消除，因此在计算 cost 的时候我们要把 raw_output 喂给 tf 的这个损失函数.\n",
    "\n",
    "因为我们每个样本的 label 只有一个，使用稠密的 softmax 算 cost 及求导太浪费了。这里使用 sparse 版本即可。如果你的 label 是完整的 N 个词上的概率分布，这时候可以使用 tf.nn.softmax_cross_entropy_with_logits"
   ]
  },
  {
   "cell_type": "code",
   "execution_count": 8,
   "metadata": {
    "collapsed": true,
    "deletable": true,
    "editable": true
   },
   "outputs": [],
   "source": [
    "cost = tf.reduce_mean(\n",
    "    tf.nn.sparse_softmax_cross_entropy_with_logits(logits=raw_output, labels=labels))"
   ]
  },
  {
   "cell_type": "markdown",
   "metadata": {
    "deletable": true,
    "editable": true
   },
   "source": [
    "### 训练\n",
    "\n",
    "最初用全量梯度下降, 后改用随机梯度下降(v2), 速度明显加快.  \n",
    "再由随机梯度下降改为小批量梯度下降(v4)\n",
    "\n",
    "不过不大理解的是, 为什么 cost 在训练后期反而上升?"
   ]
  },
  {
   "cell_type": "code",
   "execution_count": 9,
   "metadata": {
    "collapsed": false,
    "deletable": true,
    "editable": true
   },
   "outputs": [
    {
     "data": {
      "text/plain": [
       "(TensorShape([Dimension(None)]),\n",
       " (67486,),\n",
       " TensorShape([Dimension(None), Dimension(2)]),\n",
       " (67486, 2))"
      ]
     },
     "execution_count": 9,
     "metadata": {},
     "output_type": "execute_result"
    }
   ],
   "source": [
    "labels.shape, labels_train.shape, inputs.shape, inputs_train.shape"
   ]
  },
  {
   "cell_type": "code",
   "execution_count": 34,
   "metadata": {
    "collapsed": false,
    "deletable": true,
    "editable": true
   },
   "outputs": [],
   "source": [
    "learning_rate = 3\n",
    "epochs = 1000\n",
    "print_cost_every = 10\n",
    "batch_size = 100\n",
    "feed = {inputs: inputs_train, labels: labels_train}  # full-batch feed"
   ]
  },
  {
   "cell_type": "code",
   "execution_count": 35,
   "metadata": {
    "collapsed": false,
    "deletable": true,
    "editable": true
   },
   "outputs": [
    {
     "name": "stdout",
     "output_type": "stream",
     "text": [
      "Round 000 - Cost: 7.63822\n",
      "Round 010 - Cost: 3.32822\n",
      "Round 020 - Cost: 3.07603\n",
      "Round 030 - Cost: 3.02027\n",
      "Round 040 - Cost: 3.02089\n",
      "Round 050 - Cost: 3.03762\n",
      "Round 060 - Cost: 3.05802\n",
      "Round 070 - Cost: 3.07785\n",
      "Round 080 - Cost: 3.09582\n",
      "KeyboardInterrupt\n",
      "\n",
      "time: 452.78 s\n"
     ]
    }
   ],
   "source": [
    "# writer = tf.summary.FileWriter('/tensorflow/tf')\n",
    "# cost_summary = tf.summary.scalar('cost_', cost)\n",
    "# embedding_summary = tf.summary.histogram('embeddings_', word_embeddings)\n",
    "# merged = tf.summary.merge_all()\n",
    "\n",
    "train_step = tf.train.GradientDescentOptimizer(learning_rate).minimize(cost)\n",
    "\n",
    "sess = tf.Session()\n",
    "sess.run(tf.global_variables_initializer())\n",
    "costs = []\n",
    "\n",
    "# 训练集的随机序号\n",
    "num_inputs = len(labels_train)\n",
    "order = np.arange(num_inputs)\n",
    "np.random.shuffle(order)\n",
    "\n",
    "start_time = time.time()\n",
    "\n",
    "try:\n",
    "    for i in range(epochs):\n",
    "        if i % print_cost_every == 0:\n",
    "            cost_value, merged_value = sess.run([cost, merged], feed_dict=feed)\n",
    "            print(\"Epoch {:03d} - Cost: {:.5f}\".format(i, cost_value))\n",
    "            costs.append(cost_value)\n",
    "            writer.add_summary(merged_value, i)\n",
    "        for j in range(0, num_inputs, batch_size):\n",
    "            batch_index = order[j: j + batch_size]\n",
    "            batch_inputs = inputs_train[batch_index]\n",
    "            batch_labels = labels_train[batch_index]\n",
    "            batch_feed = {inputs: batch_inputs, labels: batch_labels}\n",
    "            sess.run(train_step, feed_dict=batch_feed)\n",
    "except KeyboardInterrupt:\n",
    "    print('KeyboardInterrupt')\n",
    "finally:\n",
    "    end_time = time.time()\n",
    "    print('\\ntime: {:.2f} s'.format(end_time - start_time))"
   ]
  },
  {
   "cell_type": "code",
   "execution_count": 36,
   "metadata": {
    "collapsed": false,
    "deletable": true,
    "editable": true
   },
   "outputs": [
    {
     "data": {
      "image/png": "[encoded data removed]",
      "text/plain": [
       "<matplotlib.figure.Figure at 0x7f74cc57ea58>"
      ]
     },
     "metadata": {},
     "output_type": "display_data"
    }
   ],
   "source": [
    "plt.plot(costs);"
   ]
  },
  {
   "cell_type": "markdown",
   "metadata": {
    "deletable": true,
    "editable": true
   },
   "source": [
    "### 比较词向量相似性\n",
    "\n",
    "完成 3 个名词各自最相近的 Top 10 个词的检索\n",
    "\n",
    "原先用 for 循环的方式, 后按童老师建议修改为矩阵乘法方式, 参考 [tensorflow_cookbook/05_Working_With_CBOW.ipynb](https://github.com/nfmcclure/tensorflow_cookbook/blob/master/07_Natural_Language_Processing/05_Working_With_CBOW_Embeddings/05_Working_With_CBOW.ipynb)"
   ]
  },
  {
   "cell_type": "code",
   "execution_count": 37,
   "metadata": {
    "collapsed": false,
    "deletable": true,
    "editable": true
   },
   "outputs": [],
   "source": [
    "validate_words = ['叔惠', '家里', '茶杯', '手套']\n",
    "validate_ids = [vocab.index(word) for word in validate_words]\n",
    "validate_inputs = tf.constant(validate_ids, dtype=tf.int32)\n",
    "\n",
    "norm = tf.sqrt(tf.reduce_sum(tf.square(word_embeddings), 1, keep_dims=True))\n",
    "normalized_embeddings = word_embeddings / norm\n",
    "validate_embeddings = tf.nn.embedding_lookup(normalized_embeddings, validate_inputs)\n",
    "similarity = tf.matmul(validate_embeddings, normalized_embeddings, transpose_b=True)"
   ]
  },
  {
   "cell_type": "code",
   "execution_count": 38,
   "metadata": {
    "collapsed": false,
    "deletable": true,
    "editable": true
   },
   "outputs": [
    {
     "name": "stdout",
     "output_type": "stream",
     "text": [
      "similar to 叔惠:\n",
      "['世钧', '慕瑾', '他', '曼桢', '顾太太', '她', '我', '一鹏', '嘴里', '翠芝']\n",
      "similar to 家里:\n",
      "['一幢', '身上', '妹妹', '对于', '这儿', '一块儿', '将来', '和世钧', '乡下', '房里']\n",
      "similar to 茶杯:\n",
      "['鞋子', '公馆', '听筒', '鞋', '无线电', '使劲', '抽屉', '裤袋', '这间', '里头']\n",
      "similar to 手套:\n",
      "['白', '钟', '茶叶', '报纸', '头发', '镜子', '背', '枕头', '包车', '桂花']\n"
     ]
    }
   ],
   "source": [
    "sim_values = sess.run(similarity, feed_dict=feed)\n",
    "for i in range(len(validate_words)):\n",
    "    word = validate_words[i]\n",
    "    similar_ids = (-sim_values[i, :]).argsort()[1: 11]\n",
    "    similar_words = [vocab[j] for j in similar_ids]\n",
    "    print('similar to {}:'.format(word))\n",
    "    print(similar_words)"
   ]
  },
  {
   "cell_type": "markdown",
   "metadata": {
    "deletable": true,
    "editable": true
   },
   "source": [
    "### ch6 task1: 比较不同 batch_size 的预测运算时间"
   ]
  },
  {
   "cell_type": "code",
   "execution_count": 39,
   "metadata": {
    "collapsed": false,
    "deletable": true,
    "editable": true
   },
   "outputs": [],
   "source": [
    "def batch_predict_time(size):\n",
    "    batch_index = np.random.choice(num_inputs, size, replace=False)\n",
    "    batch_inputs = inputs_train[batch_index]        \n",
    "    predictions = tf.argmax(output, 1)\n",
    "    start = time.time()\n",
    "    predictions_val = sess.run(predictions, feed_dict={inputs: batch_inputs})\n",
    "    end = time.time()\n",
    "    return end - start"
   ]
  },
  {
   "cell_type": "code",
   "execution_count": 40,
   "metadata": {
    "collapsed": false,
    "deletable": true,
    "editable": true
   },
   "outputs": [
    {
     "name": "stdout",
     "output_type": "stream",
     "text": [
      "10 loops, best of 3: 38.9 ms per loop\n"
     ]
    }
   ],
   "source": [
    "%timeit batch_predict_time(1)"
   ]
  },
  {
   "cell_type": "code",
   "execution_count": 41,
   "metadata": {
    "collapsed": false,
    "deletable": true,
    "editable": true
   },
   "outputs": [
    {
     "name": "stdout",
     "output_type": "stream",
     "text": [
      "10 loops, best of 3: 41.5 ms per loop\n"
     ]
    }
   ],
   "source": [
    "%timeit batch_predict_time(100)"
   ]
  },
  {
   "cell_type": "code",
   "execution_count": 42,
   "metadata": {
    "collapsed": false,
    "deletable": true,
    "editable": true
   },
   "outputs": [
    {
     "name": "stdout",
     "output_type": "stream",
     "text": [
      "10 loops, best of 3: 64.2 ms per loop\n"
     ]
    }
   ],
   "source": [
    "%timeit batch_predict_time(1000)"
   ]
  },
  {
   "cell_type": "code",
   "execution_count": 45,
   "metadata": {
    "collapsed": false,
    "deletable": true,
    "editable": true
   },
   "outputs": [
    {
     "data": {
      "text/plain": [
       "(0.05188274383544922, 0.05747032165527344, 0.06839132308959961)"
      ]
     },
     "execution_count": 45,
     "metadata": {},
     "output_type": "execute_result"
    }
   ],
   "source": [
    "batch_predict_time(1), batch_predict_time(100), batch_predict_time(1000)"
   ]
  },
  {
   "cell_type": "markdown",
   "metadata": {
    "deletable": true,
    "editable": true
   },
   "source": [
    "结果: \n",
    "* 预测的 batch_size 从 1 增大到 100, 耗费的时间竟然没怎么增加!\n",
    "* 从 1 到 1000, 耗费的时间也没有超过两倍."
   ]
  },
  {
   "cell_type": "markdown",
   "metadata": {
    "deletable": true,
    "editable": true
   },
   "source": [
    "### ChangeLog\n",
    "\n",
    "\n",
    "`v4a`\n",
    "* 学习率由 0.1 改为 3, 训练时间从 1h+ 减少至 不到10分钟...\n",
    "* 教训: 训练前, **确保学习率在能收敛的前提下取较大的值!** 特别是在模型变更之后, 学习率要重新选取\n",
    "\n",
    "`v4`\n",
    "* 改用 mini-batch 梯度下降. (batch size 100, 学习率 0.1)\n",
    "* 奇怪, 训练速度并没有加快. 用时 5000+ s.\n",
    "  * 学习率取得太小了!!\n",
    "\n",
    "`v3`\n",
    "* 样本加大到 10w 词(有效词 6w+), 词向量维度 30->50, vocab_size 400->2000\n",
    "* 结果的相似性明显提高\n",
    "* 按 ch5 task2 增加 summary 输出\n",
    "\n",
    "`v2`\n",
    "* 采用 SGD, 速度明显加快\n",
    "* 用向量化方法计算相似度, 取代低效的 for 循环\n",
    "\n",
    "`v0~v1`  \n",
    "* 结果大体上有一点 sense。人名对人名，物件对物件。  \n",
    "* 考虑到这些前提，结果大致可以接受：\n",
    "    * 样本不到 10000 词，算非常小了\n",
    "    * context 只取了一左一右两个词，并不能很准确地捕捉上下文\n",
    "    * 并未做什么优化"
   ]
  }
 ],
 "metadata": {
  "kernelspec": {
   "display_name": "Python 3",
   "language": "python",
   "name": "python3"
  },
  "language_info": {
   "codemirror_mode": {
    "name": "ipython",
    "version": 3
   },
   "file_extension": ".py",
   "mimetype": "text/x-python",
   "name": "python",
   "nbconvert_exporter": "python",
   "pygments_lexer": "ipython3",
   "version": "3.4.3"
  }
 },
 "nbformat": 4,
 "nbformat_minor": 2
}
