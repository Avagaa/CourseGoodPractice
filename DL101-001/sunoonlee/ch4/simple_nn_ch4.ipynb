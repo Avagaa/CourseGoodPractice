{
 "cells": [
  {
   "cell_type": "markdown",
   "metadata": {
    "deletable": true,
    "editable": true
   },
   "source": [
    "# Tensorflow 实现单隐层神经网络\n",
    "\n",
    "环境：docker image `tensorflow/tensorflow:latest-py3 (Python 3.4.3)`\n",
    "\n",
    "由 `../ch3/simple_neural_network,ipynb` 修改而来，用于 ch4 task2"
   ]
  },
  {
   "cell_type": "code",
   "execution_count": 1,
   "metadata": {
    "collapsed": false,
    "deletable": true,
    "editable": true
   },
   "outputs": [],
   "source": [
    "%matplotlib inline\n",
    "import tensorflow as tf\n",
    "import numpy as np\n",
    "from matplotlib import pyplot as plt\n",
    "tf.logging.set_verbosity(tf.logging.ERROR)  # 只输出 Error 信息"
   ]
  },
  {
   "cell_type": "markdown",
   "metadata": {
    "deletable": true,
    "editable": true
   },
   "source": [
    "### 加载 csv 文件"
   ]
  },
  {
   "cell_type": "code",
   "execution_count": 2,
   "metadata": {
    "collapsed": false,
    "deletable": true,
    "editable": true
   },
   "outputs": [
    {
     "data": {
      "text/plain": [
       "((200, 2), (200,))"
      ]
     },
     "execution_count": 2,
     "metadata": {},
     "output_type": "execute_result"
    }
   ],
   "source": [
    "DATAFILE = '../ch3/data/data.csv'\n",
    "dataset = tf.contrib.learn.datasets.base.load_csv_without_header(\n",
    "    filename=DATAFILE,\n",
    "    target_dtype=np.int,\n",
    "    features_dtype=np.float32)\n",
    "\n",
    "dataset.data.shape, dataset.target.shape"
   ]
  },
  {
   "cell_type": "markdown",
   "metadata": {},
   "source": [
    "## 1. 练习行/列向量形式的变换\n",
    "\n",
    "主要区别包括：\n",
    "* weight 矩阵的 shape 不同：行向量 `[input_dim, output_dim]`，列向量 `[output_dim, input_dim]`\n",
    "* 矩阵乘法的左右顺序不同：行向量 `x * W`, 列向量 `W * x`\n",
    "\n",
    "上次用的是行向量，这次改为列向量形式。"
   ]
  },
  {
   "cell_type": "code",
   "execution_count": 3,
   "metadata": {
    "collapsed": true
   },
   "outputs": [],
   "source": [
    "def add_nn_layer(input_, weight, bias, activation=None):\n",
    "    # 假设 input_ 中每一列是一个样本\n",
    "    raw_output = tf.add(tf.matmul(weight, input_), bias)\n",
    "    if activation:\n",
    "        return activation(raw_output)\n",
    "    else:\n",
    "        return raw_output\n",
    "\n",
    "def generate_weight_and_bias(input_dim, output_dim):\n",
    "    w = tf.Variable(tf.random_uniform([output_dim, input_dim]))\n",
    "    bias = tf.Variable(tf.random_uniform([output_dim, 1]))\n",
    "    return (w, bias)\n",
    "\n",
    "def accuracy(preds, labels):\n",
    "    return ((preds > 0.5) == labels).sum() / len(labels)"
   ]
  },
  {
   "cell_type": "code",
   "execution_count": 4,
   "metadata": {
    "collapsed": false
   },
   "outputs": [],
   "source": [
    "x = tf.placeholder(tf.float32, [2, None])\n",
    "y = tf.placeholder(tf.float32, [1, None])\n",
    "num_units = 8  # 隐层节点数\n",
    "\n",
    "# 定义参数\n",
    "W1, b1 = generate_weight_and_bias(2, num_units)  # 输入层->隐层\n",
    "W2, b2 = generate_weight_and_bias(num_units, 1)  # 隐层->输出层\n",
    "\n",
    "# 定义模型和损失函数\n",
    "hidden = add_nn_layer(x, W1, b1, tf.tanh)\n",
    "nn_raw = add_nn_layer(hidden, W2, b2)\n",
    "nn = tf.sigmoid(nn_raw)\n",
    "loss_nn = tf.losses.sigmoid_cross_entropy(y, nn_raw)  # 需要用激活前的输出"
   ]
  },
  {
   "cell_type": "code",
   "execution_count": 5,
   "metadata": {
    "collapsed": false
   },
   "outputs": [
    {
     "data": {
      "text/plain": [
       "(TensorShape([Dimension(2), Dimension(None)]),\n",
       " TensorShape([Dimension(1), Dimension(None)]),\n",
       " TensorShape([Dimension(1), Dimension(None)]))"
      ]
     },
     "execution_count": 5,
     "metadata": {},
     "output_type": "execute_result"
    }
   ],
   "source": [
    "x.shape, y.shape, nn.shape"
   ]
  },
  {
   "cell_type": "markdown",
   "metadata": {},
   "source": [
    "### 训练"
   ]
  },
  {
   "cell_type": "code",
   "execution_count": 6,
   "metadata": {
    "collapsed": false
   },
   "outputs": [
    {
     "data": {
      "image/png": "[encoded data removed]",
      "text/plain": [
       "<matplotlib.figure.Figure at 0x7f88712c5940>"
      ]
     },
     "metadata": {},
     "output_type": "display_data"
    }
   ],
   "source": [
    "# 准备 feed 数据\n",
    "size = dataset.target.shape[0]\n",
    "inputs = dataset.data.T\n",
    "labels = dataset.target.reshape(1, size)\n",
    "feed = {x: inputs, y: labels}\n",
    "\n",
    "# 训练\n",
    "sess = tf.Session()\n",
    "sess.run(tf.global_variables_initializer())\n",
    "train = tf.train.GradientDescentOptimizer(0.3).minimize(loss_nn)\n",
    "losses_nn = []\n",
    "for i in range(2000):\n",
    "    sess.run(train, feed)\n",
    "    losses_nn.append(sess.run(loss_nn, feed))\n",
    "\n",
    "plt.plot(losses_nn);"
   ]
  },
  {
   "cell_type": "markdown",
   "metadata": {},
   "source": [
    "### 评估准确率"
   ]
  },
  {
   "cell_type": "code",
   "execution_count": 7,
   "metadata": {
    "collapsed": true
   },
   "outputs": [],
   "source": [
    "feed_pred = {x: inputs}\n",
    "preds = sess.run(nn, feed_pred)"
   ]
  },
  {
   "cell_type": "code",
   "execution_count": 8,
   "metadata": {
    "collapsed": false
   },
   "outputs": [
    {
     "data": {
      "text/plain": [
       "((2, 200), (1, 200), (1, 200))"
      ]
     },
     "execution_count": 8,
     "metadata": {},
     "output_type": "execute_result"
    }
   ],
   "source": [
    "inputs.shape, labels.shape, preds.shape  # 检查 shape"
   ]
  },
  {
   "cell_type": "code",
   "execution_count": 9,
   "metadata": {
    "collapsed": false
   },
   "outputs": [
    {
     "data": {
      "text/plain": [
       "1.0"
      ]
     },
     "execution_count": 9,
     "metadata": {},
     "output_type": "execute_result"
    }
   ],
   "source": [
    "accuracy(preds.reshape(size), labels.reshape(size))"
   ]
  },
  {
   "cell_type": "markdown",
   "metadata": {},
   "source": [
    "## 2. 利用 tf.layers.dense 定义神经网络\n",
    "\n",
    "为了方便调用 tf.layers.dense, 这里采用输入为行向量的形式。\n",
    "\n",
    "### 定义模型和损失函数\n",
    "\n",
    "借助 tf.layers.dense，可以省去自己定义 variable 和层间运算的麻烦，代码大为精简。需要注意的是它接受的 input 参数默认为行向量的形式。"
   ]
  },
  {
   "cell_type": "code",
   "execution_count": 10,
   "metadata": {
    "collapsed": false,
    "deletable": true,
    "editable": true
   },
   "outputs": [],
   "source": [
    "x = tf.placeholder(tf.float32, [None, 2])\n",
    "y = tf.placeholder(tf.float32, [None, 1])\n",
    "num_units = 8  # 隐层节点数\n",
    "\n",
    "hidden = tf.layers.dense(x, num_units, tf.tanh)\n",
    "nn_raw = tf.layers.dense(hidden, 1)\n",
    "nn = tf.sigmoid(nn_raw)\n",
    "loss_nn = tf.losses.sigmoid_cross_entropy(y, nn_raw)  # 需要用激活前的输出"
   ]
  },
  {
   "cell_type": "code",
   "execution_count": 11,
   "metadata": {
    "collapsed": false
   },
   "outputs": [
    {
     "data": {
      "text/plain": [
       "(TensorShape([Dimension(None), Dimension(2)]),\n",
       " TensorShape([Dimension(None), Dimension(1)]),\n",
       " TensorShape([Dimension(None), Dimension(1)]))"
      ]
     },
     "execution_count": 11,
     "metadata": {},
     "output_type": "execute_result"
    }
   ],
   "source": [
    "x.shape, y.shape, nn.shape"
   ]
  },
  {
   "cell_type": "markdown",
   "metadata": {},
   "source": [
    "### 训练"
   ]
  },
  {
   "cell_type": "code",
   "execution_count": 12,
   "metadata": {
    "collapsed": false,
    "deletable": true,
    "editable": true
   },
   "outputs": [
    {
     "data": {
      "image/png": "[encoded data removed]",
      "text/plain": [
       "<matplotlib.figure.Figure at 0x7f886cc7c780>"
      ]
     },
     "metadata": {},
     "output_type": "display_data"
    }
   ],
   "source": [
    "# 准备 feed 数据\n",
    "size = dataset.target.shape[0]\n",
    "inputs = dataset.data\n",
    "labels = dataset.target.reshape(size, 1)\n",
    "feed = {x: inputs, y: labels}\n",
    "\n",
    "# 训练\n",
    "sess = tf.Session()\n",
    "sess.run(tf.global_variables_initializer())\n",
    "train = tf.train.GradientDescentOptimizer(0.3).minimize(loss_nn)\n",
    "losses_nn = []\n",
    "for i in range(2000):\n",
    "    sess.run(train, feed)\n",
    "    losses_nn.append(sess.run(loss_nn, feed))\n",
    "\n",
    "plt.plot(losses_nn);"
   ]
  },
  {
   "cell_type": "markdown",
   "metadata": {},
   "source": [
    "### 评估准确率"
   ]
  },
  {
   "cell_type": "code",
   "execution_count": 13,
   "metadata": {
    "collapsed": false,
    "deletable": true,
    "editable": true
   },
   "outputs": [],
   "source": [
    "feed_pred = {x: inputs}\n",
    "preds = sess.run(nn, feed_pred)"
   ]
  },
  {
   "cell_type": "code",
   "execution_count": 14,
   "metadata": {
    "collapsed": false
   },
   "outputs": [
    {
     "data": {
      "text/plain": [
       "((200, 2), (200, 1), (200, 1))"
      ]
     },
     "execution_count": 14,
     "metadata": {},
     "output_type": "execute_result"
    }
   ],
   "source": [
    "inputs.shape, labels.shape, preds.shape"
   ]
  },
  {
   "cell_type": "code",
   "execution_count": 15,
   "metadata": {
    "collapsed": false
   },
   "outputs": [
    {
     "data": {
      "text/plain": [
       "1.0"
      ]
     },
     "execution_count": 15,
     "metadata": {},
     "output_type": "execute_result"
    }
   ],
   "source": [
    "accuracy(preds, labels)"
   ]
  }
 ],
 "metadata": {
  "kernelspec": {
   "display_name": "Python 3",
   "language": "python",
   "name": "python3"
  },
  "language_info": {
   "codemirror_mode": {
    "name": "ipython",
    "version": 3
   },
   "file_extension": ".py",
   "mimetype": "text/x-python",
   "name": "python",
   "nbconvert_exporter": "python",
   "pygments_lexer": "ipython3",
   "version": "3.4.3"
  }
 },
 "nbformat": 4,
 "nbformat_minor": 2
}
