{
 "cells": [
  {
   "cell_type": "markdown",
   "metadata": {
    "deletable": true,
    "editable": true
   },
   "source": [
    "## tensorflow 实现线性回归的随机梯度下降\n",
    "\n",
    "传统的梯度下降法在每一步迭代中计算梯度时都需要用到全部数据，因此也称为 batch gradient descent。当数据集非常大时，每一步的计算代价就会很大。随机梯度下降（stochastic gradient descent, 简称 SGD) 则是这种方法的一种随机近似（stochastic approximation)，每一步仅随机选取一条数据来计算梯度，减少了计算量。试验表明，随机梯度下降法的效率更高。\n",
    "\n",
    "环境：docker 镜像 `tensorflow/tensorflow:latest-py3 (Python 3.4.3)`"
   ]
  },
  {
   "cell_type": "code",
   "execution_count": 1,
   "metadata": {
    "collapsed": true,
    "deletable": true,
    "editable": true
   },
   "outputs": [],
   "source": [
    "%matplotlib inline\n",
    "import numpy as np\n",
    "from matplotlib import pyplot as plt\n",
    "import tensorflow as tf"
   ]
  },
  {
   "cell_type": "markdown",
   "metadata": {
    "deletable": true,
    "editable": true
   },
   "source": [
    "### 生成训练数据\n",
    "\n",
    "可以预先把数据集顺序打乱"
   ]
  },
  {
   "cell_type": "code",
   "execution_count": 2,
   "metadata": {
    "collapsed": false,
    "deletable": true,
    "editable": true
   },
   "outputs": [
    {
     "data": {
      "image/png": "[encoded data removed]",
      "text/plain": [
       "<matplotlib.figure.Figure at 0x7f52a6236128>"
      ]
     },
     "metadata": {},
     "output_type": "display_data"
    }
   ],
   "source": [
    "size = 20\n",
    "x_train = np.arange(size, dtype=float)\n",
    "np.random.shuffle(x_train)  # 打乱顺序（更严格的方式是每一遍分别打乱）\n",
    "y_train = 100.0 + 2.0 * x_train + np.random.normal(scale=1, size=size)\n",
    "plt.plot(x_train, y_train, '.');"
   ]
  },
  {
   "cell_type": "markdown",
   "metadata": {
    "deletable": true,
    "editable": true
   },
   "source": [
    "### 定义模型和损失函数"
   ]
  },
  {
   "cell_type": "code",
   "execution_count": 3,
   "metadata": {
    "collapsed": false,
    "deletable": true,
    "editable": true
   },
   "outputs": [],
   "source": [
    "w = tf.Variable([0.], tf.float32)  # 神经网络初始化必须用随机数\n",
    "b = tf.Variable([0.], tf.float32)\n",
    "x = tf.placeholder(tf.float32)\n",
    "y = tf.placeholder(tf.float32)\n",
    "y_bar = w * x + b\n",
    "cost = tf.reduce_mean(tf.square(y_bar - y))"
   ]
  },
  {
   "cell_type": "markdown",
   "metadata": {
    "deletable": true,
    "editable": true
   },
   "source": [
    "### 训练"
   ]
  },
  {
   "cell_type": "code",
   "execution_count": 4,
   "metadata": {
    "collapsed": false,
    "deletable": true,
    "editable": true
   },
   "outputs": [
    {
     "data": {
      "text/plain": [
       "[array([ 2.03386354], dtype=float32), array([ 99.41652679], dtype=float32)]"
      ]
     },
     "execution_count": 4,
     "metadata": {},
     "output_type": "execute_result"
    }
   ],
   "source": [
    "train = tf.train.GradientDescentOptimizer(0.001).minimize(cost)\n",
    "init = tf.global_variables_initializer()\n",
    "sess = tf.Session()\n",
    "sess.run(init)\n",
    "for i in range(500):\n",
    "    for j in range(size):\n",
    "        sess.run(train, {x:x_train[j], y:y_train[j]})\n",
    "sess.run([w, b])"
   ]
  }
 ],
 "metadata": {
  "kernelspec": {
   "display_name": "Python 3",
   "language": "python",
   "name": "python3"
  },
  "language_info": {
   "codemirror_mode": {
    "name": "ipython",
    "version": 3
   },
   "file_extension": ".py",
   "mimetype": "text/x-python",
   "name": "python",
   "nbconvert_exporter": "python",
   "pygments_lexer": "ipython3",
   "version": "3.4.3"
  }
 },
 "nbformat": 4,
 "nbformat_minor": 2
}
